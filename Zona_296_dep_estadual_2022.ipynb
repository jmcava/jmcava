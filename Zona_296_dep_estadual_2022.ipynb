{
  "nbformat": 4,
  "nbformat_minor": 0,
  "metadata": {
    "colab": {
      "provenance": [],
      "authorship_tag": "ABX9TyMaQQ85DVqQbLiV4oskBQ4s",
      "include_colab_link": true
    },
    "kernelspec": {
      "name": "python3",
      "display_name": "Python 3"
    },
    "language_info": {
      "name": "python"
    }
  },
  "cells": [
    {
      "cell_type": "markdown",
      "metadata": {
        "id": "view-in-github",
        "colab_type": "text"
      },
      "source": [
        "<a href=\"https://colab.research.google.com/github/jmcava/jmcava/blob/main/Zona_296_dep_estadual_2022.ipynb\" target=\"_parent\"><img src=\"https://colab.research.google.com/assets/colab-badge.svg\" alt=\"Open In Colab\"/></a>"
      ]
    },
    {
      "cell_type": "code",
      "source": [
        "!head -n 1 votacao_local_votacao-zona_2022_sp_296.csv"
      ],
      "metadata": {
        "colab": {
          "base_uri": "https://localhost:8080/"
        },
        "id": "E62i6kAj-LxD",
        "outputId": "41e07289-22b5-4687-a889-b581398517b1"
      },
      "execution_count": null,
      "outputs": [
        {
          "output_type": "stream",
          "name": "stdout",
          "text": [
            "aa_eleicao;cd_tipo_eleicao;nm_tipo_eleicao;cd_eleicao;ds_eleicao;dt_eleicao;sg_uf;cd_municipio;nm_municipio;nr_zona;nm_local_votacao;ds_local_votacao_endereco;nr_turno;ds_cargo;nr_votavel;nm_votavel;sq_candidato;qt_aptos;qt_comparecimento;qt_abstencoes;qt_votos_nominais;qt_votos;dt_carga;qt_registros\r\n"
          ]
        }
      ]
    },
    {
      "cell_type": "code",
      "source": [
        "import pandas as pd\n",
        "\n",
        "try:\n",
        "  colunas = pd.read_csv(\"votacao_local_votacao-zona_2022_sp_296.csv\", nrows=0, encoding='latin-1').columns #  Teste diferentes codificações aqui\n",
        "  print(colunas)\n",
        "except Exception as e:\n",
        "    print(f\"Ocorreu um erro: {e}\")"
      ],
      "metadata": {
        "colab": {
          "base_uri": "https://localhost:8080/"
        },
        "id": "MdU4xDnZ-s08",
        "outputId": "d6e14659-d2a6-4469-9ada-89b1736d436f"
      },
      "execution_count": null,
      "outputs": [
        {
          "output_type": "stream",
          "name": "stdout",
          "text": [
            "Index(['aa_eleicao;cd_tipo_eleicao;nm_tipo_eleicao;cd_eleicao;ds_eleicao;dt_eleicao;sg_uf;cd_municipio;nm_municipio;nr_zona;nm_local_votacao;ds_local_votacao_endereco;nr_turno;ds_cargo;nr_votavel;nm_votavel;sq_candidato;qt_aptos;qt_comparecimento;qt_abstencoes;qt_votos_nominais;qt_votos;dt_carga;qt_registros'], dtype='object')\n"
          ]
        }
      ]
    },
    {
      "cell_type": "code",
      "source": [
        "import pandas as pd\n",
        "import chardet\n",
        "\n",
        "# 1. Detectar a codificação\n",
        "with open(\"/content/votacao_local_votacao-zona_2022_sp_296.csv\", 'rb') as rawdata:\n",
        "    result = chardet.detect(rawdata.read(100000))\n",
        "\n",
        "# 2. Ler o CSV com a codificação detectada, separador correto e tratamento de erros\n",
        "try:\n",
        "    df_296 = pd.read_csv(\"/content/votacao_local_votacao-zona_2022_sp_296.csv\", encoding=result['encoding'], sep=\";\", on_bad_lines='skip')\n",
        "except Exception as e:\n",
        "    print(f\"Erro ao ler o CSV: {e}\")\n",
        "    # Trate o erro aqui, se necessário\n",
        "\n",
        "# 3. Filtrar para Deputados Estaduais (ds_cargo)\n",
        "df_dep_estaduais_296 = df_296[df_296['ds_cargo'] == 'DEPUTADO ESTADUAL']\n",
        "\n",
        "# 4. Agregar os votos por candidato (nm_votavel)\n",
        "df_agregado = df_dep_estaduais_296.groupby('nm_votavel')['qt_votos'].sum().reset_index()\n",
        "\n",
        "# 5. Ordenar por votos decrescentes\n",
        "df_ordenado = df_agregado.sort_values('qt_votos', ascending=False)\n",
        "\n",
        "# 6. Obter os 94 primeiros (deputados eleitos - assumindo que são 94)\n",
        "deputados_eleitos = df_ordenado.head(94)\n",
        "\n",
        "# 7. Imprimir o resultado\n",
        "print(deputados_eleitos)\n",
        "\n",
        "# (Opcional) Salvar em um arquivo CSV\n",
        "deputados_eleitos.to_csv(\"deputados_estaduais_eleitos_zona_296.csv\", index=False, encoding='utf-8')"
      ],
      "metadata": {
        "colab": {
          "base_uri": "https://localhost:8080/"
        },
        "id": "ZvSEWlFID6Ut",
        "outputId": "e3e606bb-b7fd-4384-d9f2-15f8783c2120"
      },
      "execution_count": null,
      "outputs": [
        {
          "output_type": "stream",
          "name": "stdout",
          "text": [
            "Empty DataFrame\n",
            "Columns: [nm_votavel, qt_votos]\n",
            "Index: []\n"
          ]
        }
      ]
    },
    {
      "cell_type": "code",
      "source": [
        "print(df_296.head())"
      ],
      "metadata": {
        "colab": {
          "base_uri": "https://localhost:8080/"
        },
        "id": "IHatBb7oF2Ra",
        "outputId": "ed358caa-9bf1-4ccb-f53b-b46667c199df"
      },
      "execution_count": null,
      "outputs": [
        {
          "output_type": "stream",
          "name": "stdout",
          "text": [
            "   aa_eleicao  cd_tipo_eleicao    nm_tipo_eleicao  cd_eleicao  \\\n",
            "0        2022                2  Eleição Ordinária         546   \n",
            "1        2022                2  Eleição Ordinária         546   \n",
            "2        2022                2  Eleição Ordinária         546   \n",
            "3        2022                2  Eleição Ordinária         546   \n",
            "4        2022                2  Eleição Ordinária         546   \n",
            "\n",
            "                       ds_eleicao           dt_eleicao sg_uf  cd_municipio  \\\n",
            "0  Eleições Gerais Estaduais 2022  2022-10-02 00:00:00    SP         70750   \n",
            "1  Eleições Gerais Estaduais 2022  2022-10-02 00:00:00    SP         70750   \n",
            "2  Eleições Gerais Estaduais 2022  2022-10-02 00:00:00    SP         70750   \n",
            "3  Eleições Gerais Estaduais 2022  2022-10-02 00:00:00    SP         70750   \n",
            "4  Eleições Gerais Estaduais 2022  2022-10-02 00:00:00    SP         70750   \n",
            "\n",
            "            nm_municipio  nr_zona  ... nr_votavel  \\\n",
            "0  SÃO BERNARDO DO CAMPO      409  ...      45000   \n",
            "1  SÃO BERNARDO DO CAMPO      414  ...      22001   \n",
            "2  SÃO BERNARDO DO CAMPO      409  ...      10017   \n",
            "3  SÃO BERNARDO DO CAMPO      283  ...      36190   \n",
            "4  SÃO BERNARDO DO CAMPO      174  ...      55300   \n",
            "\n",
            "                       nm_votavel  sq_candidato qt_aptos  qt_comparecimento  \\\n",
            "0       BRUNA DIAS FURLAN VICENTE  250001611444     7713               6281   \n",
            "1            MONICA BATALHA PRADO  250001610153     6157               5082   \n",
            "2           DANILO CESAR CAMPETTI  250001639541     4046               3367   \n",
            "3  ADRIANA SANCHES GALDEANO BORGO  250001721358     3887               3076   \n",
            "4  VALÉRIA APARECIDA COSTA TORRES  250001604990     5439               4315   \n",
            "\n",
            "  qt_abstencoes  qt_votos_nominais  qt_votos             dt_carga  \\\n",
            "0          1432               4878         1  2022-11-01 16:05:25   \n",
            "1          1075               4230         1  2022-11-01 16:05:25   \n",
            "2           679               2622         1  2022-11-01 16:05:25   \n",
            "3           811               2476         3  2022-11-01 16:05:25   \n",
            "4          1124               3431         1  2022-11-01 16:05:25   \n",
            "\n",
            "   qt_registros  \n",
            "0             1  \n",
            "1             1  \n",
            "2             1  \n",
            "3             1  \n",
            "4             1  \n",
            "\n",
            "[5 rows x 24 columns]\n"
          ]
        }
      ]
    },
    {
      "cell_type": "code",
      "source": [],
      "metadata": {
        "id": "AyqpeQ_SkZvV"
      },
      "execution_count": null,
      "outputs": []
    },
    {
      "cell_type": "code",
      "source": [
        "import pandas as pd\n",
        "\n",
        "try:\n",
        "  colunas = pd.read_csv(\"/content/votacao_local_votacao-zona_2022_sp_296.csv\", nrows=0, encoding='latin-1').columns #  Teste diferentes codificações aqui\n",
        "  print(colunas)\n",
        "except Exception as e:\n",
        "    print(f\"Ocorreu um erro: {e}\")"
      ],
      "metadata": {
        "colab": {
          "base_uri": "https://localhost:8080/"
        },
        "outputId": "01cb346a-a332-4e5e-e976-a9ba301c5c38",
        "id": "RkEo-M1UkaoZ"
      },
      "execution_count": null,
      "outputs": [
        {
          "output_type": "stream",
          "name": "stdout",
          "text": [
            "Index(['aa_eleicao;cd_tipo_eleicao;nm_tipo_eleicao;cd_eleicao;ds_eleicao;dt_eleicao;sg_uf;cd_municipio;nm_municipio;nr_zona;nm_local_votacao;ds_local_votacao_endereco;nr_turno;ds_cargo;nr_votavel;nm_votavel;sq_candidato;qt_aptos;qt_comparecimento;qt_abstencoes;qt_votos_nominais;qt_votos;dt_carga;qt_registros'], dtype='object')\n"
          ]
        }
      ]
    },
    {
      "cell_type": "code",
      "source": [
        "import pandas as pd\n",
        "import chardet\n",
        "\n",
        "# 1. Detectar a codificação\n",
        "with open(\"/content/votacao_candidato_296.csv\", 'rb') as rawdata:\n",
        "    result = chardet.detect(rawdata.read(100000))\n",
        "\n",
        "# 2. Ler o CSV com a codificação detectada e o separador correto\n",
        "try:\n",
        "    df_296 = pd.read_csv(\"/content/votacao_candidato_296.csv\", encoding=result['encoding'], sep=\";\")  # Adicione sep=\";\"\n",
        "except Exception as e:\n",
        "    print(f\"Erro ao ler o CSV: {e}\")\n",
        "    # Lide com o erro aqui, se necessário.  Experimente outras codificações se o erro persistir\n",
        "\n",
        "# Agora você pode verificar as colunas:\n",
        "print(df_296.columns)\n",
        "\n",
        "\n",
        "# ... (resto do seu código para processar os dados) ..."
      ],
      "metadata": {
        "colab": {
          "base_uri": "https://localhost:8080/"
        },
        "id": "B86P15N5lf9s",
        "outputId": "bcf6d172-6ed4-4e2b-bdb1-6b27c4cf8c36"
      },
      "execution_count": null,
      "outputs": [
        {
          "output_type": "stream",
          "name": "stdout",
          "text": [
            "Index(['Cargo', 'Situação totalização', 'Zona', 'Nome candidato', 'UF',\n",
            "       'Município', 'Ano de eleição', 'Votos nominais', 'Data de carga'],\n",
            "      dtype='object')\n"
          ]
        }
      ]
    },
    {
      "cell_type": "code",
      "source": [
        "import pandas as pd\n",
        "import chardet\n",
        "\n",
        "# ... (código para ler o CSV com a codificação e separador corretos, como na resposta anterior) ...\n",
        "\n",
        "# 3. Filtrar para Deputados Estaduais (Cargo)\n",
        "df_dep_estaduais_296 = df_296[df_296['Cargo'] == 'DEPUTADO ESTADUAL']\n",
        "\n",
        "# 4. Agregar os votos por candidato (Nome candidato)\n",
        "df_agregado = df_dep_estaduais_296.groupby('Nome candidato')['Votos nominais'].sum().reset_index()\n",
        "\n",
        "# 5. Ordenar por votos decrescentes\n",
        "df_ordenado = df_agregado.sort_values('Votos nominais', ascending=False)\n",
        "\n",
        "# 6. Obter os 94 primeiros (deputados eleitos - assumindo que são 94)\n",
        "deputados_eleitos = df_ordenado.head(94)\n",
        "\n",
        "# 7. Imprimir o resultado\n",
        "print(deputados_eleitos)\n",
        "\n",
        "# (Opcional) Salvar em um arquivo CSV\n",
        "deputados_eleitos.to_csv(\"deputados_estaduais_eleitos_zona_296.csv\", index=False, encoding='utf-8')"
      ],
      "metadata": {
        "colab": {
          "base_uri": "https://localhost:8080/"
        },
        "id": "nnZ55M5-l3J1",
        "outputId": "43797761-4026-4b7a-fed6-b8f97da825c0"
      },
      "execution_count": null,
      "outputs": [
        {
          "output_type": "stream",
          "name": "stdout",
          "text": [
            "Empty DataFrame\n",
            "Columns: [Nome candidato, Votos nominais]\n",
            "Index: []\n"
          ]
        }
      ]
    },
    {
      "cell_type": "code",
      "source": [
        "print(df_296['Cargo'].unique())"
      ],
      "metadata": {
        "colab": {
          "base_uri": "https://localhost:8080/"
        },
        "id": "qfAkluuDmXxN",
        "outputId": "8de89b92-ca3a-4603-b4d0-52ce1f53c0a7"
      },
      "execution_count": null,
      "outputs": [
        {
          "output_type": "stream",
          "name": "stdout",
          "text": [
            "['Deputado Estadual']\n"
          ]
        }
      ]
    },
    {
      "cell_type": "code",
      "source": [
        "df_dep_estaduais_296 = df_296[df_296['Cargo'] == 'Deputado Estadual']  # Case-sensitive"
      ],
      "metadata": {
        "id": "QSyu-X5fmllT"
      },
      "execution_count": null,
      "outputs": []
    },
    {
      "cell_type": "code",
      "source": [
        "print(df_296['Cargo'].isnull().sum())"
      ],
      "metadata": {
        "colab": {
          "base_uri": "https://localhost:8080/"
        },
        "id": "WiFSVzc6m1k4",
        "outputId": "0d2587ec-9c33-465e-80e9-ab1d01592c8d"
      },
      "execution_count": null,
      "outputs": [
        {
          "output_type": "stream",
          "name": "stdout",
          "text": [
            "0\n"
          ]
        }
      ]
    },
    {
      "cell_type": "code",
      "source": [
        "df_296 = df_296.dropna(subset=['Cargo'])"
      ],
      "metadata": {
        "id": "tn11rELZm7RO"
      },
      "execution_count": null,
      "outputs": []
    },
    {
      "cell_type": "code",
      "source": [
        "df_dep_estaduais_296 = df_296[df_296['Cargo'].str.contains(\"Deputado\", case=False, na=False)] # Case-insensitive, ignora nulos"
      ],
      "metadata": {
        "id": "7a39UmHOnBsI"
      },
      "execution_count": null,
      "outputs": []
    },
    {
      "cell_type": "code",
      "source": [
        "print(df_296.head(100)) # Imprime as primeiras 100 linhas\n",
        "# ou\n",
        "print(df_296) # imprime o DataFrame inteiro (se não for muito grande)"
      ],
      "metadata": {
        "id": "5isJ8d40nH4a"
      },
      "execution_count": null,
      "outputs": []
    },
    {
      "cell_type": "code",
      "source": [
        "print(df_296.head(100)) # Imprime as primeiras 100 linhas\n",
        "# ou\n",
        "print(df_296) # imprime o DataFrame inteiro (se não for muito grande)"
      ],
      "metadata": {
        "colab": {
          "base_uri": "https://localhost:8080/"
        },
        "id": "F9JboVtknMaj",
        "outputId": "c736ee49-a5dd-4cd1-9bc5-20136439b292"
      },
      "execution_count": null,
      "outputs": [
        {
          "output_type": "stream",
          "name": "stdout",
          "text": [
            "                Cargo Situação totalização  Zona  \\\n",
            "0   Deputado Estadual             Suplente   296   \n",
            "1   Deputado Estadual             Suplente   296   \n",
            "2   Deputado Estadual             Suplente   296   \n",
            "3   Deputado Estadual             Suplente   296   \n",
            "4   Deputado Estadual             Suplente   296   \n",
            "..                ...                  ...   ...   \n",
            "95  Deputado Estadual           Não Eleito   296   \n",
            "96  Deputado Estadual           Não Eleito   296   \n",
            "97  Deputado Estadual           Não Eleito   296   \n",
            "98  Deputado Estadual           Não Eleito   296   \n",
            "99  Deputado Estadual           Não Eleito   296   \n",
            "\n",
            "                       Nome candidato  UF              Município  \\\n",
            "0   CICERA SEVERINA DA CONCEIÇÃO MUSA  SP  SÃO BERNARDO DO CAMPO   \n",
            "1                  ALEXANDRA DE ABREU  SP  SÃO BERNARDO DO CAMPO   \n",
            "2                 RODRIGO BRUNO NAHAS  SP  SÃO BERNARDO DO CAMPO   \n",
            "3               RODRIGO REY RODRIGUEZ  SP  SÃO BERNARDO DO CAMPO   \n",
            "4             ALINE CARBALLO TEIXEIRA  SP  SÃO BERNARDO DO CAMPO   \n",
            "..                                ...  ..                    ...   \n",
            "95         ENEAS SILVA FERREIRA SALES  SP  SÃO BERNARDO DO CAMPO   \n",
            "96        ROBERIO DOS SANTOS BENEDITO  SP  SÃO BERNARDO DO CAMPO   \n",
            "97                  SOFIA BRAGA PALMA  SP  SÃO BERNARDO DO CAMPO   \n",
            "98    MARIA ESTELA CAPELETTI DA ROCHA  SP  SÃO BERNARDO DO CAMPO   \n",
            "99    DEIDILAN LIANG CORREIA DE SOUZA  SP  SÃO BERNARDO DO CAMPO   \n",
            "\n",
            "    Ano de eleição  Votos nominais        Data de carga  \n",
            "0             2022               1  2024-12-03 03:38:00  \n",
            "1             2022             205  2024-12-03 03:38:00  \n",
            "2             2022               6  2024-12-03 03:38:00  \n",
            "3             2022               2  2024-12-03 03:38:00  \n",
            "4             2022              10  2024-12-03 03:38:00  \n",
            "..             ...             ...                  ...  \n",
            "95            2022               0  2024-12-03 03:38:00  \n",
            "96            2022               0  2024-12-03 03:38:00  \n",
            "97            2022               0  2024-12-03 03:38:00  \n",
            "98            2022               0  2024-12-03 03:38:00  \n",
            "99            2022               0  2024-12-03 03:38:00  \n",
            "\n",
            "[100 rows x 9 columns]\n",
            "                  Cargo Situação totalização  Zona  \\\n",
            "0     Deputado Estadual             Suplente   296   \n",
            "1     Deputado Estadual             Suplente   296   \n",
            "2     Deputado Estadual             Suplente   296   \n",
            "3     Deputado Estadual             Suplente   296   \n",
            "4     Deputado Estadual             Suplente   296   \n",
            "...                 ...                  ...   ...   \n",
            "1919  Deputado Estadual           Não Eleito   296   \n",
            "1920  Deputado Estadual           Não Eleito   296   \n",
            "1921  Deputado Estadual           Não Eleito   296   \n",
            "1922  Deputado Estadual             Suplente   296   \n",
            "1923  Deputado Estadual           Não Eleito   296   \n",
            "\n",
            "                           Nome candidato  UF              Município  \\\n",
            "0       CICERA SEVERINA DA CONCEIÇÃO MUSA  SP  SÃO BERNARDO DO CAMPO   \n",
            "1                      ALEXANDRA DE ABREU  SP  SÃO BERNARDO DO CAMPO   \n",
            "2                     RODRIGO BRUNO NAHAS  SP  SÃO BERNARDO DO CAMPO   \n",
            "3                   RODRIGO REY RODRIGUEZ  SP  SÃO BERNARDO DO CAMPO   \n",
            "4                 ALINE CARBALLO TEIXEIRA  SP  SÃO BERNARDO DO CAMPO   \n",
            "...                                   ...  ..                    ...   \n",
            "1919                       MARCIA RAICHER  SP  SÃO BERNARDO DO CAMPO   \n",
            "1920  FRANCISCO UELITON DE OLIVEIRA SOUZA  SP  SÃO BERNARDO DO CAMPO   \n",
            "1921    SALVADOR FERREIRA DA SILVA JUNIOR  SP  SÃO BERNARDO DO CAMPO   \n",
            "1922        OLIVIO AUGUSTO FREITAS CHAVES  SP  SÃO BERNARDO DO CAMPO   \n",
            "1923              MARCELO OLIVEIRA ROSADO  SP  SÃO BERNARDO DO CAMPO   \n",
            "\n",
            "      Ano de eleição  Votos nominais        Data de carga  \n",
            "0               2022               1  2024-12-03 03:38:00  \n",
            "1               2022             205  2024-12-03 03:38:00  \n",
            "2               2022               6  2024-12-03 03:38:00  \n",
            "3               2022               2  2024-12-03 03:38:00  \n",
            "4               2022              10  2024-12-03 03:38:00  \n",
            "...              ...             ...                  ...  \n",
            "1919            2022               0  2024-12-03 03:38:00  \n",
            "1920            2022               0  2024-12-03 03:38:00  \n",
            "1921            2022               1  2024-12-03 03:38:00  \n",
            "1922            2022               2  2024-12-03 03:38:00  \n",
            "1923            2022               0  2024-12-03 03:38:00  \n",
            "\n",
            "[1924 rows x 9 columns]\n"
          ]
        }
      ]
    },
    {
      "cell_type": "code",
      "source": [
        "print(df_296['Cargo'].dtype)"
      ],
      "metadata": {
        "colab": {
          "base_uri": "https://localhost:8080/"
        },
        "id": "6t84Y_EdnTrS",
        "outputId": "991efaf5-c1d7-485b-a8d7-d5b130851aac"
      },
      "execution_count": null,
      "outputs": [
        {
          "output_type": "stream",
          "name": "stdout",
          "text": [
            "object\n"
          ]
        }
      ]
    },
    {
      "cell_type": "code",
      "source": [
        "import pandas as pd\n",
        "import matplotlib.pyplot as plt\n",
        "import chardet\n",
        "\n",
        "# Detecta a codificação\n",
        "with open(\"/content/votacao_candidato_296.csv\", 'rb') as rawdata:\n",
        "    result = chardet.detect(rawdata.read(100000))\n",
        "\n",
        "print(f\"Codificação detectada: {result['encoding']}\")\n",
        "\n",
        "# Carrega o CSV com a codificação e o separador corretos\n",
        "df_296 = pd.read_csv(\"/content/votacao_candidato_296.csv\", encoding=result['encoding'], sep=\";\")\n",
        "\n",
        "# Agrupa por partido e soma os votos nominais\n",
        "df_agregado_296 = df_296.groupby('Partido')['Votos nominais'].sum().reset_index()\n",
        "\n",
        "# Ordena os dados para o gráfico (opcional, mas recomendado)\n",
        "df_agregado_296 = df_agregado_296.sort_values('Votos nominais', ascending=False)\n",
        "\n",
        "\n",
        "\n",
        "# Cria o gráfico\n",
        "plt.figure(figsize=(12, 6))\n",
        "bars = plt.bar(df_agregado_296['Partido'], df_agregado_296['Votos nominais'], color=plt.colormaps['tab20'].colors)\n",
        "\n",
        "plt.xlabel('Partido', fontsize=12)\n",
        "plt.ylabel('Soma de Votos Nominais', fontsize=12)\n",
        "plt.title('Votos Nominais por Partido - SBC - Zona 296 - Eleição 2022 - Dep. Estadual', fontsize=14)\n",
        "plt.xticks(rotation=90, ha='right')\n",
        "plt.tight_layout()\n",
        "plt.grid(axis='y', linestyle='--', alpha=0.7)\n",
        "\n",
        "\n",
        "for bar in bars:\n",
        "    height = bar.get_height()\n",
        "    plt.text(bar.get_x() + bar.get_width()/2., height,\n",
        "             f'{height:.0f}', ha='center', va='bottom')\n",
        "\n",
        "\n",
        "plt.show()"
      ],
      "metadata": {
        "colab": {
          "base_uri": "https://localhost:8080/",
          "height": 501
        },
        "id": "er2qTVfz9WTa",
        "outputId": "71ceabbe-8836-4d7a-9ca1-75a1b38d9bde"
      },
      "execution_count": null,
      "outputs": [
        {
          "output_type": "stream",
          "name": "stdout",
          "text": [
            "Codificação detectada: ISO-8859-1\n"
          ]
        },
        {
          "output_type": "display_data",
          "data": {
            "text/plain": [
              "<Figure size 1200x600 with 1 Axes>"
            ],
            "image/png": "[encoded data removed]"
          },
          "metadata": {}
        }
      ]
    },
    {
      "cell_type": "code",
      "source": [
        "print(df_296.columns)"
      ],
      "metadata": {
        "colab": {
          "base_uri": "https://localhost:8080/"
        },
        "id": "yhH_3vazrT60",
        "outputId": "59274d07-5a46-474c-d8c2-fc043a5d5737"
      },
      "execution_count": null,
      "outputs": [
        {
          "output_type": "stream",
          "name": "stdout",
          "text": [
            "Index(['Cargo', 'Situação totalização', 'Zona', 'Nome candidato', 'UF',\n",
            "       'Município', 'Ano de eleição', 'Votos nominais', 'Data de carga'],\n",
            "      dtype='object')\n"
          ]
        }
      ]
    },
    {
      "cell_type": "code",
      "source": [],
      "metadata": {
        "id": "vAWdQUI4uDPI"
      },
      "execution_count": null,
      "outputs": []
    },
    {
      "cell_type": "code",
      "source": [
        "import pandas as pd\n",
        "\n",
        "# Caminho do arquivo CSV\n",
        "file_path = '/content/votacao_candidato_296.csv'\n",
        "\n",
        "# Carregar o arquivo com a codificação adequada e o separador correto\n",
        "try:\n",
        "    df = pd.read_csv(file_path, encoding='utf-8', sep=';')\n",
        "except UnicodeDecodeError:\n",
        "    df = pd.read_csv(file_path, encoding='latin1', sep=';')\n",
        "\n",
        "# Exibir as colunas para confirmação\n",
        "print(\"Colunas disponíveis no arquivo:\")\n",
        "print(df.columns)\n",
        "\n",
        "# Filtrar apenas os candidatos eleitos e reeleitos com base na situação de totalização\n",
        "# Certifique-se de ajustar os valores de acordo com a nomenclatura do seu arquivo\n",
        "df_eleitos = df[df['Situação totalização'].str.contains('Eleito', case=False, na=False)]\n",
        "\n",
        "# Selecionar colunas relevantes\n",
        "df_eleitos = df_eleitos[['Nome candidato', 'Partido','Votos nominais']]\n",
        "\n",
        "# Ordenar por votos nominais de forma decrescente\n",
        "df_eleitos_sorted = df_eleitos.sort_values(by='Votos nominais', ascending=False)\n",
        "\n",
        "# Mostrar os primeiros registros para validação\n",
        "print(df_eleitos_sorted.head())\n",
        "\n",
        "# Salvar o resultado em um novo arquivo CSV\n",
        "df_eleitos_sorted.to_csv('/content/candidatos_eleitos_296.csv', index=False, encoding='utf-8')\n"
      ],
      "metadata": {
        "colab": {
          "base_uri": "https://localhost:8080/"
        },
        "id": "NHSdCJAh0Wl4",
        "outputId": "bbad71aa-fb0e-4e1b-e1cd-a395cfa870fe"
      },
      "execution_count": null,
      "outputs": [
        {
          "output_type": "stream",
          "name": "stdout",
          "text": [
            "Colunas disponíveis no arquivo:\n",
            "Index(['Cargo', 'Situação totalização', 'Zona', 'Nome candidato', 'UF',\n",
            "       'Município', 'Ano de eleição', 'Partido', 'Votos nominais',\n",
            "       'Data de carga'],\n",
            "      dtype='object')\n",
            "                       Nome candidato       Partido  Votos nominais\n",
            "66              CARLA SARDANO MORANDO          PSDB           17966\n",
            "1681  LUIZ FERNANDO TEIXEIRA FERREIRA            PT            7573\n",
            "1092       TEONÍLIO MONTEIRO DA COSTA            PT            5132\n",
            "1432        EDUARDO MATARAZZO SUPLICY            PT            3139\n",
            "990         ALTAIR MORAES DE OLIVEIRA  REPUBLICANOS            1109\n"
          ]
        }
      ]
    },
    {
      "cell_type": "code",
      "source": [
        "print(df_eleitos)"
      ],
      "metadata": {
        "colab": {
          "base_uri": "https://localhost:8080/"
        },
        "id": "G7UHeSEVuXJy",
        "outputId": "91da84fc-1ab2-4f38-8e28-836d57bfd0bf"
      },
      "execution_count": null,
      "outputs": [
        {
          "output_type": "stream",
          "name": "stdout",
          "text": [
            "                          Nome candidato Partido  Votos nominais\n",
            "2                 OSEIAS SANTOS DA SILVA     PSD             167\n",
            "14                       RAQUEL DE PAULA    PSTU               1\n",
            "15                PAULO BATISTA DOS REIS      PT               8\n",
            "21                          EDYMAR BUENO      PP               0\n",
            "23             ROBERTO CARLOS DE ALMEIDA     PTB               0\n",
            "...                                  ...     ...             ...\n",
            "1919             ÁKILA SEVERO DE AZEVEDO    PROS               0\n",
            "1920  ANTONIO LUCIANO DO ROSARIO BARBOSA    PROS               0\n",
            "1921     MARIA DA GLORIA IBARRA DOS REIS    PROS               0\n",
            "1922              OSEIAS VIEIRA DE SOUSA    AGIR               1\n",
            "1923            DOUGLAS SOLANO DAS NEVES    AGIR               0\n",
            "\n",
            "[784 rows x 3 columns]\n"
          ]
        }
      ]
    },
    {
      "cell_type": "code",
      "source": [],
      "metadata": {
        "id": "wiBGeu89ul7X"
      },
      "execution_count": null,
      "outputs": []
    },
    {
      "cell_type": "code",
      "source": [
        "# Verifique os valores únicos na coluna de Situação totalização para identificar o termo correto\n",
        "print(df['Situação totalização'].unique())\n",
        "\n",
        "# Ajustar o filtro para incluir apenas candidatos eleitos\n",
        "df_eleitos_corrigido = df[df['Situação totalização'].isin(['Eleito', 'Eleito por Média', 'Eleito por QP'])]\n",
        "\n",
        "# Recontar o total de candidatos eleitos\n",
        "total_eleitos_corrigido = len(df_eleitos_corrigido)\n",
        "print(f\"Total de candidatos eleitos: {total_eleitos_corrigido}\")\n"
      ],
      "metadata": {
        "colab": {
          "base_uri": "https://localhost:8080/"
        },
        "id": "bRyIhvCa1RjP",
        "outputId": "59859d2d-a6e8-4586-8039-61d934049669"
      },
      "execution_count": null,
      "outputs": [
        {
          "output_type": "stream",
          "name": "stdout",
          "text": [
            "['Suplente' 'Eleito' 'Não Eleito']\n",
            "Total de candidatos eleitos: 94\n"
          ]
        }
      ]
    },
    {
      "cell_type": "code",
      "source": [],
      "metadata": {
        "id": "yfrFCh8Nu08G"
      },
      "execution_count": null,
      "outputs": []
    },
    {
      "cell_type": "code",
      "source": [
        "# Filtrar apenas os candidatos eleitos\n",
        "df_eleitos = df[df['Situação totalização'] == 'Eleito']\n",
        "\n",
        "# Selecionar as colunas necessárias e ordená-las\n",
        "df_final = df_eleitos[['Nome candidato', 'Partido', 'Votos nominais']]\n",
        "\n",
        "# Exibir as primeiras linhas do resultado\n",
        "print(df_final.head())\n",
        "\n",
        "# Salvar o resultado em um novo arquivo CSV, se necessário\n",
        "df_final.to_csv('/content/candidatos_eleitos_filtrados.csv', index=False, encoding='utf-8')\n"
      ],
      "metadata": {
        "colab": {
          "base_uri": "https://localhost:8080/"
        },
        "id": "wERdhl1z5SrK",
        "outputId": "0f99545e-f10d-4857-b547-c2f1345d7a35"
      },
      "execution_count": null,
      "outputs": [
        {
          "output_type": "stream",
          "name": "stdout",
          "text": [
            "                      Nome candidato Partido  Votos nominais\n",
            "2             OSEIAS SANTOS DA SILVA     PSD             167\n",
            "15            PAULO BATISTA DOS REIS      PT               8\n",
            "26  GUILHERME DA COSTA AGUIAR CORTEZ    PSOL              92\n",
            "60         PAULO ALVES CORRÊA JUNIOR     PSD              22\n",
            "63      OCIMAR DONIZETI LEO OLIVEIRA     MDB               1\n"
          ]
        }
      ]
    },
    {
      "cell_type": "code",
      "source": [],
      "metadata": {
        "id": "dI2MmxvJvCFH"
      },
      "execution_count": null,
      "outputs": []
    },
    {
      "cell_type": "code",
      "source": [
        "# Filtrar apenas os candidatos eleitos\n",
        "df_eleitos = df[df['Situação totalização'] == 'Eleito']\n",
        "\n",
        "# Selecionar as colunas necessárias\n",
        "df_final = df_eleitos[['Nome candidato', 'Partido', 'Votos nominais']]\n",
        "\n",
        "# Ordenar os candidatos pela coluna 'Votos nominais' de forma decrescente\n",
        "df_final_sorted = df_final.sort_values(by='Votos nominais', ascending=False)\n",
        "\n",
        "# Exibir as primeiras linhas do resultado ordenado\n",
        "print(df_final_sorted.head())\n",
        "\n",
        "# Salvar o resultado em um novo arquivo CSV, se necessário\n",
        "df_final_sorted.to_csv('/content/candidatos_eleitos_ordenados.csv', index=False, encoding='utf-8')\n"
      ],
      "metadata": {
        "colab": {
          "base_uri": "https://localhost:8080/"
        },
        "id": "_JEfCyfV5wla",
        "outputId": "1117a9f5-4319-4b42-fd5a-8ad33c384922"
      },
      "execution_count": null,
      "outputs": [
        {
          "output_type": "stream",
          "name": "stdout",
          "text": [
            "                       Nome candidato       Partido  Votos nominais\n",
            "66              CARLA SARDANO MORANDO          PSDB           17966\n",
            "1681  LUIZ FERNANDO TEIXEIRA FERREIRA            PT            7573\n",
            "1092       TEONÍLIO MONTEIRO DA COSTA            PT            5132\n",
            "1432        EDUARDO MATARAZZO SUPLICY            PT            3139\n",
            "990         ALTAIR MORAES DE OLIVEIRA  REPUBLICANOS            1109\n"
          ]
        }
      ]
    },
    {
      "cell_type": "code",
      "source": [],
      "metadata": {
        "id": "-KQxmH-evM2u"
      },
      "execution_count": null,
      "outputs": []
    },
    {
      "cell_type": "code",
      "source": [
        "# Filtrar os candidatos eleitos e selecionar as colunas necessárias\n",
        "df_eleitos = df[df['Situação totalização'] == 'Eleito']\n",
        "df_final = df_eleitos[['Nome candidato', 'Partido', 'Votos nominais']]\n",
        "\n",
        "# Ordenar os candidatos pela coluna 'Votos nominais' de forma decrescente\n",
        "df_final_sorted = df_final.sort_values(by='Votos nominais', ascending=False)\n",
        "\n",
        "# Enumerar os candidatos na ordem, começando pelo número 1\n",
        "df_final_sorted['Posição'] = range(1, len(df_final_sorted) + 1)\n",
        "\n",
        "# Exibir as primeiras linhas do resultado com a numeração\n",
        "print(df_final_sorted.head())\n",
        "\n",
        "# Salvar o resultado em um novo arquivo CSV, se necessário\n",
        "df_final_sorted.to_csv('/content/candidatos_eleitos_ordenados_com_numeracao.csv', index=False, encoding='utf-8')\n"
      ],
      "metadata": {
        "colab": {
          "base_uri": "https://localhost:8080/"
        },
        "id": "oVzhUU1j6aS3",
        "outputId": "2448985a-0aa6-4f67-86bd-950dbf3c679a"
      },
      "execution_count": null,
      "outputs": [
        {
          "output_type": "stream",
          "name": "stdout",
          "text": [
            "                       Nome candidato       Partido  Votos nominais  Posição\n",
            "66              CARLA SARDANO MORANDO          PSDB           17966        1\n",
            "1681  LUIZ FERNANDO TEIXEIRA FERREIRA            PT            7573        2\n",
            "1092       TEONÍLIO MONTEIRO DA COSTA            PT            5132        3\n",
            "1432        EDUARDO MATARAZZO SUPLICY            PT            3139        4\n",
            "990         ALTAIR MORAES DE OLIVEIRA  REPUBLICANOS            1109        5\n"
          ]
        }
      ]
    },
    {
      "cell_type": "code",
      "source": [],
      "metadata": {
        "id": "QgawBR2rvY9y"
      },
      "execution_count": null,
      "outputs": []
    },
    {
      "cell_type": "code",
      "source": [
        "# Filtrar os candidatos eleitos e selecionar as colunas necessárias\n",
        "df_eleitos = df[df['Situação totalização'] == 'Eleito']\n",
        "df_final = df_eleitos[['Nome candidato', 'Partido', 'Votos nominais']]\n",
        "\n",
        "# Ordenar os candidatos pela coluna 'Votos nominais' de forma decrescente\n",
        "df_final_sorted = df_final.sort_values(by='Votos nominais', ascending=False)\n",
        "\n",
        "# Enumerar os candidatos na ordem, começando pelo número 1\n",
        "df_final_sorted['Posição'] = range(1, len(df_final_sorted) + 1)\n",
        "\n",
        "# Reorganizar as colunas para garantir que 'Posição' seja a primeira\n",
        "df_final_sorted = df_final_sorted[['Posição', 'Nome candidato', 'Partido', 'Votos nominais']]\n",
        "\n",
        "# Exibir as primeiras linhas do resultado com a numeração\n",
        "print(df_final_sorted.head())\n",
        "\n",
        "# Salvar o resultado em um novo arquivo CSV, se necessário\n",
        "df_final_sorted.to_csv('/content/candidatos_eleitos_ordenados_com_numeracao.csv', index=False, encoding='utf-8')\n"
      ],
      "metadata": {
        "colab": {
          "base_uri": "https://localhost:8080/"
        },
        "id": "3l2vtT6O6z_6",
        "outputId": "2fcfc5cd-2516-43c3-aa03-36274b374444"
      },
      "execution_count": null,
      "outputs": [
        {
          "output_type": "stream",
          "name": "stdout",
          "text": [
            "      Posição                   Nome candidato       Partido  Votos nominais\n",
            "66          1            CARLA SARDANO MORANDO          PSDB           17966\n",
            "1681        2  LUIZ FERNANDO TEIXEIRA FERREIRA            PT            7573\n",
            "1092        3       TEONÍLIO MONTEIRO DA COSTA            PT            5132\n",
            "1432        4        EDUARDO MATARAZZO SUPLICY            PT            3139\n",
            "990         5        ALTAIR MORAES DE OLIVEIRA  REPUBLICANOS            1109\n"
          ]
        }
      ]
    },
    {
      "cell_type": "code",
      "source": [],
      "metadata": {
        "id": "AStlWQcUvijH"
      },
      "execution_count": null,
      "outputs": []
    },
    {
      "cell_type": "code",
      "source": [
        "# Exibir o índice das linhas do DataFrame final para ver de onde elas vêm\n",
        "print(df_final_sorted.index)\n"
      ],
      "metadata": {
        "colab": {
          "base_uri": "https://localhost:8080/"
        },
        "id": "LjikDTzZ7P82",
        "outputId": "b8de8ec1-b405-4be6-ad35-55489b7241ab"
      },
      "execution_count": null,
      "outputs": [
        {
          "output_type": "stream",
          "name": "stdout",
          "text": [
            "Index([  66, 1681, 1092, 1432,  990, 1052, 1091, 1636,  191,  502, 1053,  631,\n",
            "       1899, 1851,  682, 1172, 1334, 1494,  979, 1049,  192,   75,  884, 1485,\n",
            "        374,  489,  763,  958, 1853,  767,  179,  107,  221, 1635, 1568,  128,\n",
            "          2, 1822, 1346, 1815, 1180,  700,  995, 1280,   26, 1497, 1673, 1021,\n",
            "       1042, 1495,  459,  652,  254,  513,  108, 1181, 1787, 1427,  317, 1421,\n",
            "        971,  917,  847,  250,  822,   60, 1741, 1105,  318, 1559, 1855,  831,\n",
            "       1174,  677,  311, 1306, 1103,  945,  965,   15,  384, 1886,  471,  894,\n",
            "       1746, 1293,  710,  781,  309,  732, 1085,  967,   63,  776],\n",
            "      dtype='int64')\n"
          ]
        }
      ]
    },
    {
      "cell_type": "code",
      "source": [],
      "metadata": {
        "id": "26MngqSCvlJ0"
      },
      "execution_count": null,
      "outputs": []
    },
    {
      "cell_type": "code",
      "source": [
        "# Exibir o índice das linhas do DataFrame final para ver de onde elas vêm\n",
        "print(df_final_sorted.index)\n"
      ],
      "metadata": {
        "colab": {
          "base_uri": "https://localhost:8080/"
        },
        "outputId": "56fd79cc-e913-4b82-b6d5-90ddd8448d89",
        "id": "E7t4ycMl7A7Y"
      },
      "execution_count": null,
      "outputs": [
        {
          "output_type": "stream",
          "name": "stdout",
          "text": [
            "Index([  66, 1681, 1092, 1432,  990, 1052, 1091, 1636,  191,  502, 1053,  631,\n",
            "       1899, 1851,  682, 1172, 1334, 1494,  979, 1049,  192,   75,  884, 1485,\n",
            "        374,  489,  763,  958, 1853,  767,  179,  107,  221, 1635, 1568,  128,\n",
            "          2, 1822, 1346, 1815, 1180,  700,  995, 1280,   26, 1497, 1673, 1021,\n",
            "       1042, 1495,  459,  652,  254,  513,  108, 1181, 1787, 1427,  317, 1421,\n",
            "        971,  917,  847,  250,  822,   60, 1741, 1105,  318, 1559, 1855,  831,\n",
            "       1174,  677,  311, 1306, 1103,  945,  965,   15,  384, 1886,  471,  894,\n",
            "       1746, 1293,  710,  781,  309,  732, 1085,  967,   63,  776],\n",
            "      dtype='int64')\n"
          ]
        }
      ]
    },
    {
      "cell_type": "code",
      "source": [],
      "metadata": {
        "id": "MSsGZrlhvx31"
      },
      "execution_count": null,
      "outputs": []
    },
    {
      "cell_type": "code",
      "source": [
        "# Exibir o DataFrame sem o índice\n",
        "print(df_final_sorted.to_string(index=False))\n"
      ],
      "metadata": {
        "colab": {
          "base_uri": "https://localhost:8080/"
        },
        "id": "-NELmi917IIG",
        "outputId": "094fe505-05a9-47e3-bd2d-e978153e3a43"
      },
      "execution_count": null,
      "outputs": [
        {
          "output_type": "stream",
          "name": "stdout",
          "text": [
            " Posição                         Nome candidato       Partido  Votos nominais\n",
            "       1                  CARLA SARDANO MORANDO          PSDB           17966\n",
            "       2        LUIZ FERNANDO TEIXEIRA FERREIRA            PT            7573\n",
            "       3             TEONÍLIO MONTEIRO DA COSTA            PT            5132\n",
            "       4              EDUARDO MATARAZZO SUPLICY            PT            3139\n",
            "       5              ALTAIR MORAES DE OLIVEIRA  REPUBLICANOS            1109\n",
            "       6                 PAULA NUNES DOS SANTOS          PSOL             925\n",
            "       7       ANA CAROLINA ROSSI BARRETO SERRA     CIDADANIA             886\n",
            "       8                CARLOS ALBERTO GIANNASI          PSOL             831\n",
            "       9                  THIAGO REIS AURICCHIO            PL             812\n",
            "      10                 BRUNO ZAMBELLI SALGADO            PL             696\n",
            "      11             EDIANE MARIA DO NASCIMENTO          PSOL             643\n",
            "      12          AUGUSTO ZACARIAS CORREA LEITE         UNIÃO             564\n",
            "      13                            TOME ABDUCH  REPUBLICANOS             547\n",
            "      14       GILDEVANIO ILSO DOS SANTOS DINIZ            PL             485\n",
            "      15         JOSÉ ROGERIO SOARES DOS SANTOS           MDB             463\n",
            "      16                    DIMAS MECCA SAMPAIO            PL             432\n",
            "      17              ROBERVAL CONTE LOPES LIMA            PL             420\n",
            "      18                 LUIZ CLAUDIO MARCOLINO            PT             353\n",
            "      19             ANDRÉA WERNER SILVA BONOLI           PSB             338\n",
            "      20               ANTONIO ASSUNÇÃO DE OLIM            PP             335\n",
            "      21        MARCOS ROBERTO DAMASIO DA SILVA            PL             314\n",
            "      22          MÔNICA CRISTINA SEIXAS BONFIM          PSOL             289\n",
            "      23        FELIPE SOUZA MURAKAMI DE FRANCO         UNIÃO             276\n",
            "      24      MATHEUS COIMBRA MARTINS DE AGUIAR            PL             263\n",
            "      25                        LUCAS DIEZ BOVE            PL             246\n",
            "      26          DANIEL BEZERRA RIBEIRO SOARES         UNIÃO             234\n",
            "      27         VALERIA MULLER RAMOS BOLSONARO            PL             227\n",
            "      28                  CARLOS CEZAR DA SILVA            PL             219\n",
            "      29                RICARDO LONGATTI FRANÇA          PODE             215\n",
            "      30           MARIA IZABEL AZEVEDO NORONHA            PT             203\n",
            "      31              LEONARDO DE SIQUEIRA LIMA          NOVO             199\n",
            "      32                    RAFAEL SARAIVA GAIA         UNIÃO             194\n",
            "      33       JORGE WILSON GONÇALVES DE MATTOS  REPUBLICANOS             181\n",
            "      34                  MARINA MEDEIROS HELOU          REDE             178\n",
            "      35           MARIO MAURICI DE LIMA MORAIS            PT             175\n",
            "      36           RAFAEL HENRIQUE CANO TELHADA            PP             172\n",
            "      37                 OSEIAS SANTOS DA SILVA           PSD             167\n",
            "      38                PAULO JORGE MANSUR NETO            PL             152\n",
            "      39                  LECI BRANDÃO DA SILVA       PC do B             145\n",
            "      40            MARTA MARIA FREIRE DA COSTA           PSD             128\n",
            "      41                  PAULO ROBERTO FIORILO            PT             123\n",
            "      42                 RODRIGO AUGUSTO MORAES            PL             111\n",
            "      43               MÁRCIO MASSAMI NAKASHIMA           PDT              98\n",
            "      44            DANILO MASCARENHAS DE BALAS            PL              96\n",
            "      45       GUILHERME DA COSTA AGUIAR CORTEZ          PSOL              92\n",
            "      46                EMIDIO PEREIRA DE SOUZA            PT              90\n",
            "      47        ITAMAR FRANCISCO MACHADO BORGES           MDB              81\n",
            "      48         ÁTILA CESAR MONTEIRO JACOMUSSI SOLIDARIEDADE              77\n",
            "      49         CLARICE CARASSOL AREVALO GANEM          PODE              67\n",
            "      50                 ROMULO CESAR FERNANDES            PT              58\n",
            "      51         MARCIA APARECIDA OVEJANEDA LIA            PT              58\n",
            "      52            CAIO FRANÇA DE GOUVÊA GOMES           PSB              44\n",
            "      53                FABIANA DE LIMA BARROSO            PL              40\n",
            "      54            ROGERIO NOGUEIRA LOPES CRUZ          PSDB              35\n",
            "      55            MILTON LEITE DA SILVA FILHO         UNIÃO              34\n",
            "      56                   JORGE DO CARMO SILVA            PT              34\n",
            "      57         EDNA BEZERRA SAMPAIO FERNANDES  REPUBLICANOS              34\n",
            "      58              BRUNA DIAS FURLAN VICENTE          PSDB              33\n",
            "      59                   ENIO FRANCISCO TATTO            PT              32\n",
            "      60            ALEXANDER MUNIZ DE OLIVEIRA            PL              28\n",
            "      61                THAINARA KAROLINE FARIA            PT              27\n",
            "      62           LETICIA AGUIAR RESENDE ALVES            PP              27\n",
            "      63                 RUI ALVES SOUZA JUNIOR  REPUBLICANOS              25\n",
            "      64                      JORGE LUIS CARUSO           MDB              25\n",
            "      65                    ANDRE LUIS DO PRADO            PL              23\n",
            "      66              PAULO ALVES CORRÊA JUNIOR           PSD              22\n",
            "      67               DANIELE MAZUQUELI ALONSO            PL              20\n",
            "      68                        ELISABETH SAHÃO            PT              20\n",
            "      69             ANA LUCIA LIPPAUS PERUGINI            PT              18\n",
            "      70                 RICARDO ROSSI MADALENA            PL              16\n",
            "      71                      ANALICE FERNANDES          PSDB              14\n",
            "      72                  ANTONIO DIRCEU DALBEN     CIDADANIA              13\n",
            "      73     GRACIELA DE LOURDES DAVID AMBROSIO            PL              13\n",
            "      74            SOLANGE CRISTINA DE FREITAS         UNIÃO              12\n",
            "      75               RAFAEL FERNANDO ZIMBALDI     CIDADANIA              10\n",
            "      76        CAMILA GODOI DA SILVA RODRIGUES           PSB              10\n",
            "      77               CARLOS EDUARDO PIGNATARI          PSDB              10\n",
            "      78                 HELIO DONIZETE ZANATTA           PSC               8\n",
            "      79             VINICIUS ALMEIDA CAMARINHA          PSDB               8\n",
            "      80                 PAULO BATISTA DOS REIS            PT               8\n",
            "      81                  EDMIR JOSE ABI CHEDID         UNIÃO               8\n",
            "      82 ELTON ALVES RIBEIRO DE CARVALHO JUNIOR           PSC               7\n",
            "      83             SEBASTIÃO DOS SANTOS FILHO  REPUBLICANOS               6\n",
            "      84                RAFAEL ANTONIO DA SILVA           PSD               6\n",
            "      85                     GERSON DIAS PESSOA          PODE               6\n",
            "      86        MARIA LUCIA CARDOSO PINTO AMARY          PSDB               5\n",
            "      87                 ANTONIO DONATO MADORMO            PT               5\n",
            "      88             GILMACI DOS SANTOS BARBOSA  REPUBLICANOS               4\n",
            "      89             JOSE ANTONIO BARROS MUNHOZ          PSDB               4\n",
            "      90              VITOR ALEXANDRE RODRIGUES  REPUBLICANOS               4\n",
            "      91                 CARLOS EDUARDO NOBREGA          PODE               2\n",
            "      92                          MAURO BRAGATO          PSDB               2\n",
            "      93           OCIMAR DONIZETI LEO OLIVEIRA           MDB               1\n",
            "      94        VALDOMIRO LOPES DA SILVA JUNIOR           PSB               0\n"
          ]
        }
      ]
    },
    {
      "cell_type": "code",
      "source": [],
      "metadata": {
        "id": "g7do7023wRrA"
      },
      "execution_count": null,
      "outputs": []
    },
    {
      "cell_type": "code",
      "source": [
        "# Exibir o DataFrame sem o índice\n",
        "print(df_final_sorted.to_string(index=False))\n"
      ],
      "metadata": {
        "colab": {
          "base_uri": "https://localhost:8080/"
        },
        "id": "EBPA14G98Bbl",
        "outputId": "657bfe3d-8b51-4a2a-c8d8-fa3691797537"
      },
      "execution_count": null,
      "outputs": [
        {
          "output_type": "stream",
          "name": "stdout",
          "text": [
            " Posição                         Nome candidato       Partido  Votos nominais\n",
            "       1                  CARLA SARDANO MORANDO          PSDB           17966\n",
            "       2        LUIZ FERNANDO TEIXEIRA FERREIRA            PT            7573\n",
            "       3             TEONÍLIO MONTEIRO DA COSTA            PT            5132\n",
            "       4              EDUARDO MATARAZZO SUPLICY            PT            3139\n",
            "       5              ALTAIR MORAES DE OLIVEIRA  REPUBLICANOS            1109\n",
            "       6                 PAULA NUNES DOS SANTOS          PSOL             925\n",
            "       7       ANA CAROLINA ROSSI BARRETO SERRA     CIDADANIA             886\n",
            "       8                CARLOS ALBERTO GIANNASI          PSOL             831\n",
            "       9                  THIAGO REIS AURICCHIO            PL             812\n",
            "      10                 BRUNO ZAMBELLI SALGADO            PL             696\n",
            "      11             EDIANE MARIA DO NASCIMENTO          PSOL             643\n",
            "      12          AUGUSTO ZACARIAS CORREA LEITE         UNIÃO             564\n",
            "      13                            TOME ABDUCH  REPUBLICANOS             547\n",
            "      14       GILDEVANIO ILSO DOS SANTOS DINIZ            PL             485\n",
            "      15         JOSÉ ROGERIO SOARES DOS SANTOS           MDB             463\n",
            "      16                    DIMAS MECCA SAMPAIO            PL             432\n",
            "      17              ROBERVAL CONTE LOPES LIMA            PL             420\n",
            "      18                 LUIZ CLAUDIO MARCOLINO            PT             353\n",
            "      19             ANDRÉA WERNER SILVA BONOLI           PSB             338\n",
            "      20               ANTONIO ASSUNÇÃO DE OLIM            PP             335\n",
            "      21        MARCOS ROBERTO DAMASIO DA SILVA            PL             314\n",
            "      22          MÔNICA CRISTINA SEIXAS BONFIM          PSOL             289\n",
            "      23        FELIPE SOUZA MURAKAMI DE FRANCO         UNIÃO             276\n",
            "      24      MATHEUS COIMBRA MARTINS DE AGUIAR            PL             263\n",
            "      25                        LUCAS DIEZ BOVE            PL             246\n",
            "      26          DANIEL BEZERRA RIBEIRO SOARES         UNIÃO             234\n",
            "      27         VALERIA MULLER RAMOS BOLSONARO            PL             227\n",
            "      28                  CARLOS CEZAR DA SILVA            PL             219\n",
            "      29                RICARDO LONGATTI FRANÇA          PODE             215\n",
            "      30           MARIA IZABEL AZEVEDO NORONHA            PT             203\n",
            "      31              LEONARDO DE SIQUEIRA LIMA          NOVO             199\n",
            "      32                    RAFAEL SARAIVA GAIA         UNIÃO             194\n",
            "      33       JORGE WILSON GONÇALVES DE MATTOS  REPUBLICANOS             181\n",
            "      34                  MARINA MEDEIROS HELOU          REDE             178\n",
            "      35           MARIO MAURICI DE LIMA MORAIS            PT             175\n",
            "      36           RAFAEL HENRIQUE CANO TELHADA            PP             172\n",
            "      37                 OSEIAS SANTOS DA SILVA           PSD             167\n",
            "      38                PAULO JORGE MANSUR NETO            PL             152\n",
            "      39                  LECI BRANDÃO DA SILVA       PC do B             145\n",
            "      40            MARTA MARIA FREIRE DA COSTA           PSD             128\n",
            "      41                  PAULO ROBERTO FIORILO            PT             123\n",
            "      42                 RODRIGO AUGUSTO MORAES            PL             111\n",
            "      43               MÁRCIO MASSAMI NAKASHIMA           PDT              98\n",
            "      44            DANILO MASCARENHAS DE BALAS            PL              96\n",
            "      45       GUILHERME DA COSTA AGUIAR CORTEZ          PSOL              92\n",
            "      46                EMIDIO PEREIRA DE SOUZA            PT              90\n",
            "      47        ITAMAR FRANCISCO MACHADO BORGES           MDB              81\n",
            "      48         ÁTILA CESAR MONTEIRO JACOMUSSI SOLIDARIEDADE              77\n",
            "      49         CLARICE CARASSOL AREVALO GANEM          PODE              67\n",
            "      50                 ROMULO CESAR FERNANDES            PT              58\n",
            "      51         MARCIA APARECIDA OVEJANEDA LIA            PT              58\n",
            "      52            CAIO FRANÇA DE GOUVÊA GOMES           PSB              44\n",
            "      53                FABIANA DE LIMA BARROSO            PL              40\n",
            "      54            ROGERIO NOGUEIRA LOPES CRUZ          PSDB              35\n",
            "      55            MILTON LEITE DA SILVA FILHO         UNIÃO              34\n",
            "      56                   JORGE DO CARMO SILVA            PT              34\n",
            "      57         EDNA BEZERRA SAMPAIO FERNANDES  REPUBLICANOS              34\n",
            "      58              BRUNA DIAS FURLAN VICENTE          PSDB              33\n",
            "      59                   ENIO FRANCISCO TATTO            PT              32\n",
            "      60            ALEXANDER MUNIZ DE OLIVEIRA            PL              28\n",
            "      61                THAINARA KAROLINE FARIA            PT              27\n",
            "      62           LETICIA AGUIAR RESENDE ALVES            PP              27\n",
            "      63                 RUI ALVES SOUZA JUNIOR  REPUBLICANOS              25\n",
            "      64                      JORGE LUIS CARUSO           MDB              25\n",
            "      65                    ANDRE LUIS DO PRADO            PL              23\n",
            "      66              PAULO ALVES CORRÊA JUNIOR           PSD              22\n",
            "      67               DANIELE MAZUQUELI ALONSO            PL              20\n",
            "      68                        ELISABETH SAHÃO            PT              20\n",
            "      69             ANA LUCIA LIPPAUS PERUGINI            PT              18\n",
            "      70                 RICARDO ROSSI MADALENA            PL              16\n",
            "      71                      ANALICE FERNANDES          PSDB              14\n",
            "      72                  ANTONIO DIRCEU DALBEN     CIDADANIA              13\n",
            "      73     GRACIELA DE LOURDES DAVID AMBROSIO            PL              13\n",
            "      74            SOLANGE CRISTINA DE FREITAS         UNIÃO              12\n",
            "      75               RAFAEL FERNANDO ZIMBALDI     CIDADANIA              10\n",
            "      76        CAMILA GODOI DA SILVA RODRIGUES           PSB              10\n",
            "      77               CARLOS EDUARDO PIGNATARI          PSDB              10\n",
            "      78                 HELIO DONIZETE ZANATTA           PSC               8\n",
            "      79             VINICIUS ALMEIDA CAMARINHA          PSDB               8\n",
            "      80                 PAULO BATISTA DOS REIS            PT               8\n",
            "      81                  EDMIR JOSE ABI CHEDID         UNIÃO               8\n",
            "      82 ELTON ALVES RIBEIRO DE CARVALHO JUNIOR           PSC               7\n",
            "      83             SEBASTIÃO DOS SANTOS FILHO  REPUBLICANOS               6\n",
            "      84                RAFAEL ANTONIO DA SILVA           PSD               6\n",
            "      85                     GERSON DIAS PESSOA          PODE               6\n",
            "      86        MARIA LUCIA CARDOSO PINTO AMARY          PSDB               5\n",
            "      87                 ANTONIO DONATO MADORMO            PT               5\n",
            "      88             GILMACI DOS SANTOS BARBOSA  REPUBLICANOS               4\n",
            "      89             JOSE ANTONIO BARROS MUNHOZ          PSDB               4\n",
            "      90              VITOR ALEXANDRE RODRIGUES  REPUBLICANOS               4\n",
            "      91                 CARLOS EDUARDO NOBREGA          PODE               2\n",
            "      92                          MAURO BRAGATO          PSDB               2\n",
            "      93           OCIMAR DONIZETI LEO OLIVEIRA           MDB               1\n",
            "      94        VALDOMIRO LOPES DA SILVA JUNIOR           PSB               0\n"
          ]
        }
      ]
    },
    {
      "cell_type": "code",
      "source": [
        "!pip install matplotlib"
      ],
      "metadata": {
        "colab": {
          "base_uri": "https://localhost:8080/"
        },
        "id": "G3hSVCdBwrT3",
        "outputId": "96e19d6e-b5cf-40b4-fee8-9845f875f9a8"
      },
      "execution_count": null,
      "outputs": [
        {
          "output_type": "stream",
          "name": "stdout",
          "text": [
            "Requirement already satisfied: matplotlib in /usr/local/lib/python3.10/dist-packages (3.8.0)\n",
            "Requirement already satisfied: contourpy>=1.0.1 in /usr/local/lib/python3.10/dist-packages (from matplotlib) (1.3.1)\n",
            "Requirement already satisfied: cycler>=0.10 in /usr/local/lib/python3.10/dist-packages (from matplotlib) (0.12.1)\n",
            "Requirement already satisfied: fonttools>=4.22.0 in /usr/local/lib/python3.10/dist-packages (from matplotlib) (4.55.0)\n",
            "Requirement already satisfied: kiwisolver>=1.0.1 in /usr/local/lib/python3.10/dist-packages (from matplotlib) (1.4.7)\n",
            "Requirement already satisfied: numpy<2,>=1.21 in /usr/local/lib/python3.10/dist-packages (from matplotlib) (1.26.4)\n",
            "Requirement already satisfied: packaging>=20.0 in /usr/local/lib/python3.10/dist-packages (from matplotlib) (24.2)\n",
            "Requirement already satisfied: pillow>=6.2.0 in /usr/local/lib/python3.10/dist-packages (from matplotlib) (11.0.0)\n",
            "Requirement already satisfied: pyparsing>=2.3.1 in /usr/local/lib/python3.10/dist-packages (from matplotlib) (3.2.0)\n",
            "Requirement already satisfied: python-dateutil>=2.7 in /usr/local/lib/python3.10/dist-packages (from matplotlib) (2.8.2)\n",
            "Requirement already satisfied: six>=1.5 in /usr/local/lib/python3.10/dist-packages (from python-dateutil>=2.7->matplotlib) (1.16.0)\n"
          ]
        }
      ]
    },
    {
      "cell_type": "code",
      "source": [
        "import pandas as pd\n",
        "import matplotlib.pyplot as plt\n",
        "import chardet\n",
        "\n",
        "# Detecta a codificação\n",
        "with open(\"/content/votacao_candidato_296.csv\", 'rb') as rawdata:\n",
        "    result = chardet.detect(rawdata.read(100000))\n",
        "\n",
        "print(f\"Codificação detectada: {result['encoding']}\")\n",
        "\n",
        "# Carrega o CSV com a codificação e o separador corretos\n",
        "df_296 = pd.read_csv(\"/content/votacao_candidato_296.csv\", encoding=result['encoding'], sep=\";\")\n",
        "\n",
        "# Agrupa por partido e soma os votos nominais\n",
        "df_agregado_296 = df_296.groupby('Partido')['Votos nominais'].sum().reset_index()\n",
        "\n",
        "# Ordena os dados para o gráfico (opcional, mas recomendado)\n",
        "df_agregado_296 = df_agregado_296.sort_values('Votos nominais', ascending=False)\n",
        "\n",
        "\n",
        "\n",
        "# Cria o gráfico\n",
        "plt.figure(figsize=(12, 6))\n",
        "bars = plt.bar(df_agregado_296['Partido'], df_agregado_296['Votos nominais'], color=plt.colormaps['tab20'].colors)\n",
        "\n",
        "plt.xlabel('Partido', fontsize=12)\n",
        "plt.ylabel('Soma de Votos Nominais', fontsize=12)\n",
        "plt.title('Votos Nominais por Partido - SBC - Zona 284 - Eleição 2022 - Dep. Estadual', fontsize=14)\n",
        "plt.xticks(rotation=90, ha='right')\n",
        "plt.tight_layout()\n",
        "plt.grid(axis='y', linestyle='--', alpha=0.7)\n",
        "\n",
        "\n",
        "for bar in bars:\n",
        "    height = bar.get_height()\n",
        "    plt.text(bar.get_x() + bar.get_width()/2., height,\n",
        "             f'{height:.0f}', ha='center', va='bottom')\n",
        "\n",
        "\n",
        "plt.show()"
      ],
      "metadata": {
        "colab": {
          "base_uri": "https://localhost:8080/",
          "height": 501
        },
        "outputId": "51e747db-e4ed-4756-a74c-195ebd9e4d4c",
        "id": "zzeEfg6gwsII"
      },
      "execution_count": null,
      "outputs": [
        {
          "output_type": "stream",
          "name": "stdout",
          "text": [
            "Codificação detectada: ISO-8859-1\n"
          ]
        },
        {
          "output_type": "display_data",
          "data": {
            "text/plain": [
              "<Figure size 1200x600 with 1 Axes>"
            ],
            "image/png": "[encoded data removed]"
          },
          "metadata": {}
        }
      ]
    }
  ]
}