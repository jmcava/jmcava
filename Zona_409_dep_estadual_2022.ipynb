{
  "nbformat": 4,
  "nbformat_minor": 0,
  "metadata": {
    "colab": {
      "provenance": [],
      "authorship_tag": "ABX9TyMygSOra/8WUHOVDOQovKvj",
      "include_colab_link": true
    },
    "kernelspec": {
      "name": "python3",
      "display_name": "Python 3"
    },
    "language_info": {
      "name": "python"
    }
  },
  "cells": [
    {
      "cell_type": "markdown",
      "metadata": {
        "id": "view-in-github",
        "colab_type": "text"
      },
      "source": [
        "<a href=\"https://colab.research.google.com/github/jmcava/jmcava/blob/main/Zona_409_dep_estadual_2022.ipynb\" target=\"_parent\"><img src=\"https://colab.research.google.com/assets/colab-badge.svg\" alt=\"Open In Colab\"/></a>"
      ]
    },
    {
      "cell_type": "code",
      "source": [
        "import pandas as pd\n",
        "\n",
        "# Caminho do arquivo CSV\n",
        "file_path = '/content/votacao_candidato_409.csv'\n",
        "\n",
        "# Carregar o arquivo com a codificação adequada e o separador correto\n",
        "try:\n",
        "    df = pd.read_csv(file_path, encoding='utf-8', sep=';')\n",
        "except UnicodeDecodeError:\n",
        "    df = pd.read_csv(file_path, encoding='latin1', sep=';')\n",
        "\n",
        "# Exibir as colunas para confirmação\n",
        "print(\"Colunas disponíveis no arquivo:\")\n",
        "print(df.columns)\n",
        "\n",
        "# Filtrar apenas os candidatos eleitos e reeleitos com base na situação de totalização\n",
        "# Certifique-se de ajustar os valores de acordo com a nomenclatura do seu arquivo\n",
        "df_eleitos = df[df['Situação totalização'].str.contains('Eleito', case=False, na=False)]\n",
        "\n",
        "# Selecionar colunas relevantes\n",
        "df_eleitos = df_eleitos[['Nome candidato', 'Partido','Votos nominais']]\n",
        "\n",
        "# Ordenar por votos nominais de forma decrescente\n",
        "df_eleitos_sorted = df_eleitos.sort_values(by='Votos nominais', ascending=False)\n",
        "\n",
        "# Mostrar os primeiros registros para validação\n",
        "print(df_eleitos_sorted.head())\n",
        "\n",
        "# Salvar o resultado em um novo arquivo CSV\n",
        "df_eleitos_sorted.to_csv('/content/candidatos_eleitos_409.csv', index=False, encoding='utf-8')\n"
      ],
      "metadata": {
        "colab": {
          "base_uri": "https://localhost:8080/"
        },
        "id": "NHSdCJAh0Wl4",
        "outputId": "ead3c5bc-a7ac-4513-92ae-d88b6de24842"
      },
      "execution_count": 2,
      "outputs": [
        {
          "output_type": "stream",
          "name": "stdout",
          "text": [
            "Colunas disponíveis no arquivo:\n",
            "Index(['Cargo', 'Situação totalização', 'Zona', 'UF', 'Partido',\n",
            "       'Nome candidato', 'Ano de eleição', 'Município', 'Votos nominais',\n",
            "       'Data de carga'],\n",
            "      dtype='object')\n",
            "                       Nome candidato       Partido  Votos nominais\n",
            "1431            CARLA SARDANO MORANDO          PSDB           23491\n",
            "1497  LUIZ FERNANDO TEIXEIRA FERREIRA            PT            9596\n",
            "238        TEONÍLIO MONTEIRO DA COSTA            PT            8897\n",
            "487         EDUARDO MATARAZZO SUPLICY            PT            3337\n",
            "1702        ALTAIR MORAES DE OLIVEIRA  REPUBLICANOS            1693\n"
          ]
        }
      ]
    },
    {
      "cell_type": "code",
      "source": [
        "print(df_eleitos)"
      ],
      "metadata": {
        "colab": {
          "base_uri": "https://localhost:8080/"
        },
        "id": "KYW4X16qWtDk",
        "outputId": "c2405447-1ee7-45ed-fc88-3108d760ff5a"
      },
      "execution_count": 4,
      "outputs": [
        {
          "output_type": "stream",
          "name": "stdout",
          "text": [
            "                          Nome candidato Partido  Votos nominais\n",
            "16               MAÍRA MACHADO RODRIGUES    PSTU              15\n",
            "19         PAULO CESAR DA SILVA SANT'ANA     PTB               0\n",
            "20               WASHINGTON JOSE DA CRUZ     PTB               0\n",
            "21                    MARCOS VITOR LESSA     PTB               0\n",
            "22             LINDEMBERG MELO GONCALVES     PTB               0\n",
            "...                                  ...     ...             ...\n",
            "1918                     JOSE SILVA LIMA    AGIR               0\n",
            "1919          CARLOS LUIS GUERRA DE LIMA    AGIR               0\n",
            "1920       JOSE CARLOS FERREIRA DA SILVA    AGIR              35\n",
            "1921          UBIRAJARA DE ARAUJO MORAIS    AGIR               0\n",
            "1922  MARIA DE JESUS LOPES MARTINS SILVA     PTB               0\n",
            "\n",
            "[784 rows x 3 columns]\n"
          ]
        }
      ]
    },
    {
      "cell_type": "code",
      "source": [],
      "metadata": {
        "id": "Fsxzdty-W8_f"
      },
      "execution_count": null,
      "outputs": []
    },
    {
      "cell_type": "code",
      "source": [
        "# Verifique os valores únicos na coluna de Situação totalização para identificar o termo correto\n",
        "print(df['Situação totalização'].unique())\n",
        "\n",
        "# Ajustar o filtro para incluir apenas candidatos eleitos\n",
        "df_eleitos_corrigido = df[df['Situação totalização'].isin(['Eleito', 'Eleito por Média', 'Eleito por QP'])]\n",
        "\n",
        "# Recontar o total de candidatos eleitos\n",
        "total_eleitos_corrigido = len(df_eleitos_corrigido)\n",
        "print(f\"Total de candidatos eleitos: {total_eleitos_corrigido}\")\n"
      ],
      "metadata": {
        "colab": {
          "base_uri": "https://localhost:8080/"
        },
        "id": "bRyIhvCa1RjP",
        "outputId": "306a3969-23ff-4fdb-87c9-831baff2fc98"
      },
      "execution_count": 5,
      "outputs": [
        {
          "output_type": "stream",
          "name": "stdout",
          "text": [
            "['Suplente' 'Não Eleito' 'Eleito']\n",
            "Total de candidatos eleitos: 94\n"
          ]
        }
      ]
    },
    {
      "cell_type": "code",
      "source": [],
      "metadata": {
        "id": "QzCLKbMKXDZE"
      },
      "execution_count": null,
      "outputs": []
    },
    {
      "cell_type": "code",
      "source": [
        "# Filtrar apenas os candidatos eleitos\n",
        "df_eleitos = df[df['Situação totalização'] == 'Eleito']\n",
        "\n",
        "# Selecionar as colunas necessárias e ordená-las\n",
        "df_final = df_eleitos[['Nome candidato', 'Partido', 'Votos nominais']]\n",
        "\n",
        "# Exibir as primeiras linhas do resultado\n",
        "print(df_final.head())\n",
        "\n",
        "# Salvar o resultado em um novo arquivo CSV, se necessário\n",
        "df_final.to_csv('/content/candidatos_eleitos_filtrados.csv', index=False, encoding='utf-8')\n"
      ],
      "metadata": {
        "colab": {
          "base_uri": "https://localhost:8080/"
        },
        "id": "wERdhl1z5SrK",
        "outputId": "7640dd07-92d0-48a8-e628-047d58189ddc"
      },
      "execution_count": 6,
      "outputs": [
        {
          "output_type": "stream",
          "name": "stdout",
          "text": [
            "                        Nome candidato Partido  Votos nominais\n",
            "67         DANILO MASCARENHAS DE BALAS      PL              92\n",
            "76                     ELISABETH SAHÃO      PT              27\n",
            "117             OSEIAS SANTOS DA SILVA     PSD             352\n",
            "132    MARCOS ROBERTO DAMASIO DA SILVA      PL             420\n",
            "149  MATHEUS COIMBRA MARTINS DE AGUIAR      PL             335\n"
          ]
        }
      ]
    },
    {
      "cell_type": "code",
      "source": [],
      "metadata": {
        "id": "nKPVlkOoXUpL"
      },
      "execution_count": null,
      "outputs": []
    },
    {
      "cell_type": "code",
      "source": [
        "# Filtrar apenas os candidatos eleitos\n",
        "df_eleitos = df[df['Situação totalização'] == 'Eleito']\n",
        "\n",
        "# Selecionar as colunas necessárias\n",
        "df_final = df_eleitos[['Nome candidato', 'Partido', 'Votos nominais']]\n",
        "\n",
        "# Ordenar os candidatos pela coluna 'Votos nominais' de forma decrescente\n",
        "df_final_sorted = df_final.sort_values(by='Votos nominais', ascending=False)\n",
        "\n",
        "# Exibir as primeiras linhas do resultado ordenado\n",
        "print(df_final_sorted.head())\n",
        "\n",
        "# Salvar o resultado em um novo arquivo CSV, se necessário\n",
        "df_final_sorted.to_csv('/content/candidatos_eleitos_ordenados.csv', index=False, encoding='utf-8')\n"
      ],
      "metadata": {
        "colab": {
          "base_uri": "https://localhost:8080/"
        },
        "id": "_JEfCyfV5wla",
        "outputId": "40d3d052-64ba-4148-b1ca-2cd584168276"
      },
      "execution_count": 7,
      "outputs": [
        {
          "output_type": "stream",
          "name": "stdout",
          "text": [
            "                       Nome candidato       Partido  Votos nominais\n",
            "1431            CARLA SARDANO MORANDO          PSDB           23491\n",
            "1497  LUIZ FERNANDO TEIXEIRA FERREIRA            PT            9596\n",
            "238        TEONÍLIO MONTEIRO DA COSTA            PT            8897\n",
            "487         EDUARDO MATARAZZO SUPLICY            PT            3337\n",
            "1702        ALTAIR MORAES DE OLIVEIRA  REPUBLICANOS            1693\n"
          ]
        }
      ]
    },
    {
      "cell_type": "code",
      "source": [],
      "metadata": {
        "id": "yK7dQBtFXf28"
      },
      "execution_count": null,
      "outputs": []
    },
    {
      "cell_type": "code",
      "source": [
        "# Filtrar os candidatos eleitos e selecionar as colunas necessárias\n",
        "df_eleitos = df[df['Situação totalização'] == 'Eleito']\n",
        "df_final = df_eleitos[['Nome candidato', 'Partido', 'Votos nominais']]\n",
        "\n",
        "# Ordenar os candidatos pela coluna 'Votos nominais' de forma decrescente\n",
        "df_final_sorted = df_final.sort_values(by='Votos nominais', ascending=False)\n",
        "\n",
        "# Enumerar os candidatos na ordem, começando pelo número 1\n",
        "df_final_sorted['Posição'] = range(1, len(df_final_sorted) + 1)\n",
        "\n",
        "# Exibir as primeiras linhas do resultado com a numeração\n",
        "print(df_final_sorted.head())\n",
        "\n",
        "# Salvar o resultado em um novo arquivo CSV, se necessário\n",
        "df_final_sorted.to_csv('/content/candidatos_eleitos_ordenados_com_numeracao.csv', index=False, encoding='utf-8')\n"
      ],
      "metadata": {
        "colab": {
          "base_uri": "https://localhost:8080/"
        },
        "id": "oVzhUU1j6aS3",
        "outputId": "a24b05ae-272c-47ac-ccf7-7d9816ba7d56"
      },
      "execution_count": 8,
      "outputs": [
        {
          "output_type": "stream",
          "name": "stdout",
          "text": [
            "                       Nome candidato       Partido  Votos nominais  Posição\n",
            "1431            CARLA SARDANO MORANDO          PSDB           23491        1\n",
            "1497  LUIZ FERNANDO TEIXEIRA FERREIRA            PT            9596        2\n",
            "238        TEONÍLIO MONTEIRO DA COSTA            PT            8897        3\n",
            "487         EDUARDO MATARAZZO SUPLICY            PT            3337        4\n",
            "1702        ALTAIR MORAES DE OLIVEIRA  REPUBLICANOS            1693        5\n"
          ]
        }
      ]
    },
    {
      "cell_type": "code",
      "source": [],
      "metadata": {
        "id": "5aFrZUVhXigU"
      },
      "execution_count": null,
      "outputs": []
    },
    {
      "cell_type": "code",
      "source": [
        "# Filtrar os candidatos eleitos e selecionar as colunas necessárias\n",
        "df_eleitos = df[df['Situação totalização'] == 'Eleito']\n",
        "df_final = df_eleitos[['Nome candidato', 'Partido', 'Votos nominais']]\n",
        "\n",
        "# Ordenar os candidatos pela coluna 'Votos nominais' de forma decrescente\n",
        "df_final_sorted = df_final.sort_values(by='Votos nominais', ascending=False)\n",
        "\n",
        "# Enumerar os candidatos na ordem, começando pelo número 1\n",
        "df_final_sorted['Posição'] = range(1, len(df_final_sorted) + 1)\n",
        "\n",
        "# Reorganizar as colunas para garantir que 'Posição' seja a primeira\n",
        "df_final_sorted = df_final_sorted[['Posição', 'Nome candidato', 'Partido', 'Votos nominais']]\n",
        "\n",
        "# Exibir as primeiras linhas do resultado com a numeração\n",
        "print(df_final_sorted.head())\n",
        "\n",
        "# Salvar o resultado em um novo arquivo CSV, se necessário\n",
        "df_final_sorted.to_csv('/content/candidatos_eleitos_ordenados_com_numeracao.csv', index=False, encoding='utf-8')\n"
      ],
      "metadata": {
        "colab": {
          "base_uri": "https://localhost:8080/"
        },
        "id": "3l2vtT6O6z_6",
        "outputId": "9f15902f-a919-44e6-a899-798ded9ae808"
      },
      "execution_count": 9,
      "outputs": [
        {
          "output_type": "stream",
          "name": "stdout",
          "text": [
            "      Posição                   Nome candidato       Partido  Votos nominais\n",
            "1431        1            CARLA SARDANO MORANDO          PSDB           23491\n",
            "1497        2  LUIZ FERNANDO TEIXEIRA FERREIRA            PT            9596\n",
            "238         3       TEONÍLIO MONTEIRO DA COSTA            PT            8897\n",
            "487         4        EDUARDO MATARAZZO SUPLICY            PT            3337\n",
            "1702        5        ALTAIR MORAES DE OLIVEIRA  REPUBLICANOS            1693\n"
          ]
        }
      ]
    },
    {
      "cell_type": "code",
      "source": [],
      "metadata": {
        "id": "AhEcJLAWXvEd"
      },
      "execution_count": null,
      "outputs": []
    },
    {
      "cell_type": "code",
      "source": [
        "# Exibir o índice das linhas do DataFrame final para ver de onde elas vêm\n",
        "print(df_final_sorted.index)\n"
      ],
      "metadata": {
        "colab": {
          "base_uri": "https://localhost:8080/"
        },
        "id": "LjikDTzZ7P82",
        "outputId": "68a0c423-3bd4-4245-e7e2-fd5a0b743e89"
      },
      "execution_count": 10,
      "outputs": [
        {
          "output_type": "stream",
          "name": "stdout",
          "text": [
            "Index([1431, 1497,  238,  487, 1702,  661,  614,  164,  727,  929, 1567,  166,\n",
            "       1726,  786,  662,  505,  150,  132,  233, 1729,  117,  149,  573,  326,\n",
            "        931, 1417,  479,  659, 1813, 1831,  274,  630,  971, 1081, 1748, 1383,\n",
            "       1434, 1120,  969,  556, 1095,  994, 1876, 1499,  191,  157, 1058,  477,\n",
            "         67,  873,  239,  234, 1039,  227, 1233, 1582, 1761, 1681, 1008, 1359,\n",
            "       1746, 1347,  934,  486, 1428, 1872,   76, 1237,  344,  978, 1490,  156,\n",
            "        418,  983, 1454, 1277,  546, 1049,  735,  791,  395, 1496,  552, 1556,\n",
            "        580, 1253, 1659, 1183,  739, 1660, 1744, 1869,  868, 1243],\n",
            "      dtype='int64')\n"
          ]
        }
      ]
    },
    {
      "cell_type": "code",
      "source": [],
      "metadata": {
        "id": "ExoilheXX0yF"
      },
      "execution_count": null,
      "outputs": []
    },
    {
      "cell_type": "code",
      "source": [
        "# Exibir o índice das linhas do DataFrame final para ver de onde elas vêm\n",
        "print(df_final_sorted.index)\n"
      ],
      "metadata": {
        "colab": {
          "base_uri": "https://localhost:8080/"
        },
        "outputId": "f6b06a32-b3c3-47eb-fbfd-2b34d80f1b07",
        "id": "E7t4ycMl7A7Y"
      },
      "execution_count": 11,
      "outputs": [
        {
          "output_type": "stream",
          "name": "stdout",
          "text": [
            "Index([1431, 1497,  238,  487, 1702,  661,  614,  164,  727,  929, 1567,  166,\n",
            "       1726,  786,  662,  505,  150,  132,  233, 1729,  117,  149,  573,  326,\n",
            "        931, 1417,  479,  659, 1813, 1831,  274,  630,  971, 1081, 1748, 1383,\n",
            "       1434, 1120,  969,  556, 1095,  994, 1876, 1499,  191,  157, 1058,  477,\n",
            "         67,  873,  239,  234, 1039,  227, 1233, 1582, 1761, 1681, 1008, 1359,\n",
            "       1746, 1347,  934,  486, 1428, 1872,   76, 1237,  344,  978, 1490,  156,\n",
            "        418,  983, 1454, 1277,  546, 1049,  735,  791,  395, 1496,  552, 1556,\n",
            "        580, 1253, 1659, 1183,  739, 1660, 1744, 1869,  868, 1243],\n",
            "      dtype='int64')\n"
          ]
        }
      ]
    },
    {
      "cell_type": "code",
      "source": [],
      "metadata": {
        "id": "DVAxChJGX6fN"
      },
      "execution_count": null,
      "outputs": []
    },
    {
      "cell_type": "code",
      "source": [
        "# Exibir o DataFrame sem o índice\n",
        "print(df_final_sorted.to_string(index=False))\n"
      ],
      "metadata": {
        "colab": {
          "base_uri": "https://localhost:8080/"
        },
        "id": "-NELmi917IIG",
        "outputId": "c7a9d7c1-ea77-47e7-bcbc-8b6e89b341e0"
      },
      "execution_count": 12,
      "outputs": [
        {
          "output_type": "stream",
          "name": "stdout",
          "text": [
            " Posição                         Nome candidato       Partido  Votos nominais\n",
            "       1                  CARLA SARDANO MORANDO          PSDB           23491\n",
            "       2        LUIZ FERNANDO TEIXEIRA FERREIRA            PT            9596\n",
            "       3             TEONÍLIO MONTEIRO DA COSTA            PT            8897\n",
            "       4              EDUARDO MATARAZZO SUPLICY            PT            3337\n",
            "       5              ALTAIR MORAES DE OLIVEIRA  REPUBLICANOS            1693\n",
            "       6                  THIAGO REIS AURICCHIO            PL            1379\n",
            "       7       ANA CAROLINA ROSSI BARRETO SERRA     CIDADANIA            1086\n",
            "       8                 PAULA NUNES DOS SANTOS          PSOL             948\n",
            "       9         JOSÉ ROGERIO SOARES DOS SANTOS           MDB             811\n",
            "      10                 BRUNO ZAMBELLI SALGADO            PL             759\n",
            "      11                CARLOS ALBERTO GIANNASI          PSOL             758\n",
            "      12             EDIANE MARIA DO NASCIMENTO          PSOL             656\n",
            "      13          AUGUSTO ZACARIAS CORREA LEITE         UNIÃO             603\n",
            "      14       GILDEVANIO ILSO DOS SANTOS DINIZ            PL             561\n",
            "      15                    DIMAS MECCA SAMPAIO            PL             553\n",
            "      16                            TOME ABDUCH  REPUBLICANOS             473\n",
            "      17              ROBERVAL CONTE LOPES LIMA            PL             458\n",
            "      18        MARCOS ROBERTO DAMASIO DA SILVA            PL             420\n",
            "      19               ANTONIO ASSUNÇÃO DE OLIM            PP             399\n",
            "      20            MARTA MARIA FREIRE DA COSTA           PSD             380\n",
            "      21                 OSEIAS SANTOS DA SILVA           PSD             352\n",
            "      22      MATHEUS COIMBRA MARTINS DE AGUIAR            PL             335\n",
            "      23             ANDRÉA WERNER SILVA BONOLI           PSB             326\n",
            "      24          DANIEL BEZERRA RIBEIRO SOARES         UNIÃO             313\n",
            "      25                  CARLOS CEZAR DA SILVA            PL             302\n",
            "      26        FELIPE SOUZA MURAKAMI DE FRANCO         UNIÃO             297\n",
            "      27         VALERIA MULLER RAMOS BOLSONARO            PL             287\n",
            "      28                        LUCAS DIEZ BOVE            PL             271\n",
            "      29                PAULO JORGE MANSUR NETO            PL             250\n",
            "      30          MÔNICA CRISTINA SEIXAS BONFIM          PSOL             247\n",
            "      31                RICARDO LONGATTI FRANÇA          PODE             237\n",
            "      32       JORGE WILSON GONÇALVES DE MATTOS  REPUBLICANOS             207\n",
            "      33                    RAFAEL SARAIVA GAIA         UNIÃO             199\n",
            "      34         ÁTILA CESAR MONTEIRO JACOMUSSI SOLIDARIEDADE             194\n",
            "      35           RAFAEL HENRIQUE CANO TELHADA            PP             187\n",
            "      36                 LUIZ CLAUDIO MARCOLINO            PT             186\n",
            "      37           MARIA IZABEL AZEVEDO NORONHA            PT             178\n",
            "      38                 RODRIGO AUGUSTO MORAES            PL             168\n",
            "      39              LEONARDO DE SIQUEIRA LIMA          NOVO             164\n",
            "      40                  PAULO ROBERTO FIORILO            PT             160\n",
            "      41                  LECI BRANDÃO DA SILVA       PC do B             131\n",
            "      42                  MARINA MEDEIROS HELOU          REDE             129\n",
            "      43                 ROMULO CESAR FERNANDES            PT             127\n",
            "      44           MARIO MAURICI DE LIMA MORAIS            PT             125\n",
            "      45               MÁRCIO MASSAMI NAKASHIMA           PDT             113\n",
            "      46                EMIDIO PEREIRA DE SOUZA            PT             111\n",
            "      47       GUILHERME DA COSTA AGUIAR CORTEZ          PSOL             108\n",
            "      48        ITAMAR FRANCISCO MACHADO BORGES           MDB             106\n",
            "      49            DANILO MASCARENHAS DE BALAS            PL              92\n",
            "      50                   JORGE DO CARMO SILVA            PT              84\n",
            "      51         MARCIA APARECIDA OVEJANEDA LIA            PT              68\n",
            "      52         CLARICE CARASSOL AREVALO GANEM          PODE              57\n",
            "      53              PAULO ALVES CORRÊA JUNIOR           PSD              54\n",
            "      54                FABIANA DE LIMA BARROSO            PL              50\n",
            "      55            MILTON LEITE DA SILVA FILHO         UNIÃO              50\n",
            "      56                 RUI ALVES SOUZA JUNIOR  REPUBLICANOS              48\n",
            "      57            CAIO FRANÇA DE GOUVÊA GOMES           PSB              44\n",
            "      58              BRUNA DIAS FURLAN VICENTE          PSDB              43\n",
            "      59         EDNA BEZERRA SAMPAIO FERNANDES  REPUBLICANOS              42\n",
            "      60                 PAULO BATISTA DOS REIS            PT              39\n",
            "      61                   ENIO FRANCISCO TATTO            PT              39\n",
            "      62                      JORGE LUIS CARUSO           MDB              30\n",
            "      63           LETICIA AGUIAR RESENDE ALVES            PP              29\n",
            "      64                THAINARA KAROLINE FARIA            PT              29\n",
            "      65                    ANDRE LUIS DO PRADO            PL              27\n",
            "      66            ALEXANDER MUNIZ DE OLIVEIRA            PL              27\n",
            "      67                        ELISABETH SAHÃO            PT              27\n",
            "      68        CAMILA GODOI DA SILVA RODRIGUES           PSB              26\n",
            "      69     GRACIELA DE LOURDES DAVID AMBROSIO            PL              25\n",
            "      70                     GERSON DIAS PESSOA          PODE              24\n",
            "      71               DANIELE MAZUQUELI ALONSO            PL              21\n",
            "      72             ANA LUCIA LIPPAUS PERUGINI            PT              20\n",
            "      73                 RICARDO ROSSI MADALENA            PL              19\n",
            "      74            ROGERIO NOGUEIRA LOPES CRUZ          PSDB              17\n",
            "      75             SEBASTIÃO DOS SANTOS FILHO  REPUBLICANOS              14\n",
            "      76            SOLANGE CRISTINA DE FREITAS         UNIÃO              14\n",
            "      77                 CARLOS EDUARDO NOBREGA          PODE              13\n",
            "      78                 ANTONIO DONATO MADORMO            PT              11\n",
            "      79               RAFAEL FERNANDO ZIMBALDI     CIDADANIA              10\n",
            "      80             JOSE ANTONIO BARROS MUNHOZ          PSDB              10\n",
            "      81                RAFAEL ANTONIO DA SILVA           PSD               9\n",
            "      82               CARLOS EDUARDO PIGNATARI          PSDB               9\n",
            "      83                      ANALICE FERNANDES          PSDB               8\n",
            "      84                  ANTONIO DIRCEU DALBEN     CIDADANIA               7\n",
            "      85             GILMACI DOS SANTOS BARBOSA  REPUBLICANOS               7\n",
            "      86              VITOR ALEXANDRE RODRIGUES  REPUBLICANOS               5\n",
            "      87                 HELIO DONIZETE ZANATTA           PSC               5\n",
            "      88                  EDMIR JOSE ABI CHEDID         UNIÃO               4\n",
            "      89                          MAURO BRAGATO          PSDB               3\n",
            "      90 ELTON ALVES RIBEIRO DE CARVALHO JUNIOR           PSC               3\n",
            "      91        MARIA LUCIA CARDOSO PINTO AMARY          PSDB               2\n",
            "      92           OCIMAR DONIZETI LEO OLIVEIRA           MDB               2\n",
            "      93             VINICIUS ALMEIDA CAMARINHA          PSDB               2\n",
            "      94        VALDOMIRO LOPES DA SILVA JUNIOR           PSB               1\n"
          ]
        }
      ]
    },
    {
      "cell_type": "code",
      "source": [],
      "metadata": {
        "id": "OIbWLLc-YNEw"
      },
      "execution_count": null,
      "outputs": []
    },
    {
      "cell_type": "code",
      "source": [
        "# Exibir o DataFrame sem o índice\n",
        "print(df_final_sorted.to_string(index=False))\n"
      ],
      "metadata": {
        "colab": {
          "base_uri": "https://localhost:8080/"
        },
        "id": "EBPA14G98Bbl",
        "outputId": "284fb086-bed4-45e7-a144-8f94ccbb2ec7"
      },
      "execution_count": 13,
      "outputs": [
        {
          "output_type": "stream",
          "name": "stdout",
          "text": [
            " Posição                         Nome candidato       Partido  Votos nominais\n",
            "       1                  CARLA SARDANO MORANDO          PSDB           23491\n",
            "       2        LUIZ FERNANDO TEIXEIRA FERREIRA            PT            9596\n",
            "       3             TEONÍLIO MONTEIRO DA COSTA            PT            8897\n",
            "       4              EDUARDO MATARAZZO SUPLICY            PT            3337\n",
            "       5              ALTAIR MORAES DE OLIVEIRA  REPUBLICANOS            1693\n",
            "       6                  THIAGO REIS AURICCHIO            PL            1379\n",
            "       7       ANA CAROLINA ROSSI BARRETO SERRA     CIDADANIA            1086\n",
            "       8                 PAULA NUNES DOS SANTOS          PSOL             948\n",
            "       9         JOSÉ ROGERIO SOARES DOS SANTOS           MDB             811\n",
            "      10                 BRUNO ZAMBELLI SALGADO            PL             759\n",
            "      11                CARLOS ALBERTO GIANNASI          PSOL             758\n",
            "      12             EDIANE MARIA DO NASCIMENTO          PSOL             656\n",
            "      13          AUGUSTO ZACARIAS CORREA LEITE         UNIÃO             603\n",
            "      14       GILDEVANIO ILSO DOS SANTOS DINIZ            PL             561\n",
            "      15                    DIMAS MECCA SAMPAIO            PL             553\n",
            "      16                            TOME ABDUCH  REPUBLICANOS             473\n",
            "      17              ROBERVAL CONTE LOPES LIMA            PL             458\n",
            "      18        MARCOS ROBERTO DAMASIO DA SILVA            PL             420\n",
            "      19               ANTONIO ASSUNÇÃO DE OLIM            PP             399\n",
            "      20            MARTA MARIA FREIRE DA COSTA           PSD             380\n",
            "      21                 OSEIAS SANTOS DA SILVA           PSD             352\n",
            "      22      MATHEUS COIMBRA MARTINS DE AGUIAR            PL             335\n",
            "      23             ANDRÉA WERNER SILVA BONOLI           PSB             326\n",
            "      24          DANIEL BEZERRA RIBEIRO SOARES         UNIÃO             313\n",
            "      25                  CARLOS CEZAR DA SILVA            PL             302\n",
            "      26        FELIPE SOUZA MURAKAMI DE FRANCO         UNIÃO             297\n",
            "      27         VALERIA MULLER RAMOS BOLSONARO            PL             287\n",
            "      28                        LUCAS DIEZ BOVE            PL             271\n",
            "      29                PAULO JORGE MANSUR NETO            PL             250\n",
            "      30          MÔNICA CRISTINA SEIXAS BONFIM          PSOL             247\n",
            "      31                RICARDO LONGATTI FRANÇA          PODE             237\n",
            "      32       JORGE WILSON GONÇALVES DE MATTOS  REPUBLICANOS             207\n",
            "      33                    RAFAEL SARAIVA GAIA         UNIÃO             199\n",
            "      34         ÁTILA CESAR MONTEIRO JACOMUSSI SOLIDARIEDADE             194\n",
            "      35           RAFAEL HENRIQUE CANO TELHADA            PP             187\n",
            "      36                 LUIZ CLAUDIO MARCOLINO            PT             186\n",
            "      37           MARIA IZABEL AZEVEDO NORONHA            PT             178\n",
            "      38                 RODRIGO AUGUSTO MORAES            PL             168\n",
            "      39              LEONARDO DE SIQUEIRA LIMA          NOVO             164\n",
            "      40                  PAULO ROBERTO FIORILO            PT             160\n",
            "      41                  LECI BRANDÃO DA SILVA       PC do B             131\n",
            "      42                  MARINA MEDEIROS HELOU          REDE             129\n",
            "      43                 ROMULO CESAR FERNANDES            PT             127\n",
            "      44           MARIO MAURICI DE LIMA MORAIS            PT             125\n",
            "      45               MÁRCIO MASSAMI NAKASHIMA           PDT             113\n",
            "      46                EMIDIO PEREIRA DE SOUZA            PT             111\n",
            "      47       GUILHERME DA COSTA AGUIAR CORTEZ          PSOL             108\n",
            "      48        ITAMAR FRANCISCO MACHADO BORGES           MDB             106\n",
            "      49            DANILO MASCARENHAS DE BALAS            PL              92\n",
            "      50                   JORGE DO CARMO SILVA            PT              84\n",
            "      51         MARCIA APARECIDA OVEJANEDA LIA            PT              68\n",
            "      52         CLARICE CARASSOL AREVALO GANEM          PODE              57\n",
            "      53              PAULO ALVES CORRÊA JUNIOR           PSD              54\n",
            "      54                FABIANA DE LIMA BARROSO            PL              50\n",
            "      55            MILTON LEITE DA SILVA FILHO         UNIÃO              50\n",
            "      56                 RUI ALVES SOUZA JUNIOR  REPUBLICANOS              48\n",
            "      57            CAIO FRANÇA DE GOUVÊA GOMES           PSB              44\n",
            "      58              BRUNA DIAS FURLAN VICENTE          PSDB              43\n",
            "      59         EDNA BEZERRA SAMPAIO FERNANDES  REPUBLICANOS              42\n",
            "      60                 PAULO BATISTA DOS REIS            PT              39\n",
            "      61                   ENIO FRANCISCO TATTO            PT              39\n",
            "      62                      JORGE LUIS CARUSO           MDB              30\n",
            "      63           LETICIA AGUIAR RESENDE ALVES            PP              29\n",
            "      64                THAINARA KAROLINE FARIA            PT              29\n",
            "      65                    ANDRE LUIS DO PRADO            PL              27\n",
            "      66            ALEXANDER MUNIZ DE OLIVEIRA            PL              27\n",
            "      67                        ELISABETH SAHÃO            PT              27\n",
            "      68        CAMILA GODOI DA SILVA RODRIGUES           PSB              26\n",
            "      69     GRACIELA DE LOURDES DAVID AMBROSIO            PL              25\n",
            "      70                     GERSON DIAS PESSOA          PODE              24\n",
            "      71               DANIELE MAZUQUELI ALONSO            PL              21\n",
            "      72             ANA LUCIA LIPPAUS PERUGINI            PT              20\n",
            "      73                 RICARDO ROSSI MADALENA            PL              19\n",
            "      74            ROGERIO NOGUEIRA LOPES CRUZ          PSDB              17\n",
            "      75             SEBASTIÃO DOS SANTOS FILHO  REPUBLICANOS              14\n",
            "      76            SOLANGE CRISTINA DE FREITAS         UNIÃO              14\n",
            "      77                 CARLOS EDUARDO NOBREGA          PODE              13\n",
            "      78                 ANTONIO DONATO MADORMO            PT              11\n",
            "      79               RAFAEL FERNANDO ZIMBALDI     CIDADANIA              10\n",
            "      80             JOSE ANTONIO BARROS MUNHOZ          PSDB              10\n",
            "      81                RAFAEL ANTONIO DA SILVA           PSD               9\n",
            "      82               CARLOS EDUARDO PIGNATARI          PSDB               9\n",
            "      83                      ANALICE FERNANDES          PSDB               8\n",
            "      84                  ANTONIO DIRCEU DALBEN     CIDADANIA               7\n",
            "      85             GILMACI DOS SANTOS BARBOSA  REPUBLICANOS               7\n",
            "      86              VITOR ALEXANDRE RODRIGUES  REPUBLICANOS               5\n",
            "      87                 HELIO DONIZETE ZANATTA           PSC               5\n",
            "      88                  EDMIR JOSE ABI CHEDID         UNIÃO               4\n",
            "      89                          MAURO BRAGATO          PSDB               3\n",
            "      90 ELTON ALVES RIBEIRO DE CARVALHO JUNIOR           PSC               3\n",
            "      91        MARIA LUCIA CARDOSO PINTO AMARY          PSDB               2\n",
            "      92           OCIMAR DONIZETI LEO OLIVEIRA           MDB               2\n",
            "      93             VINICIUS ALMEIDA CAMARINHA          PSDB               2\n",
            "      94        VALDOMIRO LOPES DA SILVA JUNIOR           PSB               1\n"
          ]
        }
      ]
    },
    {
      "cell_type": "code",
      "source": [
        "!pip install matplotlib"
      ],
      "metadata": {
        "colab": {
          "base_uri": "https://localhost:8080/"
        },
        "id": "HQnfVXH1YT9p",
        "outputId": "1fb70645-20e7-464f-f9b9-cb6a09090ecd"
      },
      "execution_count": 14,
      "outputs": [
        {
          "output_type": "stream",
          "name": "stdout",
          "text": [
            "Requirement already satisfied: matplotlib in /usr/local/lib/python3.10/dist-packages (3.8.0)\n",
            "Requirement already satisfied: contourpy>=1.0.1 in /usr/local/lib/python3.10/dist-packages (from matplotlib) (1.3.1)\n",
            "Requirement already satisfied: cycler>=0.10 in /usr/local/lib/python3.10/dist-packages (from matplotlib) (0.12.1)\n",
            "Requirement already satisfied: fonttools>=4.22.0 in /usr/local/lib/python3.10/dist-packages (from matplotlib) (4.55.0)\n",
            "Requirement already satisfied: kiwisolver>=1.0.1 in /usr/local/lib/python3.10/dist-packages (from matplotlib) (1.4.7)\n",
            "Requirement already satisfied: numpy<2,>=1.21 in /usr/local/lib/python3.10/dist-packages (from matplotlib) (1.26.4)\n",
            "Requirement already satisfied: packaging>=20.0 in /usr/local/lib/python3.10/dist-packages (from matplotlib) (24.2)\n",
            "Requirement already satisfied: pillow>=6.2.0 in /usr/local/lib/python3.10/dist-packages (from matplotlib) (11.0.0)\n",
            "Requirement already satisfied: pyparsing>=2.3.1 in /usr/local/lib/python3.10/dist-packages (from matplotlib) (3.2.0)\n",
            "Requirement already satisfied: python-dateutil>=2.7 in /usr/local/lib/python3.10/dist-packages (from matplotlib) (2.8.2)\n",
            "Requirement already satisfied: six>=1.5 in /usr/local/lib/python3.10/dist-packages (from python-dateutil>=2.7->matplotlib) (1.16.0)\n"
          ]
        }
      ]
    },
    {
      "cell_type": "code",
      "source": [],
      "metadata": {
        "id": "i3S09eTLYjMl"
      },
      "execution_count": null,
      "outputs": []
    },
    {
      "cell_type": "code",
      "source": [
        "import pandas as pd\n",
        "import matplotlib.pyplot as plt\n",
        "import chardet\n",
        "\n",
        "# Detecta a codificação\n",
        "with open(\"/content/votacao_candidato_409.csv\", 'rb') as rawdata:\n",
        "    result = chardet.detect(rawdata.read(100000))\n",
        "\n",
        "print(f\"Codificação detectada: {result['encoding']}\")\n",
        "\n",
        "# Carrega o CSV com a codificação e o separador corretos\n",
        "df_409 = pd.read_csv(\"/content/votacao_candidato_409.csv\", encoding=result['encoding'], sep=\";\")\n",
        "\n",
        "# Agrupa por partido e soma os votos nominais\n",
        "df_agregado_409 = df_409.groupby('Partido')['Votos nominais'].sum().reset_index()\n",
        "\n",
        "# Ordena os dados para o gráfico (opcional, mas recomendado)\n",
        "df_agregado_409 = df_agregado_409.sort_values('Votos nominais', ascending=False)\n",
        "\n",
        "\n",
        "\n",
        "# Cria o gráfico\n",
        "plt.figure(figsize=(12, 6))\n",
        "bars = plt.bar(df_agregado_409['Partido'], df_agregado_409['Votos nominais'], color=plt.colormaps['tab20'].colors)\n",
        "\n",
        "plt.xlabel('Partido', fontsize=12)\n",
        "plt.ylabel('Soma de Votos Nominais', fontsize=12)\n",
        "plt.title('Votos Nominais por Partido - SBC - Zona 284 - Eleição 2022 - Dep. Estadual', fontsize=14)\n",
        "plt.xticks(rotation=90, ha='right')\n",
        "plt.tight_layout()\n",
        "plt.grid(axis='y', linestyle='--', alpha=0.7)\n",
        "\n",
        "\n",
        "for bar in bars:\n",
        "    height = bar.get_height()\n",
        "    plt.text(bar.get_x() + bar.get_width()/2., height,\n",
        "             f'{height:.0f}', ha='center', va='bottom')\n",
        "\n",
        "\n",
        "plt.show()"
      ],
      "metadata": {
        "colab": {
          "base_uri": "https://localhost:8080/",
          "height": 501
        },
        "outputId": "91f19f03-c669-4dff-a7ce-41050928fa07",
        "id": "zzeEfg6gwsII"
      },
      "execution_count": 16,
      "outputs": [
        {
          "output_type": "stream",
          "name": "stdout",
          "text": [
            "Codificação detectada: ISO-8859-1\n"
          ]
        },
        {
          "output_type": "display_data",
          "data": {
            "text/plain": [
              "<Figure size 1200x600 with 1 Axes>"
            ],
            "image/png": "[encoded data removed]"
          },
          "metadata": {}
        }
      ]
    }
  ]
}