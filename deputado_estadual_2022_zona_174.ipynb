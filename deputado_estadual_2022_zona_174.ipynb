{
  "nbformat": 4,
  "nbformat_minor": 0,
  "metadata": {
    "colab": {
      "provenance": [],
      "authorship_tag": "ABX9TyMNpLk6+IGFbuKDFm3nSjGj",
      "include_colab_link": true
    },
    "kernelspec": {
      "name": "python3",
      "display_name": "Python 3"
    },
    "language_info": {
      "name": "python"
    }
  },
  "cells": [
    {
      "cell_type": "markdown",
      "metadata": {
        "id": "view-in-github",
        "colab_type": "text"
      },
      "source": [
        "<a href=\"https://colab.research.google.com/github/jmcava/jmcava/blob/main/deputado_estadual_2022_zona_174.ipynb\" target=\"_parent\"><img src=\"https://colab.research.google.com/assets/colab-badge.svg\" alt=\"Open In Colab\"/></a>"
      ]
    },
    {
      "cell_type": "code",
      "source": [
        "import pandas as pd\n",
        "\n",
        "import pandas as pd\n",
        "\n",
        "# Tentar carregar o arquivo com a codificação 'ISO-8859-1'\n",
        "candidatos = pd.read_csv('/content/cand_mais_votado-municipio_deputado_estadual_2022_sudeste_sp_sao_bernardo_do_campo_174.csv', encoding='ISO-8859-1')\n",
        "\n",
        "# Filtrar os candidatos que foram eleitos (incluindo \"Eleito por QP\" e \"Eleito por média\")\n",
        "eleitos = candidatos[candidatos['ds_sit_tot_turno'].isin(['Eleito por QP', 'Eleito por média'])]\n",
        "\n",
        "# Criar um dicionário para armazenar os resultados por zona\n",
        "eleitos_por_zona = {}\n",
        "\n",
        "# Contagem dos eleitos\n",
        "total_elegidos = 0\n",
        "\n",
        "# Listar todos os eleitos por zona eleitoral\n",
        "for zona in candidatos['nr_zona'].unique():\n",
        "    # Filtrar os eleitos para a zona atual\n",
        "    eleitos_zona = eleitos[eleitos['nr_zona'] == zona]\n",
        "\n",
        "    # Verificar se há eleitos na zona\n",
        "    if not eleitos_zona.empty:\n",
        "        # Adicionar todos os candidatos eleitos da zona ao dicionário\n",
        "        eleitos_por_zona[zona] = []\n",
        "        total_elegidos += len(eleitos_zona)  # Contar o número de eleitos na zona\n",
        "        for _, candidato in eleitos_zona.iterrows():\n",
        "            eleitos_por_zona[zona].append({\n",
        "                'nm_candidato': candidato['nm_candidato'],\n",
        "                'sg_partido': candidato['sg_partido'],\n",
        "                'qt_votos_nom_validos': candidato['qt_votos_nom_validos']\n",
        "            })\n",
        "\n",
        "# Exibir os resultados para cada zona e a contagem total\n",
        "print(f\"Total de Deputados Eleitos: {total_elegidos}\")\n",
        "print(\"Confirmando os 94 Deputados Eleitos...\")\n",
        "\n",
        "# Verificar se o número de eleitos é 94\n",
        "if total_elegidos == 94:\n",
        "    print(\"A contagem de deputados eleitos está correta.\")\n",
        "else:\n",
        "    print(f\"Erro: A contagem de deputados eleitos está incorreta. Foram encontrados {total_elegidos} deputados eleitos.\")\n",
        "\n",
        "# Exibir os resultados dos candidatos eleitos\n",
        "for zona, candidatos_na_zona in eleitos_por_zona.items():\n",
        "    print(f\"\\nZona Eleitoral {zona}:\")\n",
        "    for candidato in candidatos_na_zona:\n",
        "        print(f\"Candidato: {candidato['nm_candidato']}\")\n",
        "        print(f\"Partido: {candidato['sg_partido']}\")\n",
        "        print(f\"Votos: {candidato['qt_votos_nom_validos']}\")\n",
        "        print('-' * 50)\n",
        "print(candidatos.head)"
      ],
      "metadata": {
        "colab": {
          "base_uri": "https://localhost:8080/",
          "height": 547
        },
        "id": "YAUPLUNWqBYe",
        "outputId": "9755fee7-79b6-4750-bc3f-c7b208a2a4f7"
      },
      "execution_count": 61,
      "outputs": [
        {
          "output_type": "error",
          "ename": "KeyError",
          "evalue": "'ds_sit_tot_turno'",
          "traceback": [
            "\u001b[0;31m---------------------------------------------------------------------------\u001b[0m",
            "\u001b[0;31mKeyError\u001b[0m                                  Traceback (most recent call last)",
            "\u001b[0;32m/usr/local/lib/python3.10/dist-packages/pandas/core/indexes/base.py\u001b[0m in \u001b[0;36mget_loc\u001b[0;34m(self, key)\u001b[0m\n\u001b[1;32m   3804\u001b[0m         \u001b[0;32mtry\u001b[0m\u001b[0;34m:\u001b[0m\u001b[0;34m\u001b[0m\u001b[0;34m\u001b[0m\u001b[0m\n\u001b[0;32m-> 3805\u001b[0;31m             \u001b[0;32mreturn\u001b[0m \u001b[0mself\u001b[0m\u001b[0;34m.\u001b[0m\u001b[0m_engine\u001b[0m\u001b[0;34m.\u001b[0m\u001b[0mget_loc\u001b[0m\u001b[0;34m(\u001b[0m\u001b[0mcasted_key\u001b[0m\u001b[0;34m)\u001b[0m\u001b[0;34m\u001b[0m\u001b[0;34m\u001b[0m\u001b[0m\n\u001b[0m\u001b[1;32m   3806\u001b[0m         \u001b[0;32mexcept\u001b[0m \u001b[0mKeyError\u001b[0m \u001b[0;32mas\u001b[0m \u001b[0merr\u001b[0m\u001b[0;34m:\u001b[0m\u001b[0;34m\u001b[0m\u001b[0;34m\u001b[0m\u001b[0m\n",
            "\u001b[0;32mindex.pyx\u001b[0m in \u001b[0;36mpandas._libs.index.IndexEngine.get_loc\u001b[0;34m()\u001b[0m\n",
            "\u001b[0;32mindex.pyx\u001b[0m in \u001b[0;36mpandas._libs.index.IndexEngine.get_loc\u001b[0;34m()\u001b[0m\n",
            "\u001b[0;32mpandas/_libs/hashtable_class_helper.pxi\u001b[0m in \u001b[0;36mpandas._libs.hashtable.PyObjectHashTable.get_item\u001b[0;34m()\u001b[0m\n",
            "\u001b[0;32mpandas/_libs/hashtable_class_helper.pxi\u001b[0m in \u001b[0;36mpandas._libs.hashtable.PyObjectHashTable.get_item\u001b[0;34m()\u001b[0m\n",
            "\u001b[0;31mKeyError\u001b[0m: 'ds_sit_tot_turno'",
            "\nThe above exception was the direct cause of the following exception:\n",
            "\u001b[0;31mKeyError\u001b[0m                                  Traceback (most recent call last)",
            "\u001b[0;32m<ipython-input-61-78b6823441e3>\u001b[0m in \u001b[0;36m<cell line: 9>\u001b[0;34m()\u001b[0m\n\u001b[1;32m      7\u001b[0m \u001b[0;34m\u001b[0m\u001b[0m\n\u001b[1;32m      8\u001b[0m \u001b[0;31m# Filtrar os candidatos que foram eleitos (incluindo \"Eleito por QP\" e \"Eleito por média\")\u001b[0m\u001b[0;34m\u001b[0m\u001b[0;34m\u001b[0m\u001b[0m\n\u001b[0;32m----> 9\u001b[0;31m \u001b[0meleitos\u001b[0m \u001b[0;34m=\u001b[0m \u001b[0mcandidatos\u001b[0m\u001b[0;34m[\u001b[0m\u001b[0mcandidatos\u001b[0m\u001b[0;34m[\u001b[0m\u001b[0;34m'ds_sit_tot_turno'\u001b[0m\u001b[0;34m]\u001b[0m\u001b[0;34m.\u001b[0m\u001b[0misin\u001b[0m\u001b[0;34m(\u001b[0m\u001b[0;34m[\u001b[0m\u001b[0;34m'Eleito por QP'\u001b[0m\u001b[0;34m,\u001b[0m \u001b[0;34m'Eleito por média'\u001b[0m\u001b[0;34m]\u001b[0m\u001b[0;34m)\u001b[0m\u001b[0;34m]\u001b[0m\u001b[0;34m\u001b[0m\u001b[0;34m\u001b[0m\u001b[0m\n\u001b[0m\u001b[1;32m     10\u001b[0m \u001b[0;34m\u001b[0m\u001b[0m\n\u001b[1;32m     11\u001b[0m \u001b[0;31m# Criar um dicionário para armazenar os resultados por zona\u001b[0m\u001b[0;34m\u001b[0m\u001b[0;34m\u001b[0m\u001b[0m\n",
            "\u001b[0;32m/usr/local/lib/python3.10/dist-packages/pandas/core/frame.py\u001b[0m in \u001b[0;36m__getitem__\u001b[0;34m(self, key)\u001b[0m\n\u001b[1;32m   4100\u001b[0m             \u001b[0;32mif\u001b[0m \u001b[0mself\u001b[0m\u001b[0;34m.\u001b[0m\u001b[0mcolumns\u001b[0m\u001b[0;34m.\u001b[0m\u001b[0mnlevels\u001b[0m \u001b[0;34m>\u001b[0m \u001b[0;36m1\u001b[0m\u001b[0;34m:\u001b[0m\u001b[0;34m\u001b[0m\u001b[0;34m\u001b[0m\u001b[0m\n\u001b[1;32m   4101\u001b[0m                 \u001b[0;32mreturn\u001b[0m \u001b[0mself\u001b[0m\u001b[0;34m.\u001b[0m\u001b[0m_getitem_multilevel\u001b[0m\u001b[0;34m(\u001b[0m\u001b[0mkey\u001b[0m\u001b[0;34m)\u001b[0m\u001b[0;34m\u001b[0m\u001b[0;34m\u001b[0m\u001b[0m\n\u001b[0;32m-> 4102\u001b[0;31m             \u001b[0mindexer\u001b[0m \u001b[0;34m=\u001b[0m \u001b[0mself\u001b[0m\u001b[0;34m.\u001b[0m\u001b[0mcolumns\u001b[0m\u001b[0;34m.\u001b[0m\u001b[0mget_loc\u001b[0m\u001b[0;34m(\u001b[0m\u001b[0mkey\u001b[0m\u001b[0;34m)\u001b[0m\u001b[0;34m\u001b[0m\u001b[0;34m\u001b[0m\u001b[0m\n\u001b[0m\u001b[1;32m   4103\u001b[0m             \u001b[0;32mif\u001b[0m \u001b[0mis_integer\u001b[0m\u001b[0;34m(\u001b[0m\u001b[0mindexer\u001b[0m\u001b[0;34m)\u001b[0m\u001b[0;34m:\u001b[0m\u001b[0;34m\u001b[0m\u001b[0;34m\u001b[0m\u001b[0m\n\u001b[1;32m   4104\u001b[0m                 \u001b[0mindexer\u001b[0m \u001b[0;34m=\u001b[0m \u001b[0;34m[\u001b[0m\u001b[0mindexer\u001b[0m\u001b[0;34m]\u001b[0m\u001b[0;34m\u001b[0m\u001b[0;34m\u001b[0m\u001b[0m\n",
            "\u001b[0;32m/usr/local/lib/python3.10/dist-packages/pandas/core/indexes/base.py\u001b[0m in \u001b[0;36mget_loc\u001b[0;34m(self, key)\u001b[0m\n\u001b[1;32m   3810\u001b[0m             ):\n\u001b[1;32m   3811\u001b[0m                 \u001b[0;32mraise\u001b[0m \u001b[0mInvalidIndexError\u001b[0m\u001b[0;34m(\u001b[0m\u001b[0mkey\u001b[0m\u001b[0;34m)\u001b[0m\u001b[0;34m\u001b[0m\u001b[0;34m\u001b[0m\u001b[0m\n\u001b[0;32m-> 3812\u001b[0;31m             \u001b[0;32mraise\u001b[0m \u001b[0mKeyError\u001b[0m\u001b[0;34m(\u001b[0m\u001b[0mkey\u001b[0m\u001b[0;34m)\u001b[0m \u001b[0;32mfrom\u001b[0m \u001b[0merr\u001b[0m\u001b[0;34m\u001b[0m\u001b[0;34m\u001b[0m\u001b[0m\n\u001b[0m\u001b[1;32m   3813\u001b[0m         \u001b[0;32mexcept\u001b[0m \u001b[0mTypeError\u001b[0m\u001b[0;34m:\u001b[0m\u001b[0;34m\u001b[0m\u001b[0;34m\u001b[0m\u001b[0m\n\u001b[1;32m   3814\u001b[0m             \u001b[0;31m# If we have a listlike key, _check_indexing_error will raise\u001b[0m\u001b[0;34m\u001b[0m\u001b[0;34m\u001b[0m\u001b[0m\n",
            "\u001b[0;31mKeyError\u001b[0m: 'ds_sit_tot_turno'"
          ]
        }
      ]
    },
    {
      "cell_type": "code",
      "source": [
        "# Exibir as primeiras linhas e os nomes das colunas\n",
        "print(candidatos.head())  # Primeiras linhas\n",
        "print(candidatos.columns)  # Nomes das colunas\n"
      ],
      "metadata": {
        "colab": {
          "base_uri": "https://localhost:8080/"
        },
        "id": "Adk6aCcrvxmP",
        "outputId": "11cb9cea-a7eb-4bc9-844f-1d1e2161b738"
      },
      "execution_count": 62,
      "outputs": [
        {
          "output_type": "stream",
          "name": "stdout",
          "text": [
            "  sg_uf;nr_zona;nm_municipio;ds_cargo;nr_candidato;nm_candidato;sg_partido;ds_composicao_coligacao;nr_turno;ds_sit_tot_turno;cd_cargo;sg_ue;sq_candidato;sq_eleicao_divulga;nm_regiao;qt_votos_nom_validos\n",
            "0  SP;174;SÃO BERNARDO DO CAMPO;Deputado Estadual...                                                                                                                                                      \n",
            "1  SP;174;SÃO BERNARDO DO CAMPO;Deputado Estadual...                                                                                                                                                      \n",
            "2  SP;174;SÃO BERNARDO DO CAMPO;Deputado Estadual...                                                                                                                                                      \n",
            "3  SP;174;SÃO BERNARDO DO CAMPO;Deputado Estadual...                                                                                                                                                      \n",
            "4  SP;174;SÃO BERNARDO DO CAMPO;Deputado Estadual...                                                                                                                                                      \n",
            "Index(['sg_uf;nr_zona;nm_municipio;ds_cargo;nr_candidato;nm_candidato;sg_partido;ds_composicao_coligacao;nr_turno;ds_sit_tot_turno;cd_cargo;sg_ue;sq_candidato;sq_eleicao_divulga;nm_regiao;qt_votos_nom_validos'], dtype='object')\n"
          ]
        }
      ]
    },
    {
      "cell_type": "code",
      "source": [
        "# Caso a coluna tenha espaços extras ou formatação errada\n",
        "candidatos.columns = candidatos.columns.str.strip()  # Remove espaços extras\n",
        "print(candidatos.columns)  # Verificar novamente os nomes das colunas\n"
      ],
      "metadata": {
        "colab": {
          "base_uri": "https://localhost:8080/"
        },
        "id": "baWh4exIv204",
        "outputId": "00f8628f-bc8d-4445-92ed-cb00c8129e75"
      },
      "execution_count": 63,
      "outputs": [
        {
          "output_type": "stream",
          "name": "stdout",
          "text": [
            "Index(['sg_uf;nr_zona;nm_municipio;ds_cargo;nr_candidato;nm_candidato;sg_partido;ds_composicao_coligacao;nr_turno;ds_sit_tot_turno;cd_cargo;sg_ue;sq_candidato;sq_eleicao_divulga;nm_regiao;qt_votos_nom_validos'], dtype='object')\n"
          ]
        }
      ]
    }
  ]
}