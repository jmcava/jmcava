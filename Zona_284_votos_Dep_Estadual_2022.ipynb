{
  "nbformat": 4,
  "nbformat_minor": 0,
  "metadata": {
    "colab": {
      "provenance": [],
      "authorship_tag": "ABX9TyMwnfeWnNhoYX2Ls0l7MLDt",
      "include_colab_link": true
    },
    "kernelspec": {
      "name": "python3",
      "display_name": "Python 3"
    },
    "language_info": {
      "name": "python"
    }
  },
  "cells": [
    {
      "cell_type": "markdown",
      "metadata": {
        "id": "view-in-github",
        "colab_type": "text"
      },
      "source": [
        "<a href=\"https://colab.research.google.com/github/jmcava/jmcava/blob/main/Zona_284_votos_Dep_Estadual_2022.ipynb\" target=\"_parent\"><img src=\"https://colab.research.google.com/assets/colab-badge.svg\" alt=\"Open In Colab\"/></a>"
      ]
    },
    {
      "cell_type": "code",
      "source": [],
      "metadata": {
        "id": "GZFy_DM7KRGE"
      },
      "execution_count": null,
      "outputs": []
    },
    {
      "cell_type": "code",
      "source": [
        "import pandas as pd\n",
        "\n",
        "# Caminho do arquivo CSV\n",
        "file_path = '/content/votacao_candidato_284.csv'\n",
        "\n",
        "# Carregar o arquivo com a codificação adequada e o separador correto\n",
        "try:\n",
        "    df = pd.read_csv(file_path, encoding='utf-8', sep=';')\n",
        "except UnicodeDecodeError:\n",
        "    df = pd.read_csv(file_path, encoding='latin1', sep=';')\n",
        "\n",
        "# Exibir as colunas para confirmação\n",
        "print(\"Colunas disponíveis no arquivo:\")\n",
        "print(df.columns)\n",
        "\n",
        "# Filtrar apenas os candidatos eleitos e reeleitos com base na situação de totalização\n",
        "# Certifique-se de ajustar os valores de acordo com a nomenclatura do seu arquivo\n",
        "df_eleitos = df[df['Situação totalização'].str.contains('Eleito', case=False, na=False)]\n",
        "\n",
        "# Selecionar colunas relevantes\n",
        "df_eleitos = df_eleitos[['Nome candidato', 'Partido','Votos nominais']]\n",
        "\n",
        "# Ordenar por votos nominais de forma decrescente\n",
        "df_eleitos_sorted = df_eleitos.sort_values(by='Votos nominais', ascending=False)\n",
        "\n",
        "# Mostrar os primeiros registros para validação\n",
        "print(df_eleitos_sorted.head())\n",
        "\n",
        "# Salvar o resultado em um novo arquivo CSV\n",
        "df_eleitos_sorted.to_csv('/content/candidatos_eleitos_284.csv', index=False, encoding='utf-8')\n"
      ],
      "metadata": {
        "colab": {
          "base_uri": "https://localhost:8080/"
        },
        "id": "NHSdCJAh0Wl4",
        "outputId": "14b9b214-8ad7-4321-f064-cd6795bf0f85"
      },
      "execution_count": 11,
      "outputs": [
        {
          "output_type": "stream",
          "name": "stdout",
          "text": [
            "Colunas disponíveis no arquivo:\n",
            "Index(['Ano de eleição', 'Nome candidato', 'Partido', 'Situação totalização',\n",
            "       'Votos nominais', 'Data de carga'],\n",
            "      dtype='object')\n",
            "                        Nome candidato    Partido  Votos nominais\n",
            "753              CARLA SARDANO MORANDO       PSDB           12759\n",
            "1055         EDUARDO MATARAZZO SUPLICY         PT            2928\n",
            "1096             THIAGO REIS AURICCHIO         PL            1845\n",
            "1877  ANA CAROLINA ROSSI BARRETO SERRA  CIDADANIA            1537\n",
            "1433        TEONÍLIO MONTEIRO DA COSTA         PT            1394\n"
          ]
        }
      ]
    },
    {
      "cell_type": "code",
      "source": [
        "print(df_eleitos)"
      ],
      "metadata": {
        "colab": {
          "base_uri": "https://localhost:8080/"
        },
        "id": "8DRvAZgIi9wO",
        "outputId": "65766037-9f36-428e-e9b9-531a045c5e03"
      },
      "execution_count": 12,
      "outputs": [
        {
          "output_type": "stream",
          "name": "stdout",
          "text": [
            "                   Nome candidato Partido  Votos nominais\n",
            "15    DANILO MASCARENHAS DE BALAS      PL             120\n",
            "16     JOSE ANTONIO BARROS MUNHOZ    PSDB              15\n",
            "23        THAINARA KAROLINE FARIA      PT              28\n",
            "27       ADRIANO DE BARROS CARUSO     PTB               0\n",
            "28          JOSE MARCIO DE CAMPOS     PTB               0\n",
            "...                           ...     ...             ...\n",
            "1919                 ALDO ALMEIDA    AGIR               0\n",
            "1920   PAULO KAZUO DE SOUZA IFUKU    AGIR               3\n",
            "1921         WAGNER ALVES DE LIMA    AGIR               1\n",
            "1922             REINALDO MARTINS    AGIR               0\n",
            "1923           EDVAN LIMA BARBOSA     PMB               0\n",
            "\n",
            "[784 rows x 3 columns]\n"
          ]
        }
      ]
    },
    {
      "cell_type": "code",
      "source": [],
      "metadata": {
        "id": "2nbn0o5v4qzL"
      },
      "execution_count": null,
      "outputs": []
    },
    {
      "cell_type": "code",
      "source": [
        "# Verifique os valores únicos na coluna de Situação totalização para identificar o termo correto\n",
        "print(df['Situação totalização'].unique())\n",
        "\n",
        "# Ajustar o filtro para incluir apenas candidatos eleitos\n",
        "df_eleitos_corrigido = df[df['Situação totalização'].isin(['Eleito', 'Eleito por Média', 'Eleito por QP'])]\n",
        "\n",
        "# Recontar o total de candidatos eleitos\n",
        "total_eleitos_corrigido = len(df_eleitos_corrigido)\n",
        "print(f\"Total de candidatos eleitos: {total_eleitos_corrigido}\")\n"
      ],
      "metadata": {
        "colab": {
          "base_uri": "https://localhost:8080/"
        },
        "id": "bRyIhvCa1RjP",
        "outputId": "ea4e4cc8-2098-4960-cea8-50a7a8486cc1"
      },
      "execution_count": 13,
      "outputs": [
        {
          "output_type": "stream",
          "name": "stdout",
          "text": [
            "['Suplente' 'Eleito' 'Não Eleito']\n",
            "Total de candidatos eleitos: 94\n"
          ]
        }
      ]
    },
    {
      "cell_type": "code",
      "source": [],
      "metadata": {
        "id": "K-wHIYcy4z4l"
      },
      "execution_count": null,
      "outputs": []
    },
    {
      "cell_type": "code",
      "source": [
        "# Filtrar apenas os candidatos eleitos\n",
        "df_eleitos = df[df['Situação totalização'] == 'Eleito']\n",
        "\n",
        "# Selecionar as colunas necessárias e ordená-las\n",
        "df_final = df_eleitos[['Nome candidato', 'Partido', 'Votos nominais']]\n",
        "\n",
        "# Exibir as primeiras linhas do resultado\n",
        "print(df_final.head())\n",
        "\n",
        "# Salvar o resultado em um novo arquivo CSV, se necessário\n",
        "df_final.to_csv('/content/candidatos_eleitos_filtrados.csv', index=False, encoding='utf-8')\n"
      ],
      "metadata": {
        "colab": {
          "base_uri": "https://localhost:8080/"
        },
        "id": "wERdhl1z5SrK",
        "outputId": "1cdd2c14-4f08-4925-cb48-29dbe0448876"
      },
      "execution_count": 15,
      "outputs": [
        {
          "output_type": "stream",
          "name": "stdout",
          "text": [
            "                 Nome candidato Partido  Votos nominais\n",
            "15  DANILO MASCARENHAS DE BALAS      PL             120\n",
            "16   JOSE ANTONIO BARROS MUNHOZ    PSDB              15\n",
            "23      THAINARA KAROLINE FARIA      PT              28\n",
            "71            ANALICE FERNANDES    PSDB              20\n",
            "72   VINICIUS ALMEIDA CAMARINHA    PSDB               6\n"
          ]
        }
      ]
    },
    {
      "cell_type": "code",
      "source": [],
      "metadata": {
        "id": "sHpxaSCK5Jjw"
      },
      "execution_count": null,
      "outputs": []
    },
    {
      "cell_type": "code",
      "source": [
        "# Filtrar apenas os candidatos eleitos\n",
        "df_eleitos = df[df['Situação totalização'] == 'Eleito']\n",
        "\n",
        "# Selecionar as colunas necessárias\n",
        "df_final = df_eleitos[['Nome candidato', 'Partido', 'Votos nominais']]\n",
        "\n",
        "# Ordenar os candidatos pela coluna 'Votos nominais' de forma decrescente\n",
        "df_final_sorted = df_final.sort_values(by='Votos nominais', ascending=False)\n",
        "\n",
        "# Exibir as primeiras linhas do resultado ordenado\n",
        "print(df_final_sorted.head())\n",
        "\n",
        "# Salvar o resultado em um novo arquivo CSV, se necessário\n",
        "df_final_sorted.to_csv('/content/candidatos_eleitos_ordenados.csv', index=False, encoding='utf-8')\n"
      ],
      "metadata": {
        "colab": {
          "base_uri": "https://localhost:8080/"
        },
        "id": "_JEfCyfV5wla",
        "outputId": "9fd0f101-a312-4cf1-fc05-cd2157434fb8"
      },
      "execution_count": 16,
      "outputs": [
        {
          "output_type": "stream",
          "name": "stdout",
          "text": [
            "                        Nome candidato    Partido  Votos nominais\n",
            "753              CARLA SARDANO MORANDO       PSDB           12759\n",
            "1055         EDUARDO MATARAZZO SUPLICY         PT            2928\n",
            "1096             THIAGO REIS AURICCHIO         PL            1845\n",
            "1877  ANA CAROLINA ROSSI BARRETO SERRA  CIDADANIA            1537\n",
            "1433        TEONÍLIO MONTEIRO DA COSTA         PT            1394\n"
          ]
        }
      ]
    },
    {
      "cell_type": "code",
      "source": [],
      "metadata": {
        "id": "i0u3HQQM6ZS-"
      },
      "execution_count": null,
      "outputs": []
    },
    {
      "cell_type": "code",
      "source": [
        "# Filtrar os candidatos eleitos e selecionar as colunas necessárias\n",
        "df_eleitos = df[df['Situação totalização'] == 'Eleito']\n",
        "df_final = df_eleitos[['Nome candidato', 'Partido', 'Votos nominais']]\n",
        "\n",
        "# Ordenar os candidatos pela coluna 'Votos nominais' de forma decrescente\n",
        "df_final_sorted = df_final.sort_values(by='Votos nominais', ascending=False)\n",
        "\n",
        "# Enumerar os candidatos na ordem, começando pelo número 1\n",
        "df_final_sorted['Posição'] = range(1, len(df_final_sorted) + 1)\n",
        "\n",
        "# Exibir as primeiras linhas do resultado com a numeração\n",
        "print(df_final_sorted.head())\n",
        "\n",
        "# Salvar o resultado em um novo arquivo CSV, se necessário\n",
        "df_final_sorted.to_csv('/content/candidatos_eleitos_ordenados_com_numeracao.csv', index=False, encoding='utf-8')\n"
      ],
      "metadata": {
        "colab": {
          "base_uri": "https://localhost:8080/"
        },
        "id": "oVzhUU1j6aS3",
        "outputId": "de294d97-934b-4e39-ae5d-5e9afb257109"
      },
      "execution_count": 17,
      "outputs": [
        {
          "output_type": "stream",
          "name": "stdout",
          "text": [
            "                        Nome candidato    Partido  Votos nominais  Posição\n",
            "753              CARLA SARDANO MORANDO       PSDB           12759        1\n",
            "1055         EDUARDO MATARAZZO SUPLICY         PT            2928        2\n",
            "1096             THIAGO REIS AURICCHIO         PL            1845        3\n",
            "1877  ANA CAROLINA ROSSI BARRETO SERRA  CIDADANIA            1537        4\n",
            "1433        TEONÍLIO MONTEIRO DA COSTA         PT            1394        5\n"
          ]
        }
      ]
    },
    {
      "cell_type": "code",
      "source": [],
      "metadata": {
        "id": "D7rjRmq76xkw"
      },
      "execution_count": null,
      "outputs": []
    },
    {
      "cell_type": "code",
      "source": [
        "# Filtrar os candidatos eleitos e selecionar as colunas necessárias\n",
        "df_eleitos = df[df['Situação totalização'] == 'Eleito']\n",
        "df_final = df_eleitos[['Nome candidato', 'Partido', 'Votos nominais']]\n",
        "\n",
        "# Ordenar os candidatos pela coluna 'Votos nominais' de forma decrescente\n",
        "df_final_sorted = df_final.sort_values(by='Votos nominais', ascending=False)\n",
        "\n",
        "# Enumerar os candidatos na ordem, começando pelo número 1\n",
        "df_final_sorted['Posição'] = range(1, len(df_final_sorted) + 1)\n",
        "\n",
        "# Reorganizar as colunas para garantir que 'Posição' seja a primeira\n",
        "df_final_sorted = df_final_sorted[['Posição', 'Nome candidato', 'Partido', 'Votos nominais']]\n",
        "\n",
        "# Exibir as primeiras linhas do resultado com a numeração\n",
        "print(df_final_sorted.head())\n",
        "\n",
        "# Salvar o resultado em um novo arquivo CSV, se necessário\n",
        "df_final_sorted.to_csv('/content/candidatos_eleitos_ordenados_com_numeracao.csv', index=False, encoding='utf-8')\n"
      ],
      "metadata": {
        "colab": {
          "base_uri": "https://localhost:8080/"
        },
        "id": "3l2vtT6O6z_6",
        "outputId": "56fd0996-2040-4c60-fff8-069c09d024e8"
      },
      "execution_count": 18,
      "outputs": [
        {
          "output_type": "stream",
          "name": "stdout",
          "text": [
            "      Posição                    Nome candidato    Partido  Votos nominais\n",
            "753         1             CARLA SARDANO MORANDO       PSDB           12759\n",
            "1055        2         EDUARDO MATARAZZO SUPLICY         PT            2928\n",
            "1096        3             THIAGO REIS AURICCHIO         PL            1845\n",
            "1877        4  ANA CAROLINA ROSSI BARRETO SERRA  CIDADANIA            1537\n",
            "1433        5        TEONÍLIO MONTEIRO DA COSTA         PT            1394\n"
          ]
        }
      ]
    },
    {
      "cell_type": "code",
      "source": [],
      "metadata": {
        "id": "wqp8fKfb65HF"
      },
      "execution_count": null,
      "outputs": []
    },
    {
      "cell_type": "code",
      "source": [
        "# Exibir o índice das linhas do DataFrame final para ver de onde elas vêm\n",
        "print(df_final_sorted.index)\n"
      ],
      "metadata": {
        "colab": {
          "base_uri": "https://localhost:8080/"
        },
        "id": "LjikDTzZ7P82",
        "outputId": "d55e669e-207b-41d5-b813-b057b93e4766"
      },
      "execution_count": 19,
      "outputs": [
        {
          "output_type": "stream",
          "name": "stdout",
          "text": [
            "Index([ 753, 1055, 1096, 1877, 1433, 1184, 1463, 1878, 1171,  275,  442, 1097,\n",
            "       1238, 1167, 1809, 1379,  196,  712, 1516, 1255,  564, 1383, 1703,  313,\n",
            "        810,  204, 1042,  330,  123,  817, 1476, 1880,  312,  583, 1165, 1328,\n",
            "       1568, 1128,  132,   15,  256,  154,  396,  945, 1303,  932,  184,  344,\n",
            "        133, 1310, 1431,  319,  327, 1008, 1461, 1156, 1247,  752,  630, 1574,\n",
            "        935,   23,  758,  988,  494,  326, 1812,   71,  819,  960,  826,   16,\n",
            "        511,  398,  930, 1782, 1612, 1434, 1243,  513,  696, 1701,  627,  779,\n",
            "       1873, 1791,  780,  570,   72, 1627,  697, 1629, 1053, 1771],\n",
            "      dtype='int64')\n"
          ]
        }
      ]
    },
    {
      "cell_type": "code",
      "source": [],
      "metadata": {
        "id": "9W-D_TiL68at"
      },
      "execution_count": null,
      "outputs": []
    },
    {
      "cell_type": "code",
      "source": [
        "# Exibir o índice das linhas do DataFrame final para ver de onde elas vêm\n",
        "print(df_final_sorted.index)\n"
      ],
      "metadata": {
        "colab": {
          "base_uri": "https://localhost:8080/"
        },
        "outputId": "62bb1113-a1cb-400b-bf7c-6c0dab6178ca",
        "id": "E7t4ycMl7A7Y"
      },
      "execution_count": 20,
      "outputs": [
        {
          "output_type": "stream",
          "name": "stdout",
          "text": [
            "Index([ 753, 1055, 1096, 1877, 1433, 1184, 1463, 1878, 1171,  275,  442, 1097,\n",
            "       1238, 1167, 1809, 1379,  196,  712, 1516, 1255,  564, 1383, 1703,  313,\n",
            "        810,  204, 1042,  330,  123,  817, 1476, 1880,  312,  583, 1165, 1328,\n",
            "       1568, 1128,  132,   15,  256,  154,  396,  945, 1303,  932,  184,  344,\n",
            "        133, 1310, 1431,  319,  327, 1008, 1461, 1156, 1247,  752,  630, 1574,\n",
            "        935,   23,  758,  988,  494,  326, 1812,   71,  819,  960,  826,   16,\n",
            "        511,  398,  930, 1782, 1612, 1434, 1243,  513,  696, 1701,  627,  779,\n",
            "       1873, 1791,  780,  570,   72, 1627,  697, 1629, 1053, 1771],\n",
            "      dtype='int64')\n"
          ]
        }
      ]
    },
    {
      "cell_type": "code",
      "source": [
        "# Exibir o DataFrame sem o índice\n",
        "print(df_final_sorted.to_string(index=False))\n"
      ],
      "metadata": {
        "colab": {
          "base_uri": "https://localhost:8080/"
        },
        "id": "-NELmi917IIG",
        "outputId": "cc85d4a8-cae4-4ea2-ce54-66d0783f2c35"
      },
      "execution_count": 21,
      "outputs": [
        {
          "output_type": "stream",
          "name": "stdout",
          "text": [
            " Posição                         Nome candidato       Partido  Votos nominais\n",
            "       1                  CARLA SARDANO MORANDO          PSDB           12759\n",
            "       2              EDUARDO MATARAZZO SUPLICY            PT            2928\n",
            "       3                  THIAGO REIS AURICCHIO            PL            1845\n",
            "       4       ANA CAROLINA ROSSI BARRETO SERRA     CIDADANIA            1537\n",
            "       5             TEONÍLIO MONTEIRO DA COSTA            PT            1394\n",
            "       6                            TOME ABDUCH  REPUBLICANOS            1044\n",
            "       7                 BRUNO ZAMBELLI SALGADO            PL            1038\n",
            "       8        LUIZ FERNANDO TEIXEIRA FERREIRA            PT            1032\n",
            "       9                 PAULA NUNES DOS SANTOS          PSOL            1004\n",
            "      10                CARLOS ALBERTO GIANNASI          PSOL             875\n",
            "      11              ROBERVAL CONTE LOPES LIMA            PL             637\n",
            "      12                    DIMAS MECCA SAMPAIO            PL             622\n",
            "      13       GILDEVANIO ILSO DOS SANTOS DINIZ            PL             604\n",
            "      14               ANTONIO ASSUNÇÃO DE OLIM            PP             566\n",
            "      15          AUGUSTO ZACARIAS CORREA LEITE         UNIÃO             562\n",
            "      16             EDIANE MARIA DO NASCIMENTO          PSOL             519\n",
            "      17                        LUCAS DIEZ BOVE            PL             443\n",
            "      18              ALTAIR MORAES DE OLIVEIRA  REPUBLICANOS             418\n",
            "      19                 OSEIAS SANTOS DA SILVA           PSD             379\n",
            "      20          MÔNICA CRISTINA SEIXAS BONFIM          PSOL             339\n",
            "      21      MATHEUS COIMBRA MARTINS DE AGUIAR            PL             328\n",
            "      22             ANDRÉA WERNER SILVA BONOLI           PSB             315\n",
            "      23        MARCOS ROBERTO DAMASIO DA SILVA            PL             309\n",
            "      24         VALERIA MULLER RAMOS BOLSONARO            PL             269\n",
            "      25              LEONARDO DE SIQUEIRA LIMA          NOVO             266\n",
            "      26                RICARDO LONGATTI FRANÇA          PODE             262\n",
            "      27                    RAFAEL SARAIVA GAIA         UNIÃO             247\n",
            "      28           RAFAEL HENRIQUE CANO TELHADA            PP             227\n",
            "      29        FELIPE SOUZA MURAKAMI DE FRANCO         UNIÃO             226\n",
            "      30                  CARLOS CEZAR DA SILVA            PL             211\n",
            "      31                  MARINA MEDEIROS HELOU          REDE             185\n",
            "      32                  LECI BRANDÃO DA SILVA       PC do B             178\n",
            "      33                PAULO JORGE MANSUR NETO            PL             163\n",
            "      34                 RUI ALVES SOUZA JUNIOR  REPUBLICANOS             160\n",
            "      35           MARIA IZABEL AZEVEDO NORONHA            PT             153\n",
            "      36       JORGE WILSON GONÇALVES DE MATTOS  REPUBLICANOS             151\n",
            "      37          DANIEL BEZERRA RIBEIRO SOARES         UNIÃO             148\n",
            "      38               MÁRCIO MASSAMI NAKASHIMA           PDT             131\n",
            "      39         JOSÉ ROGERIO SOARES DOS SANTOS           MDB             131\n",
            "      40            DANILO MASCARENHAS DE BALAS            PL             120\n",
            "      41                FABIANA DE LIMA BARROSO            PL              87\n",
            "      42       GUILHERME DA COSTA AGUIAR CORTEZ          PSOL              79\n",
            "      43                EMIDIO PEREIRA DE SOUZA            PT              78\n",
            "      44                 LUIZ CLAUDIO MARCOLINO            PT              71\n",
            "      45                 RODRIGO AUGUSTO MORAES            PL              69\n",
            "      46            MARTA MARIA FREIRE DA COSTA           PSD              66\n",
            "      47            MILTON LEITE DA SILVA FILHO         UNIÃO              56\n",
            "      48            CAIO FRANÇA DE GOUVÊA GOMES           PSB              54\n",
            "      49        ITAMAR FRANCISCO MACHADO BORGES           MDB              51\n",
            "      50                 ROMULO CESAR FERNANDES            PT              50\n",
            "      51         CLARICE CARASSOL AREVALO GANEM          PODE              48\n",
            "      52              BRUNA DIAS FURLAN VICENTE          PSDB              47\n",
            "      53                  PAULO ROBERTO FIORILO            PT              44\n",
            "      54         EDNA BEZERRA SAMPAIO FERNANDES  REPUBLICANOS              43\n",
            "      55         ÁTILA CESAR MONTEIRO JACOMUSSI SOLIDARIEDADE              39\n",
            "      56                    ANDRE LUIS DO PRADO            PL              32\n",
            "      57         MARCIA APARECIDA OVEJANEDA LIA            PT              32\n",
            "      58            ROGERIO NOGUEIRA LOPES CRUZ          PSDB              30\n",
            "      59                        ELISABETH SAHÃO            PT              30\n",
            "      60            ALEXANDER MUNIZ DE OLIVEIRA            PL              29\n",
            "      61                      JORGE LUIS CARUSO           MDB              29\n",
            "      62                THAINARA KAROLINE FARIA            PT              28\n",
            "      63                   ENIO FRANCISCO TATTO            PT              28\n",
            "      64               DANIELE MAZUQUELI ALONSO            PL              26\n",
            "      65            SOLANGE CRISTINA DE FREITAS         UNIÃO              26\n",
            "      66           MARIO MAURICI DE LIMA MORAIS            PT              24\n",
            "      67              PAULO ALVES CORRÊA JUNIOR           PSD              21\n",
            "      68                      ANALICE FERNANDES          PSDB              20\n",
            "      69     GRACIELA DE LOURDES DAVID AMBROSIO            PL              20\n",
            "      70        CAMILA GODOI DA SILVA RODRIGUES           PSB              18\n",
            "      71                 PAULO BATISTA DOS REIS            PT              18\n",
            "      72             JOSE ANTONIO BARROS MUNHOZ          PSDB              15\n",
            "      73                 ANTONIO DONATO MADORMO            PT              15\n",
            "      74           LETICIA AGUIAR RESENDE ALVES            PP              14\n",
            "      75                  EDMIR JOSE ABI CHEDID         UNIÃO              14\n",
            "      76             GILMACI DOS SANTOS BARBOSA  REPUBLICANOS              12\n",
            "      77                 HELIO DONIZETE ZANATTA           PSC              12\n",
            "      78                   JORGE DO CARMO SILVA            PT              12\n",
            "      79                  ANTONIO DIRCEU DALBEN     CIDADANIA              12\n",
            "      80             ANA LUCIA LIPPAUS PERUGINI            PT              12\n",
            "      81               RAFAEL FERNANDO ZIMBALDI     CIDADANIA              10\n",
            "      82                 RICARDO ROSSI MADALENA            PL              10\n",
            "      83        MARIA LUCIA CARDOSO PINTO AMARY          PSDB              10\n",
            "      84              VITOR ALEXANDRE RODRIGUES  REPUBLICANOS               8\n",
            "      85                     GERSON DIAS PESSOA          PODE               7\n",
            "      86 ELTON ALVES RIBEIRO DE CARVALHO JUNIOR           PSC               7\n",
            "      87             SEBASTIÃO DOS SANTOS FILHO  REPUBLICANOS               7\n",
            "      88               CARLOS EDUARDO PIGNATARI          PSDB               6\n",
            "      89             VINICIUS ALMEIDA CAMARINHA          PSDB               6\n",
            "      90                RAFAEL ANTONIO DA SILVA           PSD               6\n",
            "      91                          MAURO BRAGATO          PSDB               5\n",
            "      92           OCIMAR DONIZETI LEO OLIVEIRA           MDB               3\n",
            "      93                 CARLOS EDUARDO NOBREGA          PODE               2\n",
            "      94        VALDOMIRO LOPES DA SILVA JUNIOR           PSB               1\n"
          ]
        }
      ]
    },
    {
      "cell_type": "code",
      "source": [],
      "metadata": {
        "id": "TQjooSHm-GHC"
      },
      "execution_count": null,
      "outputs": []
    },
    {
      "cell_type": "code",
      "source": [
        "# Exibir o DataFrame sem o índice\n",
        "print(df_final_sorted.to_string(index=False))\n"
      ],
      "metadata": {
        "colab": {
          "base_uri": "https://localhost:8080/"
        },
        "id": "EBPA14G98Bbl",
        "outputId": "ac16b175-815d-4f31-dcec-fba2e0c4660e"
      },
      "execution_count": 22,
      "outputs": [
        {
          "output_type": "stream",
          "name": "stdout",
          "text": [
            " Posição                         Nome candidato       Partido  Votos nominais\n",
            "       1                  CARLA SARDANO MORANDO          PSDB           12759\n",
            "       2              EDUARDO MATARAZZO SUPLICY            PT            2928\n",
            "       3                  THIAGO REIS AURICCHIO            PL            1845\n",
            "       4       ANA CAROLINA ROSSI BARRETO SERRA     CIDADANIA            1537\n",
            "       5             TEONÍLIO MONTEIRO DA COSTA            PT            1394\n",
            "       6                            TOME ABDUCH  REPUBLICANOS            1044\n",
            "       7                 BRUNO ZAMBELLI SALGADO            PL            1038\n",
            "       8        LUIZ FERNANDO TEIXEIRA FERREIRA            PT            1032\n",
            "       9                 PAULA NUNES DOS SANTOS          PSOL            1004\n",
            "      10                CARLOS ALBERTO GIANNASI          PSOL             875\n",
            "      11              ROBERVAL CONTE LOPES LIMA            PL             637\n",
            "      12                    DIMAS MECCA SAMPAIO            PL             622\n",
            "      13       GILDEVANIO ILSO DOS SANTOS DINIZ            PL             604\n",
            "      14               ANTONIO ASSUNÇÃO DE OLIM            PP             566\n",
            "      15          AUGUSTO ZACARIAS CORREA LEITE         UNIÃO             562\n",
            "      16             EDIANE MARIA DO NASCIMENTO          PSOL             519\n",
            "      17                        LUCAS DIEZ BOVE            PL             443\n",
            "      18              ALTAIR MORAES DE OLIVEIRA  REPUBLICANOS             418\n",
            "      19                 OSEIAS SANTOS DA SILVA           PSD             379\n",
            "      20          MÔNICA CRISTINA SEIXAS BONFIM          PSOL             339\n",
            "      21      MATHEUS COIMBRA MARTINS DE AGUIAR            PL             328\n",
            "      22             ANDRÉA WERNER SILVA BONOLI           PSB             315\n",
            "      23        MARCOS ROBERTO DAMASIO DA SILVA            PL             309\n",
            "      24         VALERIA MULLER RAMOS BOLSONARO            PL             269\n",
            "      25              LEONARDO DE SIQUEIRA LIMA          NOVO             266\n",
            "      26                RICARDO LONGATTI FRANÇA          PODE             262\n",
            "      27                    RAFAEL SARAIVA GAIA         UNIÃO             247\n",
            "      28           RAFAEL HENRIQUE CANO TELHADA            PP             227\n",
            "      29        FELIPE SOUZA MURAKAMI DE FRANCO         UNIÃO             226\n",
            "      30                  CARLOS CEZAR DA SILVA            PL             211\n",
            "      31                  MARINA MEDEIROS HELOU          REDE             185\n",
            "      32                  LECI BRANDÃO DA SILVA       PC do B             178\n",
            "      33                PAULO JORGE MANSUR NETO            PL             163\n",
            "      34                 RUI ALVES SOUZA JUNIOR  REPUBLICANOS             160\n",
            "      35           MARIA IZABEL AZEVEDO NORONHA            PT             153\n",
            "      36       JORGE WILSON GONÇALVES DE MATTOS  REPUBLICANOS             151\n",
            "      37          DANIEL BEZERRA RIBEIRO SOARES         UNIÃO             148\n",
            "      38               MÁRCIO MASSAMI NAKASHIMA           PDT             131\n",
            "      39         JOSÉ ROGERIO SOARES DOS SANTOS           MDB             131\n",
            "      40            DANILO MASCARENHAS DE BALAS            PL             120\n",
            "      41                FABIANA DE LIMA BARROSO            PL              87\n",
            "      42       GUILHERME DA COSTA AGUIAR CORTEZ          PSOL              79\n",
            "      43                EMIDIO PEREIRA DE SOUZA            PT              78\n",
            "      44                 LUIZ CLAUDIO MARCOLINO            PT              71\n",
            "      45                 RODRIGO AUGUSTO MORAES            PL              69\n",
            "      46            MARTA MARIA FREIRE DA COSTA           PSD              66\n",
            "      47            MILTON LEITE DA SILVA FILHO         UNIÃO              56\n",
            "      48            CAIO FRANÇA DE GOUVÊA GOMES           PSB              54\n",
            "      49        ITAMAR FRANCISCO MACHADO BORGES           MDB              51\n",
            "      50                 ROMULO CESAR FERNANDES            PT              50\n",
            "      51         CLARICE CARASSOL AREVALO GANEM          PODE              48\n",
            "      52              BRUNA DIAS FURLAN VICENTE          PSDB              47\n",
            "      53                  PAULO ROBERTO FIORILO            PT              44\n",
            "      54         EDNA BEZERRA SAMPAIO FERNANDES  REPUBLICANOS              43\n",
            "      55         ÁTILA CESAR MONTEIRO JACOMUSSI SOLIDARIEDADE              39\n",
            "      56                    ANDRE LUIS DO PRADO            PL              32\n",
            "      57         MARCIA APARECIDA OVEJANEDA LIA            PT              32\n",
            "      58            ROGERIO NOGUEIRA LOPES CRUZ          PSDB              30\n",
            "      59                        ELISABETH SAHÃO            PT              30\n",
            "      60            ALEXANDER MUNIZ DE OLIVEIRA            PL              29\n",
            "      61                      JORGE LUIS CARUSO           MDB              29\n",
            "      62                THAINARA KAROLINE FARIA            PT              28\n",
            "      63                   ENIO FRANCISCO TATTO            PT              28\n",
            "      64               DANIELE MAZUQUELI ALONSO            PL              26\n",
            "      65            SOLANGE CRISTINA DE FREITAS         UNIÃO              26\n",
            "      66           MARIO MAURICI DE LIMA MORAIS            PT              24\n",
            "      67              PAULO ALVES CORRÊA JUNIOR           PSD              21\n",
            "      68                      ANALICE FERNANDES          PSDB              20\n",
            "      69     GRACIELA DE LOURDES DAVID AMBROSIO            PL              20\n",
            "      70        CAMILA GODOI DA SILVA RODRIGUES           PSB              18\n",
            "      71                 PAULO BATISTA DOS REIS            PT              18\n",
            "      72             JOSE ANTONIO BARROS MUNHOZ          PSDB              15\n",
            "      73                 ANTONIO DONATO MADORMO            PT              15\n",
            "      74           LETICIA AGUIAR RESENDE ALVES            PP              14\n",
            "      75                  EDMIR JOSE ABI CHEDID         UNIÃO              14\n",
            "      76             GILMACI DOS SANTOS BARBOSA  REPUBLICANOS              12\n",
            "      77                 HELIO DONIZETE ZANATTA           PSC              12\n",
            "      78                   JORGE DO CARMO SILVA            PT              12\n",
            "      79                  ANTONIO DIRCEU DALBEN     CIDADANIA              12\n",
            "      80             ANA LUCIA LIPPAUS PERUGINI            PT              12\n",
            "      81               RAFAEL FERNANDO ZIMBALDI     CIDADANIA              10\n",
            "      82                 RICARDO ROSSI MADALENA            PL              10\n",
            "      83        MARIA LUCIA CARDOSO PINTO AMARY          PSDB              10\n",
            "      84              VITOR ALEXANDRE RODRIGUES  REPUBLICANOS               8\n",
            "      85                     GERSON DIAS PESSOA          PODE               7\n",
            "      86 ELTON ALVES RIBEIRO DE CARVALHO JUNIOR           PSC               7\n",
            "      87             SEBASTIÃO DOS SANTOS FILHO  REPUBLICANOS               7\n",
            "      88               CARLOS EDUARDO PIGNATARI          PSDB               6\n",
            "      89             VINICIUS ALMEIDA CAMARINHA          PSDB               6\n",
            "      90                RAFAEL ANTONIO DA SILVA           PSD               6\n",
            "      91                          MAURO BRAGATO          PSDB               5\n",
            "      92           OCIMAR DONIZETI LEO OLIVEIRA           MDB               3\n",
            "      93                 CARLOS EDUARDO NOBREGA          PODE               2\n",
            "      94        VALDOMIRO LOPES DA SILVA JUNIOR           PSB               1\n"
          ]
        }
      ]
    },
    {
      "cell_type": "code",
      "source": [
        "!pip install matplotlib"
      ],
      "metadata": {
        "colab": {
          "base_uri": "https://localhost:8080/"
        },
        "id": "_I-_dFC4-Qic",
        "outputId": "8c9b6662-a0b5-453c-e367-182393e13bad"
      },
      "execution_count": 24,
      "outputs": [
        {
          "output_type": "stream",
          "name": "stdout",
          "text": [
            "Requirement already satisfied: matplotlib in /usr/local/lib/python3.10/dist-packages (3.8.0)\n",
            "Requirement already satisfied: contourpy>=1.0.1 in /usr/local/lib/python3.10/dist-packages (from matplotlib) (1.3.1)\n",
            "Requirement already satisfied: cycler>=0.10 in /usr/local/lib/python3.10/dist-packages (from matplotlib) (0.12.1)\n",
            "Requirement already satisfied: fonttools>=4.22.0 in /usr/local/lib/python3.10/dist-packages (from matplotlib) (4.55.0)\n",
            "Requirement already satisfied: kiwisolver>=1.0.1 in /usr/local/lib/python3.10/dist-packages (from matplotlib) (1.4.7)\n",
            "Requirement already satisfied: numpy<2,>=1.21 in /usr/local/lib/python3.10/dist-packages (from matplotlib) (1.26.4)\n",
            "Requirement already satisfied: packaging>=20.0 in /usr/local/lib/python3.10/dist-packages (from matplotlib) (24.2)\n",
            "Requirement already satisfied: pillow>=6.2.0 in /usr/local/lib/python3.10/dist-packages (from matplotlib) (11.0.0)\n",
            "Requirement already satisfied: pyparsing>=2.3.1 in /usr/local/lib/python3.10/dist-packages (from matplotlib) (3.2.0)\n",
            "Requirement already satisfied: python-dateutil>=2.7 in /usr/local/lib/python3.10/dist-packages (from matplotlib) (2.8.2)\n",
            "Requirement already satisfied: six>=1.5 in /usr/local/lib/python3.10/dist-packages (from python-dateutil>=2.7->matplotlib) (1.16.0)\n"
          ]
        }
      ]
    },
    {
      "cell_type": "code",
      "source": [
        "import pandas as pd\n",
        "import matplotlib.pyplot as plt\n",
        "import chardet\n",
        "\n",
        "# Detecta a codificação\n",
        "with open(\"/content/votacao_candidato_284.csv\", 'rb') as rawdata:\n",
        "    result = chardet.detect(rawdata.read(100000))\n",
        "\n",
        "print(f\"Codificação detectada: {result['encoding']}\")\n",
        "\n",
        "# Carrega o CSV com a codificação e o separador corretos\n",
        "df_284 = pd.read_csv(\"/content/votacao_candidato_284.csv\", encoding=result['encoding'], sep=\";\")\n",
        "\n",
        "# Agrupa por partido e soma os votos nominais\n",
        "df_agregado_284 = df_284.groupby('Partido')['Votos nominais'].sum().reset_index()\n",
        "\n",
        "# Ordena os dados para o gráfico (opcional, mas recomendado)\n",
        "df_agregado_284 = df_agregado_284.sort_values('Votos nominais', ascending=False)\n",
        "\n",
        "\n",
        "\n",
        "# Cria o gráfico\n",
        "plt.figure(figsize=(12, 6))\n",
        "bars = plt.bar(df_agregado_284['Partido'], df_agregado_284['Votos nominais'], color=plt.colormaps['tab20'].colors)\n",
        "\n",
        "plt.xlabel('Partido', fontsize=12)\n",
        "plt.ylabel('Soma de Votos Nominais', fontsize=12)\n",
        "plt.title('Votos Nominais por Partido - SBC - Zona 284 - Eleição 2022 - Dep. Estadual', fontsize=14)\n",
        "plt.xticks(rotation=90, ha='right')\n",
        "plt.tight_layout()\n",
        "plt.grid(axis='y', linestyle='--', alpha=0.7)\n",
        "\n",
        "\n",
        "for bar in bars:\n",
        "    height = bar.get_height()\n",
        "    plt.text(bar.get_x() + bar.get_width()/2., height,\n",
        "             f'{height:.0f}', ha='center', va='bottom')\n",
        "\n",
        "\n",
        "plt.show()"
      ],
      "metadata": {
        "colab": {
          "base_uri": "https://localhost:8080/",
          "height": 521
        },
        "id": "er2qTVfz9WTa",
        "outputId": "a4b48051-599c-4884-8816-a0f2e7a3c740"
      },
      "execution_count": 26,
      "outputs": [
        {
          "output_type": "stream",
          "name": "stdout",
          "text": [
            "Codificação detectada: ISO-8859-1\n"
          ]
        },
        {
          "output_type": "display_data",
          "data": {
            "text/plain": [
              "<Figure size 1200x600 with 1 Axes>"
            ],
            "image/png": "[encoded data removed]"
          },
          "metadata": {}
        }
      ]
    }
  ]
}