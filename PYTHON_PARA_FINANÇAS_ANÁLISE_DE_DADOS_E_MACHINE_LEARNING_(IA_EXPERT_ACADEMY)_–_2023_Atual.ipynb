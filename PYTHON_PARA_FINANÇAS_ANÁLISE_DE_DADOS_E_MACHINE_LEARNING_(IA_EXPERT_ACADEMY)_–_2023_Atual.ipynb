{
  "nbformat": 4,
  "nbformat_minor": 0,
  "metadata": {
    "colab": {
      "provenance": [],
      "authorship_tag": "ABX9TyOAdsQJvKIUeOd2hq/2fSL/",
      "include_colab_link": true
    },
    "kernelspec": {
      "name": "python3",
      "display_name": "Python 3"
    },
    "language_info": {
      "name": "python"
    }
  },
  "cells": [
    {
      "cell_type": "markdown",
      "metadata": {
        "id": "view-in-github",
        "colab_type": "text"
      },
      "source": [
        "<a href=\"https://colab.research.google.com/github/jmcava/jmcava/blob/main/PYTHON_PARA_FINAN%C3%87AS_AN%C3%81LISE_DE_DADOS_E_MACHINE_LEARNING_(IA_EXPERT_ACADEMY)_%E2%80%93_2023_Atual.ipynb\" target=\"_parent\"><img src=\"https://colab.research.google.com/assets/colab-badge.svg\" alt=\"Open In Colab\"/></a>"
      ]
    },
    {
      "cell_type": "code",
      "execution_count": null,
      "metadata": {
        "id": "CvSebL70lhTW"
      },
      "outputs": [],
      "source": []
    }
  ]
}