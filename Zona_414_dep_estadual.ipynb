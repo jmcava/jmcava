{
  "nbformat": 4,
  "nbformat_minor": 0,
  "metadata": {
    "colab": {
      "provenance": [],
      "authorship_tag": "ABX9TyN+RM0En0sW6vl12tQvhOM8",
      "include_colab_link": true
    },
    "kernelspec": {
      "name": "python3",
      "display_name": "Python 3"
    },
    "language_info": {
      "name": "python"
    }
  },
  "cells": [
    {
      "cell_type": "markdown",
      "metadata": {
        "id": "view-in-github",
        "colab_type": "text"
      },
      "source": [
        "<a href=\"https://colab.research.google.com/github/jmcava/jmcava/blob/main/Zona_414_dep_estadual.ipynb\" target=\"_parent\"><img src=\"https://colab.research.google.com/assets/colab-badge.svg\" alt=\"Open In Colab\"/></a>"
      ]
    },
    {
      "cell_type": "code",
      "execution_count": null,
      "metadata": {
        "id": "A7K_eLwqm2xc"
      },
      "outputs": [],
      "source": []
    },
    {
      "cell_type": "code",
      "source": [
        "import pandas as pd\n",
        "\n",
        "# Caminho do arquivo CSV\n",
        "file_path = '/content/votacao_candidato_414.csv'\n",
        "\n",
        "# Carregar o arquivo com a codificação adequada e o separador correto\n",
        "try:\n",
        "    df = pd.read_csv(file_path, encoding='utf-8', sep=';')\n",
        "except UnicodeDecodeError:\n",
        "    df = pd.read_csv(file_path, encoding='latin1', sep=';')\n",
        "\n",
        "# Exibir as colunas para confirmação\n",
        "print(\"Colunas disponíveis no arquivo:\")\n",
        "print(df.columns)\n",
        "\n",
        "# Filtrar apenas os candidatos eleitos e reeleitos com base na situação de totalização\n",
        "# Certifique-se de ajustar os valores de acordo com a nomenclatura do seu arquivo\n",
        "df_eleitos = df[df['Situação totalização'].str.contains('Eleito', case=False, na=False)]\n",
        "\n",
        "# Selecionar colunas relevantes\n",
        "df_eleitos = df_eleitos[['Nome candidato', 'Partido','Votos nominais']]\n",
        "\n",
        "# Ordenar por votos nominais de forma decrescente\n",
        "df_eleitos_sorted = df_eleitos.sort_values(by='Votos nominais', ascending=False)\n",
        "\n",
        "# Mostrar os primeiros registros para validação\n",
        "print(df_eleitos_sorted.head())\n",
        "\n",
        "# Salvar o resultado em um novo arquivo CSV\n",
        "df_eleitos_sorted.to_csv('/content/candidatos_eleitos_414.csv', index=False, encoding='utf-8')\n"
      ],
      "metadata": {
        "colab": {
          "base_uri": "https://localhost:8080/"
        },
        "id": "NHSdCJAh0Wl4",
        "outputId": "9ef733c8-76f3-47e6-b8b9-89db2bfbdd2b"
      },
      "execution_count": 1,
      "outputs": [
        {
          "output_type": "stream",
          "name": "stdout",
          "text": [
            "Colunas disponíveis no arquivo:\n",
            "Index(['Ano de eleição', 'Cargo', 'Município', 'Nome candidato', 'Zona', 'UF',\n",
            "       'Situação totalização', 'Partido', 'Votos nominais', 'Data de carga'],\n",
            "      dtype='object')\n",
            "                        Nome candidato    Partido  Votos nominais\n",
            "1868             CARLA SARDANO MORANDO       PSDB           15660\n",
            "414    LUIZ FERNANDO TEIXEIRA FERREIRA         PT            3888\n",
            "276         TEONÍLIO MONTEIRO DA COSTA         PT            3533\n",
            "587          EDUARDO MATARAZZO SUPLICY         PT            2352\n",
            "743   ANA CAROLINA ROSSI BARRETO SERRA  CIDADANIA            1566\n"
          ]
        }
      ]
    },
    {
      "cell_type": "code",
      "source": [
        "print(df_eleitos)"
      ],
      "metadata": {
        "colab": {
          "base_uri": "https://localhost:8080/"
        },
        "id": "7X8tFK5GpLWg",
        "outputId": "727592fb-342c-4fe2-e6ec-cb00f72c5667"
      },
      "execution_count": 2,
      "outputs": [
        {
          "output_type": "stream",
          "name": "stdout",
          "text": [
            "                       Nome candidato Partido  Votos nominais\n",
            "13                 ADILSON DOS SANTOS    PSTU               2\n",
            "21          BRUNA DIAS FURLAN VICENTE    PSDB              43\n",
            "22                  ANALICE FERNANDES    PSDB               8\n",
            "23            NELSON BOTELHO DA SILVA    PSTU               0\n",
            "25     MARCIA APARECIDA OVEJANEDA LIA      PT              49\n",
            "...                               ...     ...             ...\n",
            "1919             WALTER RESENDE FILHO    PRTB              55\n",
            "1920    NEIVA ANTONIA MARTINS MARQUES    PROS               0\n",
            "1921            CAROLINA CASSACA NOEL    PROS               0\n",
            "1922  CARLOS ALBERTO DE ZAGOTTIS SAAD    PROS               0\n",
            "1923          MARCELO OLIVEIRA ROSADO     PTB               0\n",
            "\n",
            "[784 rows x 3 columns]\n"
          ]
        }
      ]
    },
    {
      "cell_type": "code",
      "source": [
        "print(df_eleitos)"
      ],
      "metadata": {
        "colab": {
          "base_uri": "https://localhost:8080/"
        },
        "id": "KYW4X16qWtDk",
        "outputId": "d75aee73-f391-4d50-ec56-c64700decd6a"
      },
      "execution_count": 3,
      "outputs": [
        {
          "output_type": "stream",
          "name": "stdout",
          "text": [
            "                       Nome candidato Partido  Votos nominais\n",
            "13                 ADILSON DOS SANTOS    PSTU               2\n",
            "21          BRUNA DIAS FURLAN VICENTE    PSDB              43\n",
            "22                  ANALICE FERNANDES    PSDB               8\n",
            "23            NELSON BOTELHO DA SILVA    PSTU               0\n",
            "25     MARCIA APARECIDA OVEJANEDA LIA      PT              49\n",
            "...                               ...     ...             ...\n",
            "1919             WALTER RESENDE FILHO    PRTB              55\n",
            "1920    NEIVA ANTONIA MARTINS MARQUES    PROS               0\n",
            "1921            CAROLINA CASSACA NOEL    PROS               0\n",
            "1922  CARLOS ALBERTO DE ZAGOTTIS SAAD    PROS               0\n",
            "1923          MARCELO OLIVEIRA ROSADO     PTB               0\n",
            "\n",
            "[784 rows x 3 columns]\n"
          ]
        }
      ]
    },
    {
      "cell_type": "code",
      "source": [
        "# Verifique os valores únicos na coluna de Situação totalização para identificar o termo correto\n",
        "print(df['Situação totalização'].unique())\n",
        "\n",
        "# Ajustar o filtro para incluir apenas candidatos eleitos\n",
        "df_eleitos_corrigido = df[df['Situação totalização'].isin(['Eleito', 'Eleito por Média', 'Eleito por QP'])]\n",
        "\n",
        "# Recontar o total de candidatos eleitos\n",
        "total_eleitos_corrigido = len(df_eleitos_corrigido)\n",
        "print(f\"Total de candidatos eleitos: {total_eleitos_corrigido}\")\n"
      ],
      "metadata": {
        "colab": {
          "base_uri": "https://localhost:8080/"
        },
        "id": "bRyIhvCa1RjP",
        "outputId": "46681ac0-fe29-482c-8906-13dd597087bd"
      },
      "execution_count": 4,
      "outputs": [
        {
          "output_type": "stream",
          "name": "stdout",
          "text": [
            "['Suplente' 'Não Eleito' 'Eleito']\n",
            "Total de candidatos eleitos: 94\n"
          ]
        }
      ]
    },
    {
      "cell_type": "code",
      "source": [],
      "metadata": {
        "id": "1aOPz2llpm_H"
      },
      "execution_count": null,
      "outputs": []
    },
    {
      "cell_type": "code",
      "source": [
        "# Filtrar apenas os candidatos eleitos\n",
        "df_eleitos = df[df['Situação totalização'] == 'Eleito']\n",
        "\n",
        "# Selecionar as colunas necessárias e ordená-las\n",
        "df_final = df_eleitos[['Nome candidato', 'Partido', 'Votos nominais']]\n",
        "\n",
        "# Exibir as primeiras linhas do resultado\n",
        "print(df_final.head())\n",
        "\n",
        "# Salvar o resultado em um novo arquivo CSV, se necessário\n",
        "df_final.to_csv('/content/candidatos_eleitos_filtrados.csv', index=False, encoding='utf-8')\n"
      ],
      "metadata": {
        "colab": {
          "base_uri": "https://localhost:8080/"
        },
        "id": "wERdhl1z5SrK",
        "outputId": "e5a459dd-4c6b-415e-b584-065cde60ad56"
      },
      "execution_count": 5,
      "outputs": [
        {
          "output_type": "stream",
          "name": "stdout",
          "text": [
            "                       Nome candidato Partido  Votos nominais\n",
            "21          BRUNA DIAS FURLAN VICENTE    PSDB              43\n",
            "22                  ANALICE FERNANDES    PSDB               8\n",
            "25     MARCIA APARECIDA OVEJANEDA LIA      PT              49\n",
            "127         ROBERVAL CONTE LOPES LIMA      PL             391\n",
            "147  GILDEVANIO ILSO DOS SANTOS DINIZ      PL             411\n"
          ]
        }
      ]
    },
    {
      "cell_type": "code",
      "source": [],
      "metadata": {
        "id": "fdftxPhQpvrX"
      },
      "execution_count": null,
      "outputs": []
    },
    {
      "cell_type": "code",
      "source": [
        "# Filtrar apenas os candidatos eleitos\n",
        "df_eleitos = df[df['Situação totalização'] == 'Eleito']\n",
        "\n",
        "# Selecionar as colunas necessárias\n",
        "df_final = df_eleitos[['Nome candidato', 'Partido', 'Votos nominais']]\n",
        "\n",
        "# Ordenar os candidatos pela coluna 'Votos nominais' de forma decrescente\n",
        "df_final_sorted = df_final.sort_values(by='Votos nominais', ascending=False)\n",
        "\n",
        "# Exibir as primeiras linhas do resultado ordenado\n",
        "print(df_final_sorted.head())\n",
        "\n",
        "# Salvar o resultado em um novo arquivo CSV, se necessário\n",
        "df_final_sorted.to_csv('/content/candidatos_eleitos_ordenados.csv', index=False, encoding='utf-8')\n"
      ],
      "metadata": {
        "colab": {
          "base_uri": "https://localhost:8080/"
        },
        "id": "_JEfCyfV5wla",
        "outputId": "18c6932b-8d14-4ec9-b0b6-8cfac69245d4"
      },
      "execution_count": 6,
      "outputs": [
        {
          "output_type": "stream",
          "name": "stdout",
          "text": [
            "                        Nome candidato    Partido  Votos nominais\n",
            "1868             CARLA SARDANO MORANDO       PSDB           15660\n",
            "414    LUIZ FERNANDO TEIXEIRA FERREIRA         PT            3888\n",
            "276         TEONÍLIO MONTEIRO DA COSTA         PT            3533\n",
            "587          EDUARDO MATARAZZO SUPLICY         PT            2352\n",
            "743   ANA CAROLINA ROSSI BARRETO SERRA  CIDADANIA            1566\n"
          ]
        }
      ]
    },
    {
      "cell_type": "code",
      "source": [],
      "metadata": {
        "id": "EcYSz64vp7QS"
      },
      "execution_count": null,
      "outputs": []
    },
    {
      "cell_type": "code",
      "source": [
        "# Filtrar os candidatos eleitos e selecionar as colunas necessárias\n",
        "df_eleitos = df[df['Situação totalização'] == 'Eleito']\n",
        "df_final = df_eleitos[['Nome candidato', 'Partido', 'Votos nominais']]\n",
        "\n",
        "# Ordenar os candidatos pela coluna 'Votos nominais' de forma decrescente\n",
        "df_final_sorted = df_final.sort_values(by='Votos nominais', ascending=False)\n",
        "\n",
        "# Enumerar os candidatos na ordem, começando pelo número 1\n",
        "df_final_sorted['Posição'] = range(1, len(df_final_sorted) + 1)\n",
        "\n",
        "# Exibir as primeiras linhas do resultado com a numeração\n",
        "print(df_final_sorted.head())\n",
        "\n",
        "# Salvar o resultado em um novo arquivo CSV, se necessário\n",
        "df_final_sorted.to_csv('/content/candidatos_eleitos_ordenados_com_numeracao.csv', index=False, encoding='utf-8')\n"
      ],
      "metadata": {
        "colab": {
          "base_uri": "https://localhost:8080/"
        },
        "id": "oVzhUU1j6aS3",
        "outputId": "70628a1a-e1c5-4c45-8861-0f0dd2041703"
      },
      "execution_count": 7,
      "outputs": [
        {
          "output_type": "stream",
          "name": "stdout",
          "text": [
            "                        Nome candidato    Partido  Votos nominais  Posição\n",
            "1868             CARLA SARDANO MORANDO       PSDB           15660        1\n",
            "414    LUIZ FERNANDO TEIXEIRA FERREIRA         PT            3888        2\n",
            "276         TEONÍLIO MONTEIRO DA COSTA         PT            3533        3\n",
            "587          EDUARDO MATARAZZO SUPLICY         PT            2352        4\n",
            "743   ANA CAROLINA ROSSI BARRETO SERRA  CIDADANIA            1566        5\n"
          ]
        }
      ]
    },
    {
      "cell_type": "code",
      "source": [],
      "metadata": {
        "id": "pSJBTnp2qHHr"
      },
      "execution_count": null,
      "outputs": []
    },
    {
      "cell_type": "code",
      "source": [
        "# Filtrar os candidatos eleitos e selecionar as colunas necessárias\n",
        "df_eleitos = df[df['Situação totalização'] == 'Eleito']\n",
        "df_final = df_eleitos[['Nome candidato', 'Partido', 'Votos nominais']]\n",
        "\n",
        "# Ordenar os candidatos pela coluna 'Votos nominais' de forma decrescente\n",
        "df_final_sorted = df_final.sort_values(by='Votos nominais', ascending=False)\n",
        "\n",
        "# Enumerar os candidatos na ordem, começando pelo número 1\n",
        "df_final_sorted['Posição'] = range(1, len(df_final_sorted) + 1)\n",
        "\n",
        "# Reorganizar as colunas para garantir que 'Posição' seja a primeira\n",
        "df_final_sorted = df_final_sorted[['Posição', 'Nome candidato', 'Partido', 'Votos nominais']]\n",
        "\n",
        "# Exibir as primeiras linhas do resultado com a numeração\n",
        "print(df_final_sorted.head())\n",
        "\n",
        "# Salvar o resultado em um novo arquivo CSV, se necessário\n",
        "df_final_sorted.to_csv('/content/candidatos_eleitos_ordenados_com_numeracao.csv', index=False, encoding='utf-8')\n"
      ],
      "metadata": {
        "colab": {
          "base_uri": "https://localhost:8080/"
        },
        "id": "3l2vtT6O6z_6",
        "outputId": "6a44afa0-ad76-49c6-82c2-40395dbd0a1c"
      },
      "execution_count": 8,
      "outputs": [
        {
          "output_type": "stream",
          "name": "stdout",
          "text": [
            "      Posição                    Nome candidato    Partido  Votos nominais\n",
            "1868        1             CARLA SARDANO MORANDO       PSDB           15660\n",
            "414         2   LUIZ FERNANDO TEIXEIRA FERREIRA         PT            3888\n",
            "276         3        TEONÍLIO MONTEIRO DA COSTA         PT            3533\n",
            "587         4         EDUARDO MATARAZZO SUPLICY         PT            2352\n",
            "743         5  ANA CAROLINA ROSSI BARRETO SERRA  CIDADANIA            1566\n"
          ]
        }
      ]
    },
    {
      "cell_type": "code",
      "source": [
        "# Exibir o índice das linhas do DataFrame final para ver de onde elas vêm\n",
        "print(df_final_sorted.index)\n"
      ],
      "metadata": {
        "colab": {
          "base_uri": "https://localhost:8080/"
        },
        "id": "LjikDTzZ7P82",
        "outputId": "15786443-6b76-40ca-b309-675163b55ee5"
      },
      "execution_count": 9,
      "outputs": [
        {
          "output_type": "stream",
          "name": "stdout",
          "text": [
            "Index([1868,  414,  276,  587,  743,  607, 1698,  435,  752, 1745,  482, 1746,\n",
            "        569, 1274,  147,  127, 1119, 1828,  574, 1207,  274, 1009, 1373,  905,\n",
            "       1075,  402, 1477,  154, 1067, 1759,  216,  638,  956, 1629, 1299,  656,\n",
            "        464, 1272,  570,  323, 1331,  680,  209, 1355, 1109,  858, 1874, 1215,\n",
            "         25, 1758, 1287,   21,  599,  153, 1223, 1889,  462, 1865, 1168,  473,\n",
            "        148,  437,  383,  646, 1318, 1243, 1172,  456, 1174, 1048,  736, 1822,\n",
            "       1342, 1873, 1570,  581,  639,  832,  854,   22,  588, 1576, 1170, 1643,\n",
            "        714, 1534, 1818, 1554,  855,  808,  533,  214, 1637, 1244],\n",
            "      dtype='int64')\n"
          ]
        }
      ]
    },
    {
      "cell_type": "code",
      "source": [
        "# Exibir o índice das linhas do DataFrame final para ver de onde elas vêm\n",
        "print(df_final_sorted.index)\n"
      ],
      "metadata": {
        "colab": {
          "base_uri": "https://localhost:8080/"
        },
        "outputId": "fa318424-9b54-436b-9d07-f337b2c19363",
        "id": "E7t4ycMl7A7Y"
      },
      "execution_count": 10,
      "outputs": [
        {
          "output_type": "stream",
          "name": "stdout",
          "text": [
            "Index([1868,  414,  276,  587,  743,  607, 1698,  435,  752, 1745,  482, 1746,\n",
            "        569, 1274,  147,  127, 1119, 1828,  574, 1207,  274, 1009, 1373,  905,\n",
            "       1075,  402, 1477,  154, 1067, 1759,  216,  638,  956, 1629, 1299,  656,\n",
            "        464, 1272,  570,  323, 1331,  680,  209, 1355, 1109,  858, 1874, 1215,\n",
            "         25, 1758, 1287,   21,  599,  153, 1223, 1889,  462, 1865, 1168,  473,\n",
            "        148,  437,  383,  646, 1318, 1243, 1172,  456, 1174, 1048,  736, 1822,\n",
            "       1342, 1873, 1570,  581,  639,  832,  854,   22,  588, 1576, 1170, 1643,\n",
            "        714, 1534, 1818, 1554,  855,  808,  533,  214, 1637, 1244],\n",
            "      dtype='int64')\n"
          ]
        }
      ]
    },
    {
      "cell_type": "code",
      "source": [
        "# Exibir o DataFrame sem o índice\n",
        "print(df_final_sorted.to_string(index=False))\n"
      ],
      "metadata": {
        "colab": {
          "base_uri": "https://localhost:8080/"
        },
        "id": "-NELmi917IIG",
        "outputId": "e5b3a45a-9570-4893-f74a-0efb2bd280ef"
      },
      "execution_count": 11,
      "outputs": [
        {
          "output_type": "stream",
          "name": "stdout",
          "text": [
            " Posição                         Nome candidato       Partido  Votos nominais\n",
            "       1                  CARLA SARDANO MORANDO          PSDB           15660\n",
            "       2        LUIZ FERNANDO TEIXEIRA FERREIRA            PT            3888\n",
            "       3             TEONÍLIO MONTEIRO DA COSTA            PT            3533\n",
            "       4              EDUARDO MATARAZZO SUPLICY            PT            2352\n",
            "       5       ANA CAROLINA ROSSI BARRETO SERRA     CIDADANIA            1566\n",
            "       6              ALTAIR MORAES DE OLIVEIRA  REPUBLICANOS            1033\n",
            "       7                 PAULA NUNES DOS SANTOS          PSOL             813\n",
            "       8                            TOME ABDUCH  REPUBLICANOS             778\n",
            "       9                CARLOS ALBERTO GIANNASI          PSOL             675\n",
            "      10                 BRUNO ZAMBELLI SALGADO            PL             618\n",
            "      11             EDIANE MARIA DO NASCIMENTO          PSOL             565\n",
            "      12                  THIAGO REIS AURICCHIO            PL             549\n",
            "      13          AUGUSTO ZACARIAS CORREA LEITE         UNIÃO             450\n",
            "      14                    DIMAS MECCA SAMPAIO            PL             415\n",
            "      15       GILDEVANIO ILSO DOS SANTOS DINIZ            PL             411\n",
            "      16              ROBERVAL CONTE LOPES LIMA            PL             391\n",
            "      17               ANTONIO ASSUNÇÃO DE OLIM            PP             361\n",
            "      18             ANDRÉA WERNER SILVA BONOLI           PSB             352\n",
            "      19                        LUCAS DIEZ BOVE            PL             350\n",
            "      20              LEONARDO DE SIQUEIRA LIMA          NOVO             263\n",
            "      21                 LUIZ CLAUDIO MARCOLINO            PT             237\n",
            "      22         VALERIA MULLER RAMOS BOLSONARO            PL             236\n",
            "      23          MÔNICA CRISTINA SEIXAS BONFIM          PSOL             227\n",
            "      24        MARCOS ROBERTO DAMASIO DA SILVA            PL             227\n",
            "      25      MATHEUS COIMBRA MARTINS DE AGUIAR            PL             226\n",
            "      26                  MARINA MEDEIROS HELOU          REDE             218\n",
            "      27          DANIEL BEZERRA RIBEIRO SOARES         UNIÃO             209\n",
            "      28                RICARDO LONGATTI FRANÇA          PODE             198\n",
            "      29        FELIPE SOUZA MURAKAMI DE FRANCO         UNIÃO             196\n",
            "      30                 ROMULO CESAR FERNANDES            PT             193\n",
            "      31           RAFAEL HENRIQUE CANO TELHADA            PP             186\n",
            "      32            MARTA MARIA FREIRE DA COSTA           PSD             184\n",
            "      33                    RAFAEL SARAIVA GAIA         UNIÃO             181\n",
            "      34         JOSÉ ROGERIO SOARES DOS SANTOS           MDB             165\n",
            "      35       JORGE WILSON GONÇALVES DE MATTOS  REPUBLICANOS             153\n",
            "      36                  LECI BRANDÃO DA SILVA       PC do B             148\n",
            "      37                PAULO JORGE MANSUR NETO            PL             148\n",
            "      38                 RODRIGO AUGUSTO MORAES            PL             115\n",
            "      39                 OSEIAS SANTOS DA SILVA           PSD             102\n",
            "      40           MARIA IZABEL AZEVEDO NORONHA            PT              90\n",
            "      41                  CARLOS CEZAR DA SILVA            PL              88\n",
            "      42               MÁRCIO MASSAMI NAKASHIMA           PDT              85\n",
            "      43            DANILO MASCARENHAS DE BALAS            PL              80\n",
            "      44       GUILHERME DA COSTA AGUIAR CORTEZ          PSOL              80\n",
            "      45                FABIANA DE LIMA BARROSO            PL              74\n",
            "      46                  PAULO ROBERTO FIORILO            PT              73\n",
            "      47                EMIDIO PEREIRA DE SOUZA            PT              72\n",
            "      48         ÁTILA CESAR MONTEIRO JACOMUSSI SOLIDARIEDADE              62\n",
            "      49         MARCIA APARECIDA OVEJANEDA LIA            PT              49\n",
            "      50           MARIO MAURICI DE LIMA MORAIS            PT              47\n",
            "      51                   JORGE DO CARMO SILVA            PT              45\n",
            "      52              BRUNA DIAS FURLAN VICENTE          PSDB              43\n",
            "      53            CAIO FRANÇA DE GOUVÊA GOMES           PSB              43\n",
            "      54         CLARICE CARASSOL AREVALO GANEM          PODE              42\n",
            "      55                 PAULO BATISTA DOS REIS            PT              41\n",
            "      56        CAMILA GODOI DA SILVA RODRIGUES           PSB              35\n",
            "      57        ITAMAR FRANCISCO MACHADO BORGES           MDB              35\n",
            "      58                      JORGE LUIS CARUSO           MDB              34\n",
            "      59                    ANDRE LUIS DO PRADO            PL              29\n",
            "      60           LETICIA AGUIAR RESENDE ALVES            PP              29\n",
            "      61               DANIELE MAZUQUELI ALONSO            PL              24\n",
            "      62         EDNA BEZERRA SAMPAIO FERNANDES  REPUBLICANOS              23\n",
            "      63                 RICARDO ROSSI MADALENA            PL              23\n",
            "      64            ALEXANDER MUNIZ DE OLIVEIRA            PL              22\n",
            "      65            MILTON LEITE DA SILVA FILHO         UNIÃO              21\n",
            "      66                 RUI ALVES SOUZA JUNIOR  REPUBLICANOS              20\n",
            "      67                THAINARA KAROLINE FARIA            PT              18\n",
            "      68              PAULO ALVES CORRÊA JUNIOR           PSD              15\n",
            "      69                 ANTONIO DONATO MADORMO            PT              14\n",
            "      70                 HELIO DONIZETE ZANATTA           PSC              13\n",
            "      71     GRACIELA DE LOURDES DAVID AMBROSIO            PL              13\n",
            "      72                        ELISABETH SAHÃO            PT              12\n",
            "      73            ROGERIO NOGUEIRA LOPES CRUZ          PSDB              12\n",
            "      74                   ENIO FRANCISCO TATTO            PT              11\n",
            "      75            SOLANGE CRISTINA DE FREITAS         UNIÃO              11\n",
            "      76               RAFAEL FERNANDO ZIMBALDI     CIDADANIA              10\n",
            "      77                RAFAEL ANTONIO DA SILVA           PSD              10\n",
            "      78                  EDMIR JOSE ABI CHEDID         UNIÃO              10\n",
            "      79                  ANTONIO DIRCEU DALBEN     CIDADANIA               8\n",
            "      80                      ANALICE FERNANDES          PSDB               8\n",
            "      81             ANA LUCIA LIPPAUS PERUGINI            PT               7\n",
            "      82                     GERSON DIAS PESSOA          PODE               6\n",
            "      83                 CARLOS EDUARDO NOBREGA          PODE               6\n",
            "      84              VITOR ALEXANDRE RODRIGUES  REPUBLICANOS               5\n",
            "      85 ELTON ALVES RIBEIRO DE CARVALHO JUNIOR           PSC               5\n",
            "      86               CARLOS EDUARDO PIGNATARI          PSDB               5\n",
            "      87        MARIA LUCIA CARDOSO PINTO AMARY          PSDB               4\n",
            "      88             GILMACI DOS SANTOS BARBOSA  REPUBLICANOS               4\n",
            "      89             VINICIUS ALMEIDA CAMARINHA          PSDB               3\n",
            "      90             JOSE ANTONIO BARROS MUNHOZ          PSDB               3\n",
            "      91           OCIMAR DONIZETI LEO OLIVEIRA           MDB               2\n",
            "      92                          MAURO BRAGATO          PSDB               2\n",
            "      93        VALDOMIRO LOPES DA SILVA JUNIOR           PSB               1\n",
            "      94             SEBASTIÃO DOS SANTOS FILHO  REPUBLICANOS               0\n"
          ]
        }
      ]
    },
    {
      "cell_type": "code",
      "source": [
        "# Exibir o DataFrame sem o índice\n",
        "print(df_final_sorted.to_string(index=False))\n"
      ],
      "metadata": {
        "colab": {
          "base_uri": "https://localhost:8080/"
        },
        "id": "EBPA14G98Bbl",
        "outputId": "c59cb0d6-8364-42a1-8a6a-45af853bdfe8"
      },
      "execution_count": 12,
      "outputs": [
        {
          "output_type": "stream",
          "name": "stdout",
          "text": [
            " Posição                         Nome candidato       Partido  Votos nominais\n",
            "       1                  CARLA SARDANO MORANDO          PSDB           15660\n",
            "       2        LUIZ FERNANDO TEIXEIRA FERREIRA            PT            3888\n",
            "       3             TEONÍLIO MONTEIRO DA COSTA            PT            3533\n",
            "       4              EDUARDO MATARAZZO SUPLICY            PT            2352\n",
            "       5       ANA CAROLINA ROSSI BARRETO SERRA     CIDADANIA            1566\n",
            "       6              ALTAIR MORAES DE OLIVEIRA  REPUBLICANOS            1033\n",
            "       7                 PAULA NUNES DOS SANTOS          PSOL             813\n",
            "       8                            TOME ABDUCH  REPUBLICANOS             778\n",
            "       9                CARLOS ALBERTO GIANNASI          PSOL             675\n",
            "      10                 BRUNO ZAMBELLI SALGADO            PL             618\n",
            "      11             EDIANE MARIA DO NASCIMENTO          PSOL             565\n",
            "      12                  THIAGO REIS AURICCHIO            PL             549\n",
            "      13          AUGUSTO ZACARIAS CORREA LEITE         UNIÃO             450\n",
            "      14                    DIMAS MECCA SAMPAIO            PL             415\n",
            "      15       GILDEVANIO ILSO DOS SANTOS DINIZ            PL             411\n",
            "      16              ROBERVAL CONTE LOPES LIMA            PL             391\n",
            "      17               ANTONIO ASSUNÇÃO DE OLIM            PP             361\n",
            "      18             ANDRÉA WERNER SILVA BONOLI           PSB             352\n",
            "      19                        LUCAS DIEZ BOVE            PL             350\n",
            "      20              LEONARDO DE SIQUEIRA LIMA          NOVO             263\n",
            "      21                 LUIZ CLAUDIO MARCOLINO            PT             237\n",
            "      22         VALERIA MULLER RAMOS BOLSONARO            PL             236\n",
            "      23          MÔNICA CRISTINA SEIXAS BONFIM          PSOL             227\n",
            "      24        MARCOS ROBERTO DAMASIO DA SILVA            PL             227\n",
            "      25      MATHEUS COIMBRA MARTINS DE AGUIAR            PL             226\n",
            "      26                  MARINA MEDEIROS HELOU          REDE             218\n",
            "      27          DANIEL BEZERRA RIBEIRO SOARES         UNIÃO             209\n",
            "      28                RICARDO LONGATTI FRANÇA          PODE             198\n",
            "      29        FELIPE SOUZA MURAKAMI DE FRANCO         UNIÃO             196\n",
            "      30                 ROMULO CESAR FERNANDES            PT             193\n",
            "      31           RAFAEL HENRIQUE CANO TELHADA            PP             186\n",
            "      32            MARTA MARIA FREIRE DA COSTA           PSD             184\n",
            "      33                    RAFAEL SARAIVA GAIA         UNIÃO             181\n",
            "      34         JOSÉ ROGERIO SOARES DOS SANTOS           MDB             165\n",
            "      35       JORGE WILSON GONÇALVES DE MATTOS  REPUBLICANOS             153\n",
            "      36                  LECI BRANDÃO DA SILVA       PC do B             148\n",
            "      37                PAULO JORGE MANSUR NETO            PL             148\n",
            "      38                 RODRIGO AUGUSTO MORAES            PL             115\n",
            "      39                 OSEIAS SANTOS DA SILVA           PSD             102\n",
            "      40           MARIA IZABEL AZEVEDO NORONHA            PT              90\n",
            "      41                  CARLOS CEZAR DA SILVA            PL              88\n",
            "      42               MÁRCIO MASSAMI NAKASHIMA           PDT              85\n",
            "      43            DANILO MASCARENHAS DE BALAS            PL              80\n",
            "      44       GUILHERME DA COSTA AGUIAR CORTEZ          PSOL              80\n",
            "      45                FABIANA DE LIMA BARROSO            PL              74\n",
            "      46                  PAULO ROBERTO FIORILO            PT              73\n",
            "      47                EMIDIO PEREIRA DE SOUZA            PT              72\n",
            "      48         ÁTILA CESAR MONTEIRO JACOMUSSI SOLIDARIEDADE              62\n",
            "      49         MARCIA APARECIDA OVEJANEDA LIA            PT              49\n",
            "      50           MARIO MAURICI DE LIMA MORAIS            PT              47\n",
            "      51                   JORGE DO CARMO SILVA            PT              45\n",
            "      52              BRUNA DIAS FURLAN VICENTE          PSDB              43\n",
            "      53            CAIO FRANÇA DE GOUVÊA GOMES           PSB              43\n",
            "      54         CLARICE CARASSOL AREVALO GANEM          PODE              42\n",
            "      55                 PAULO BATISTA DOS REIS            PT              41\n",
            "      56        CAMILA GODOI DA SILVA RODRIGUES           PSB              35\n",
            "      57        ITAMAR FRANCISCO MACHADO BORGES           MDB              35\n",
            "      58                      JORGE LUIS CARUSO           MDB              34\n",
            "      59                    ANDRE LUIS DO PRADO            PL              29\n",
            "      60           LETICIA AGUIAR RESENDE ALVES            PP              29\n",
            "      61               DANIELE MAZUQUELI ALONSO            PL              24\n",
            "      62         EDNA BEZERRA SAMPAIO FERNANDES  REPUBLICANOS              23\n",
            "      63                 RICARDO ROSSI MADALENA            PL              23\n",
            "      64            ALEXANDER MUNIZ DE OLIVEIRA            PL              22\n",
            "      65            MILTON LEITE DA SILVA FILHO         UNIÃO              21\n",
            "      66                 RUI ALVES SOUZA JUNIOR  REPUBLICANOS              20\n",
            "      67                THAINARA KAROLINE FARIA            PT              18\n",
            "      68              PAULO ALVES CORRÊA JUNIOR           PSD              15\n",
            "      69                 ANTONIO DONATO MADORMO            PT              14\n",
            "      70                 HELIO DONIZETE ZANATTA           PSC              13\n",
            "      71     GRACIELA DE LOURDES DAVID AMBROSIO            PL              13\n",
            "      72                        ELISABETH SAHÃO            PT              12\n",
            "      73            ROGERIO NOGUEIRA LOPES CRUZ          PSDB              12\n",
            "      74                   ENIO FRANCISCO TATTO            PT              11\n",
            "      75            SOLANGE CRISTINA DE FREITAS         UNIÃO              11\n",
            "      76               RAFAEL FERNANDO ZIMBALDI     CIDADANIA              10\n",
            "      77                RAFAEL ANTONIO DA SILVA           PSD              10\n",
            "      78                  EDMIR JOSE ABI CHEDID         UNIÃO              10\n",
            "      79                  ANTONIO DIRCEU DALBEN     CIDADANIA               8\n",
            "      80                      ANALICE FERNANDES          PSDB               8\n",
            "      81             ANA LUCIA LIPPAUS PERUGINI            PT               7\n",
            "      82                     GERSON DIAS PESSOA          PODE               6\n",
            "      83                 CARLOS EDUARDO NOBREGA          PODE               6\n",
            "      84              VITOR ALEXANDRE RODRIGUES  REPUBLICANOS               5\n",
            "      85 ELTON ALVES RIBEIRO DE CARVALHO JUNIOR           PSC               5\n",
            "      86               CARLOS EDUARDO PIGNATARI          PSDB               5\n",
            "      87        MARIA LUCIA CARDOSO PINTO AMARY          PSDB               4\n",
            "      88             GILMACI DOS SANTOS BARBOSA  REPUBLICANOS               4\n",
            "      89             VINICIUS ALMEIDA CAMARINHA          PSDB               3\n",
            "      90             JOSE ANTONIO BARROS MUNHOZ          PSDB               3\n",
            "      91           OCIMAR DONIZETI LEO OLIVEIRA           MDB               2\n",
            "      92                          MAURO BRAGATO          PSDB               2\n",
            "      93        VALDOMIRO LOPES DA SILVA JUNIOR           PSB               1\n",
            "      94             SEBASTIÃO DOS SANTOS FILHO  REPUBLICANOS               0\n"
          ]
        }
      ]
    },
    {
      "cell_type": "code",
      "source": [
        "!pip install matplotlib"
      ],
      "metadata": {
        "colab": {
          "base_uri": "https://localhost:8080/"
        },
        "id": "E2XDN2vPqqrm",
        "outputId": "378ab169-e974-4a91-820a-f1b35b8e02bc"
      },
      "execution_count": 13,
      "outputs": [
        {
          "output_type": "stream",
          "name": "stdout",
          "text": [
            "Requirement already satisfied: matplotlib in /usr/local/lib/python3.10/dist-packages (3.8.0)\n",
            "Requirement already satisfied: contourpy>=1.0.1 in /usr/local/lib/python3.10/dist-packages (from matplotlib) (1.3.1)\n",
            "Requirement already satisfied: cycler>=0.10 in /usr/local/lib/python3.10/dist-packages (from matplotlib) (0.12.1)\n",
            "Requirement already satisfied: fonttools>=4.22.0 in /usr/local/lib/python3.10/dist-packages (from matplotlib) (4.55.0)\n",
            "Requirement already satisfied: kiwisolver>=1.0.1 in /usr/local/lib/python3.10/dist-packages (from matplotlib) (1.4.7)\n",
            "Requirement already satisfied: numpy<2,>=1.21 in /usr/local/lib/python3.10/dist-packages (from matplotlib) (1.26.4)\n",
            "Requirement already satisfied: packaging>=20.0 in /usr/local/lib/python3.10/dist-packages (from matplotlib) (24.2)\n",
            "Requirement already satisfied: pillow>=6.2.0 in /usr/local/lib/python3.10/dist-packages (from matplotlib) (11.0.0)\n",
            "Requirement already satisfied: pyparsing>=2.3.1 in /usr/local/lib/python3.10/dist-packages (from matplotlib) (3.2.0)\n",
            "Requirement already satisfied: python-dateutil>=2.7 in /usr/local/lib/python3.10/dist-packages (from matplotlib) (2.8.2)\n",
            "Requirement already satisfied: six>=1.5 in /usr/local/lib/python3.10/dist-packages (from python-dateutil>=2.7->matplotlib) (1.16.0)\n"
          ]
        }
      ]
    },
    {
      "cell_type": "code",
      "source": [],
      "metadata": {
        "id": "QifW9JCaq23J"
      },
      "execution_count": null,
      "outputs": []
    },
    {
      "cell_type": "code",
      "source": [
        "import pandas as pd\n",
        "import matplotlib.pyplot as plt\n",
        "import chardet\n",
        "\n",
        "# Detecta a codificação\n",
        "with open(\"/content/votacao_candidato_414.csv\", 'rb') as rawdata:\n",
        "    result = chardet.detect(rawdata.read(100000))\n",
        "\n",
        "print(f\"Codificação detectada: {result['encoding']}\")\n",
        "\n",
        "# Carrega o CSV com a codificação e o separador corretos\n",
        "df_414 = pd.read_csv(\"/content/votacao_candidato_414.csv\", encoding=result['encoding'], sep=\";\")\n",
        "\n",
        "# Agrupa por partido e soma os votos nominais\n",
        "df_agregado_414 = df_414.groupby('Partido')['Votos nominais'].sum().reset_index()\n",
        "\n",
        "# Ordena os dados para o gráfico (opcional, mas recomendado)\n",
        "df_agregado_414 = df_agregado_414.sort_values('Votos nominais', ascending=False)\n",
        "\n",
        "\n",
        "\n",
        "# Cria o gráfico\n",
        "plt.figure(figsize=(12, 6))\n",
        "bars = plt.bar(df_agregado_414['Partido'], df_agregado_414['Votos nominais'], color=plt.colormaps['tab20'].colors)\n",
        "\n",
        "plt.xlabel('Partido', fontsize=12)\n",
        "plt.ylabel('Soma de Votos Nominais', fontsize=12)\n",
        "plt.title('Votos Nominais por Partido - SBC - Zona 414 - Eleição 2022 - Dep. Estadual', fontsize=14)\n",
        "plt.xticks(rotation=90, ha='right')\n",
        "plt.tight_layout()\n",
        "plt.grid(axis='y', linestyle='--', alpha=0.7)\n",
        "\n",
        "\n",
        "for bar in bars:\n",
        "    height = bar.get_height()\n",
        "    plt.text(bar.get_x() + bar.get_width()/2., height,\n",
        "             f'{height:.0f}', ha='center', va='bottom')\n",
        "\n",
        "\n",
        "plt.show()"
      ],
      "metadata": {
        "colab": {
          "base_uri": "https://localhost:8080/",
          "height": 501
        },
        "outputId": "25eca6e8-4788-4b62-ce0b-eeaf62ca8d4d",
        "id": "zzeEfg6gwsII"
      },
      "execution_count": 15,
      "outputs": [
        {
          "output_type": "stream",
          "name": "stdout",
          "text": [
            "Codificação detectada: ISO-8859-1\n"
          ]
        },
        {
          "output_type": "display_data",
          "data": {
            "text/plain": [
              "<Figure size 1200x600 with 1 Axes>"
            ],
            "image/png": "[encoded data removed]"
          },
          "metadata": {}
        }
      ]
    }
  ]
}